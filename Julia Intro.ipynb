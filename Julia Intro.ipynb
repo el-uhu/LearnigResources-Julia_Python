{
 "cells": [
  {
   "cell_type": "markdown",
   "metadata": {},
   "source": [
    "#Intro to some of the more peculiar aspects of Julia\n",
    "##... Introspection, Types, Multiple Dispatch, Metaprogramming"
   ]
  },
  {
   "cell_type": "markdown",
   "metadata": {},
   "source": [
    "Julia Documentation: http://julia.readthedocs.org/en/latest/manual/introduction/\n",
    "\n",
    "##Introspection\n",
    "\n",
    "Most of julia is written in itself. This means, that the best resource for learning how julia works is it's source code.\n",
    "To help you understand it a little bit better, and to make the source code accessible to you, Julia comes packed with a set of tools for introspection.\n",
    "\n",
    "####Access the docstrings:\n",
    "```julia\n",
    "\n",
    "? func_name\n",
    "\n",
    "```\n",
    "\n",
    "####Some helpful functions related to introspection:\n"
   ]
  },
  {
   "cell_type": "code",
   "execution_count": 22,
   "metadata": {
    "collapsed": false
   },
   "outputs": [
    {
     "name": "stdout",
     "output_type": "stream",
     "text": [
      "Base.@which()\n",
      "\n",
      "   Evaluates the arguments to the function call, determines their\n",
      "   types, and calls the \"which\" function on the resulting expression\n"
     ]
    }
   ],
   "source": [
    "? @which"
   ]
  },
  {
   "cell_type": "code",
   "execution_count": 23,
   "metadata": {
    "collapsed": false
   },
   "outputs": [
    {
     "data": {
      "text/html": [
       "+(x::<b>Int64</b>,y::<b>Int64</b>) at <a href=\"https://github.com/JuliaLang/julia/tree/8cea71e92ae765872c86c4c5caf1784d12f2eda6/base/int.jl#L12\" target=\"_blank\">int.jl:12</a>"
      ],
      "text/plain": [
       "+(x::Int64,y::Int64) at int.jl:12"
      ]
     },
     "execution_count": 23,
     "metadata": {},
     "output_type": "execute_result"
    }
   ],
   "source": [
    "@which 2+2"
   ]
  },
  {
   "cell_type": "code",
   "execution_count": 17,
   "metadata": {
    "collapsed": false
   },
   "outputs": [
    {
     "name": "stdout",
     "output_type": "stream",
     "text": [
      "Base.methods(f[, types])\n",
      "\n",
      "   Show all methods of \"f\" with their argument types.\n",
      "\n",
      "   If \"types\" is specified, an array of methods whose types match is\n",
      "   returned.\n"
     ]
    }
   ],
   "source": [
    "? methods"
   ]
  },
  {
   "cell_type": "markdown",
   "metadata": {},
   "source": [
    "#Typesystem\n",
    "Julia has a rich type system and actually cares quite a lot about the types passed to arguments. This is aprt of their recipe to achieve speed. Functions can be optimised to meet the demands of specific combinations of input-argument-types. *->Multiple Dispatch, more on that later*\n",
    "\n",
    "To render specification of such functions, which are tailored to specific types more convenient, Julia implements a tree-like type hierarchy. **Concrete types** are the endpoint of branches in this tree, which in turn are specified by **abstract types**.\n",
    "\n",
    "Julia's type tree: https://gist.githubusercontent.com/tanmaykm/5088310/raw/julia_type_tree.txt"
   ]
  },
  {
   "cell_type": "code",
   "execution_count": 32,
   "metadata": {
    "collapsed": false
   },
   "outputs": [
    {
     "name": "stdout",
     "output_type": "stream",
     "text": [
      "Base.typeof(x)\n",
      "\n",
      "   Get the concrete type of \"x\".\n"
     ]
    }
   ],
   "source": [
    "? typeof"
   ]
  },
  {
   "cell_type": "code",
   "execution_count": 35,
   "metadata": {
    "collapsed": false
   },
   "outputs": [
    {
     "data": {
      "text/plain": [
       "Int64"
      ]
     },
     "execution_count": 35,
     "metadata": {},
     "output_type": "execute_result"
    }
   ],
   "source": [
    "typeof(2)"
   ]
  },
  {
   "cell_type": "markdown",
   "metadata": {},
   "source": [
    "###Subtypes and Supertypes"
   ]
  },
  {
   "cell_type": "code",
   "execution_count": 39,
   "metadata": {
    "collapsed": false
   },
   "outputs": [
    {
     "name": "stdout",
     "output_type": "stream",
     "text": [
      "Base.issubtype(type1, type2)\n",
      "\n",
      "   True if and only if all values of \"type1\" are also of \"type2\".\n",
      "   Can also be written using the \"<:\" infix operator as \"type1 <:\n",
      "   type2\".\n"
     ]
    }
   ],
   "source": [
    "? <:"
   ]
  },
  {
   "cell_type": "code",
   "execution_count": 42,
   "metadata": {
    "collapsed": false
   },
   "outputs": [
    {
     "data": {
      "text/plain": [
       "true"
      ]
     },
     "execution_count": 42,
     "metadata": {},
     "output_type": "execute_result"
    }
   ],
   "source": [
    "typeof(2) <: Number"
   ]
  },
  {
   "cell_type": "code",
   "execution_count": 45,
   "metadata": {
    "collapsed": false
   },
   "outputs": [
    {
     "data": {
      "text/plain": [
       "true"
      ]
     },
     "execution_count": 45,
     "metadata": {},
     "output_type": "execute_result"
    }
   ],
   "source": [
    "typeof(2) <: Integer"
   ]
  },
  {
   "cell_type": "code",
   "execution_count": 47,
   "metadata": {
    "collapsed": false
   },
   "outputs": [
    {
     "name": "stdout",
     "output_type": "stream",
     "text": [
      "Base.super(T::DataType)\n",
      "\n",
      "   Return the supertype of DataType T\n"
     ]
    }
   ],
   "source": [
    "? super"
   ]
  },
  {
   "cell_type": "code",
   "execution_count": 50,
   "metadata": {
    "collapsed": false
   },
   "outputs": [
    {
     "data": {
      "text/plain": [
       "Signed"
      ]
     },
     "execution_count": 50,
     "metadata": {},
     "output_type": "execute_result"
    }
   ],
   "source": [
    "super(Int64)"
   ]
  },
  {
   "cell_type": "code",
   "execution_count": 52,
   "metadata": {
    "collapsed": false
   },
   "outputs": [
    {
     "data": {
      "text/plain": [
       "Integer"
      ]
     },
     "execution_count": 52,
     "metadata": {},
     "output_type": "execute_result"
    }
   ],
   "source": [
    "super(Signed)"
   ]
  },
  {
   "cell_type": "code",
   "execution_count": 55,
   "metadata": {
    "collapsed": false
   },
   "outputs": [
    {
     "data": {
      "text/plain": [
       "Real"
      ]
     },
     "execution_count": 55,
     "metadata": {},
     "output_type": "execute_result"
    }
   ],
   "source": [
    "super(Integer)"
   ]
  },
  {
   "cell_type": "code",
   "execution_count": 58,
   "metadata": {
    "collapsed": false
   },
   "outputs": [
    {
     "data": {
      "text/plain": [
       "Number"
      ]
     },
     "execution_count": 58,
     "metadata": {},
     "output_type": "execute_result"
    }
   ],
   "source": [
    "super(Real)"
   ]
  },
  {
   "cell_type": "markdown",
   "metadata": {},
   "source": [
    "**The Root of the type system**"
   ]
  },
  {
   "cell_type": "code",
   "execution_count": 69,
   "metadata": {
    "collapsed": false
   },
   "outputs": [
    {
     "data": {
      "text/plain": [
       "Any"
      ]
     },
     "execution_count": 69,
     "metadata": {},
     "output_type": "execute_result"
    }
   ],
   "source": [
    "super(Number)"
   ]
  },
  {
   "cell_type": "code",
   "execution_count": 70,
   "metadata": {
    "collapsed": false
   },
   "outputs": [
    {
     "data": {
      "text/plain": [
       "Any"
      ]
     },
     "execution_count": 70,
     "metadata": {},
     "output_type": "execute_result"
    }
   ],
   "source": [
    "super(Any)"
   ]
  },
  {
   "cell_type": "markdown",
   "metadata": {},
   "source": [
    "###Exercise: Traverse the Type-Tree\n",
    "Write a function that returns all the abstract supertypes of a given concrete type."
   ]
  },
  {
   "cell_type": "code",
   "execution_count": 66,
   "metadata": {
    "collapsed": false
   },
   "outputs": [
    {
     "data": {
      "text/plain": [
       "squirrel (generic function with 1 method)"
      ]
     },
     "execution_count": 66,
     "metadata": {},
     "output_type": "execute_result"
    }
   ],
   "source": [
    "function squirrel(x::Type)\n",
    "    s = super(x)\n",
    "    println(s)\n",
    "    if s != Any\n",
    "        squirrel(s)\n",
    "    end\n",
    "end"
   ]
  },
  {
   "cell_type": "code",
   "execution_count": 68,
   "metadata": {
    "collapsed": false
   },
   "outputs": [
    {
     "name": "stdout",
     "output_type": "stream",
     "text": [
      "FloatingPoint\n",
      "Real\n",
      "Number\n",
      "Any\n"
     ]
    }
   ],
   "source": [
    "squirrel(Float64)"
   ]
  },
  {
   "cell_type": "markdown",
   "metadata": {},
   "source": [
    "###User defined types"
   ]
  },
  {
   "cell_type": "code",
   "execution_count": 78,
   "metadata": {
    "collapsed": true
   },
   "outputs": [],
   "source": [
    "#a new branch\n",
    "\n",
    "abstract myBranch <: Any\n",
    "abstract myTwig <: myBranch"
   ]
  },
  {
   "cell_type": "code",
   "execution_count": 80,
   "metadata": {
    "collapsed": false
   },
   "outputs": [
    {
     "ename": "LoadError",
     "evalue": "invalid redefinition of constant Leaf\nwhile loading In[80], in expression starting on line 2",
     "output_type": "error",
     "traceback": [
      "invalid redefinition of constant Leaf\nwhile loading In[80], in expression starting on line 2",
      ""
     ]
    }
   ],
   "source": [
    "# a new leaf\n",
    "type Leaf <: myTwig\n",
    "    color::String\n",
    "    shape::Integer\n",
    "end"
   ]
  },
  {
   "cell_type": "code",
   "execution_count": 76,
   "metadata": {
    "collapsed": false
   },
   "outputs": [
    {
     "data": {
      "text/plain": [
       "Leaf(\"green\",5)"
      ]
     },
     "execution_count": 76,
     "metadata": {},
     "output_type": "execute_result"
    }
   ],
   "source": [
    "Leaf(\"green\", 5)"
   ]
  },
  {
   "cell_type": "code",
   "execution_count": 77,
   "metadata": {
    "collapsed": false
   },
   "outputs": [
    {
     "name": "stdout",
     "output_type": "stream",
     "text": [
      "myBranch\n",
      "Any\n"
     ]
    }
   ],
   "source": [
    "squirrel(Leaf)"
   ]
  },
  {
   "cell_type": "code",
   "execution_count": 20,
   "metadata": {
    "collapsed": false
   },
   "outputs": [
    {
     "name": "stdout",
     "output_type": "stream",
     "text": [
      "Base.names(x::Module[, all=false[, imported=false]])\n",
      "\n",
      "   Get an array of the names exported by a module, with optionally\n",
      "   more module globals according to the additional parameters.\n",
      "\n",
      "Base.names(x::DataType)\n",
      "\n",
      "   Get an array of the fields of a data type.\n"
     ]
    }
   ],
   "source": [
    "? names"
   ]
  },
  {
   "cell_type": "code",
   "execution_count": 1,
   "metadata": {
    "collapsed": false
   },
   "outputs": [
    {
     "ename": "LoadError",
     "evalue": "Leaf not defined\nwhile loading In[1], in expression starting on line 1",
     "output_type": "error",
     "traceback": [
      "Leaf not defined\nwhile loading In[1], in expression starting on line 1",
      ""
     ]
    }
   ],
   "source": [
    "names(Leaf)"
   ]
  },
  {
   "cell_type": "code",
   "execution_count": 82,
   "metadata": {
    "collapsed": false
   },
   "outputs": [
    {
     "ename": "LoadError",
     "evalue": "invalid redefinition of constant Measure\nwhile loading In[82], in expression starting on line 2",
     "output_type": "error",
     "traceback": [
      "invalid redefinition of constant Measure\nwhile loading In[82], in expression starting on line 2",
      ""
     ]
    }
   ],
   "source": [
    "#parametric types: Declaring a vast number of types at once\n",
    "type Measure{T}\n",
    "    qty::T\n",
    "    unit::String\n",
    "end"
   ]
  },
  {
   "cell_type": "code",
   "execution_count": 85,
   "metadata": {
    "collapsed": false
   },
   "outputs": [
    {
     "data": {
      "text/plain": [
       "Measure{Float64}(20.0,\"m\")"
      ]
     },
     "execution_count": 85,
     "metadata": {},
     "output_type": "execute_result"
    }
   ],
   "source": [
    "length = Measure{Float64}(20., \"m\")"
   ]
  },
  {
   "cell_type": "code",
   "execution_count": 86,
   "metadata": {
    "collapsed": false
   },
   "outputs": [
    {
     "data": {
      "text/plain": [
       "Measure{Leaf}(Leaf(\"teal\",20),\"meaninglessLeafUnit\")"
      ]
     },
     "execution_count": 86,
     "metadata": {},
     "output_type": "execute_result"
    }
   ],
   "source": [
    "imaginaryLeafMeasure = Measure{Leaf}(Leaf(\"teal\", 20), \"meaninglessLeafUnit\")"
   ]
  },
  {
   "cell_type": "markdown",
   "metadata": {},
   "source": [
    "\n",
    "#Multiple Dispatch\n",
    "\n",
    "https://en.wikipedia.org/wiki/Multiple_dispatch\n",
    "\n",
    "\n",
    "Functions can behave differently based on the types of their input arguments. Think: operator overloading!\n",
    "\n"
   ]
  },
  {
   "cell_type": "code",
   "execution_count": 14,
   "metadata": {
    "collapsed": false
   },
   "outputs": [
    {
     "data": {
      "text/html": [
       "*(x::<b>Int64</b>,y::<b>Int64</b>) at <a href=\"https://github.com/JuliaLang/julia/tree/8cea71e92ae765872c86c4c5caf1784d12f2eda6/base/int.jl#L14\" target=\"_blank\">int.jl:14</a>"
      ],
      "text/plain": [
       "*(x::Int64,y::Int64) at int.jl:14"
      ]
     },
     "execution_count": 14,
     "metadata": {},
     "output_type": "execute_result"
    }
   ],
   "source": [
    "@which 2*2"
   ]
  },
  {
   "cell_type": "code",
   "execution_count": 15,
   "metadata": {
    "collapsed": false
   },
   "outputs": [
    {
     "data": {
      "text/html": [
       "*(s::<b>AbstractString...</b>) at <a href=\"https://github.com/JuliaLang/julia/tree/8cea71e92ae765872c86c4c5caf1784d12f2eda6/base/string.jl#L76\" target=\"_blank\">string.jl:76</a>"
      ],
      "text/plain": [
       "*(s::AbstractString...) at string.jl:76"
      ]
     },
     "execution_count": 15,
     "metadata": {},
     "output_type": "execute_result"
    }
   ],
   "source": [
    "@which \"a\"*\"b\""
   ]
  },
  {
   "cell_type": "markdown",
   "metadata": {},
   "source": [
    "###Type Conversion"
   ]
  },
  {
   "cell_type": "code",
   "execution_count": 10,
   "metadata": {
    "collapsed": false
   },
   "outputs": [
    {
     "name": "stdout",
     "output_type": "stream",
     "text": [
      "Base.convert(T, x)\n",
      "\n",
      "   Convert \"x\" to a value of type \"T\".\n",
      "\n",
      "   If \"T\" is an \"Integer\" type, an \"InexactError\" will be raised\n",
      "   if \"x\" is not representable by \"T\", for example if \"x\" is not\n",
      "   integer-valued, or is outside the range supported by \"T\".\n",
      "\n",
      "      julia> convert(Int, 3.0)\n",
      "      3\n",
      "\n",
      "      julia> convert(Int, 3.5)\n",
      "      ERROR: InexactError()\n",
      "       in convert at int.jl:185\n",
      "\n",
      "   If \"T\" is a \"FloatingPoint\" or \"Rational\" type, then it will\n",
      "   return the closest value to \"x\" representable by \"T\".\n",
      "\n",
      "      julia> x = 1/3\n",
      "      0.3333333333333333\n",
      "\n",
      "      julia> convert(Float32, x)\n",
      "      0.33333334f0\n",
      "\n",
      "      julia> convert(Rational{Int32}, x)\n",
      "      1//3\n",
      "\n",
      "      julia> convert(Rational{Int64}, x)\n",
      "      6004799503160661//18014398509481984\n"
     ]
    }
   ],
   "source": [
    "? convert"
   ]
  },
  {
   "cell_type": "code",
   "execution_count": 24,
   "metadata": {
    "collapsed": true
   },
   "outputs": [
    {
     "data": {
      "text/html": [
       "488 methods for generic function <b>convert</b>:<ul><li> convert(::<b>()</b>,::<b>()</b>) at <a href=\"https://github.com/JuliaLang/julia/tree/8cea71e92ae765872c86c4c5caf1784d12f2eda6/base/base.jl#L38\" target=\"_blank\">base.jl:38</a><li> convert(::<b>Type{(Any...,)}</b>,x::<b>(Any...,)</b>) at <a href=\"https://github.com/JuliaLang/julia/tree/8cea71e92ae765872c86c4c5caf1784d12f2eda6/base/base.jl#L39\" target=\"_blank\">base.jl:39</a><li> convert<i>{T}</i>(::<b>Type{(T...,)}</b>,x::<b>(Any...,)</b>) at <a href=\"https://github.com/JuliaLang/julia/tree/8cea71e92ae765872c86c4c5caf1784d12f2eda6/base/base.jl#L49\" target=\"_blank\">base.jl:49</a><li> convert(T::<b>(Type{T<:Top},Type{T<:Top}...)</b>,x::<b>(Any,Any...)</b>) at <a href=\"https://github.com/JuliaLang/julia/tree/8cea71e92ae765872c86c4c5caf1784d12f2eda6/base/base.jl#L44\" target=\"_blank\">base.jl:44</a><li> convert<i>{T}</i>(::<b>Type{FloatRange{T}}</b>,r::<b>FloatRange{T<:FloatingPoint}</b>) at <a href=\"https://github.com/JuliaLang/julia/tree/8cea71e92ae765872c86c4c5caf1784d12f2eda6/base/range.jl#L468\" target=\"_blank\">range.jl:468</a><li> convert<i>{T}</i>(::<b>Type{FloatRange{T}}</b>,r::<b>OrdinalRange{T,S}</b>) at <a href=\"https://github.com/JuliaLang/julia/tree/8cea71e92ae765872c86c4c5caf1784d12f2eda6/base/range.jl#L473\" target=\"_blank\">range.jl:473</a><li> convert<i>{T}</i>(::<b>Type{Array{T,1}}</b>,r::<b>Range{T}</b>) at <a href=\"https://github.com/JuliaLang/julia/tree/8cea71e92ae765872c86c4c5caf1784d12f2eda6/base/range.jl#L508\" target=\"_blank\">range.jl:508</a><li> convert(::<b>Type{Bool}</b>,x::<b>Bool</b>) at <a href=\"https://github.com/JuliaLang/julia/tree/8cea71e92ae765872c86c4c5caf1784d12f2eda6/base/bool.jl#L3\" target=\"_blank\">bool.jl:3</a><li> convert(::<b>Type{Bool}</b>,x::<b>Rational{T<:Integer}</b>) at <a href=\"https://github.com/JuliaLang/julia/tree/8cea71e92ae765872c86c4c5caf1784d12f2eda6/base/rational.jl#L64\" target=\"_blank\">rational.jl:64</a><li> convert(::<b>Type{Bool}</b>,x::<b>Float16</b>) at <a href=\"https://github.com/JuliaLang/julia/tree/8cea71e92ae765872c86c4c5caf1784d12f2eda6/base/float16.jl#L99\" target=\"_blank\">float16.jl:99</a><li> convert(::<b>Type{Bool}</b>,x::<b>Base.MPFR.BigFloat</b>) at <a href=\"https://github.com/JuliaLang/julia/tree/8cea71e92ae765872c86c4c5caf1784d12f2eda6/base/mpfr.jl#L154\" target=\"_blank\">mpfr.jl:154</a><li> convert(::<b>Type{Bool}</b>,x::<b>Real</b>) at <a href=\"https://github.com/JuliaLang/julia/tree/8cea71e92ae765872c86c4c5caf1784d12f2eda6/base/bool.jl#L4\" target=\"_blank\">bool.jl:4</a><li> convert(::<b>Type{Int8}</b>,x::<b>UInt8</b>) at <a href=\"https://github.com/JuliaLang/julia/tree/8cea71e92ae765872c86c4c5caf1784d12f2eda6/base/int.jl#L169\" target=\"_blank\">int.jl:169</a><li> convert(::<b>Type{Int8}</b>,x::<b>Int16</b>) at <a href=\"https://github.com/JuliaLang/julia/tree/8cea71e92ae765872c86c4c5caf1784d12f2eda6/base/int.jl#L154\" target=\"_blank\">int.jl:154</a><li> convert(::<b>Type{Int8}</b>,x::<b>UInt16</b>) at <a href=\"https://github.com/JuliaLang/julia/tree/8cea71e92ae765872c86c4c5caf1784d12f2eda6/base/int.jl#L154\" target=\"_blank\">int.jl:154</a><li> convert(::<b>Type{Int8}</b>,x::<b>Int32</b>) at <a href=\"https://github.com/JuliaLang/julia/tree/8cea71e92ae765872c86c4c5caf1784d12f2eda6/base/int.jl#L154\" target=\"_blank\">int.jl:154</a><li> convert(::<b>Type{Int8}</b>,x::<b>UInt32</b>) at <a href=\"https://github.com/JuliaLang/julia/tree/8cea71e92ae765872c86c4c5caf1784d12f2eda6/base/int.jl#L154\" target=\"_blank\">int.jl:154</a><li> convert(::<b>Type{Int8}</b>,x::<b>Int64</b>) at <a href=\"https://github.com/JuliaLang/julia/tree/8cea71e92ae765872c86c4c5caf1784d12f2eda6/base/int.jl#L154\" target=\"_blank\">int.jl:154</a><li> convert(::<b>Type{Int8}</b>,x::<b>UInt64</b>) at <a href=\"https://github.com/JuliaLang/julia/tree/8cea71e92ae765872c86c4c5caf1784d12f2eda6/base/int.jl#L154\" target=\"_blank\">int.jl:154</a><li> convert(::<b>Type{Int8}</b>,x::<b>Int128</b>) at <a href=\"https://github.com/JuliaLang/julia/tree/8cea71e92ae765872c86c4c5caf1784d12f2eda6/base/int.jl#L154\" target=\"_blank\">int.jl:154</a><li> convert(::<b>Type{Int8}</b>,x::<b>UInt128</b>) at <a href=\"https://github.com/JuliaLang/julia/tree/8cea71e92ae765872c86c4c5caf1784d12f2eda6/base/int.jl#L154\" target=\"_blank\">int.jl:154</a><li> convert(::<b>Type{Int8}</b>,x::<b>Char</b>) at <a href=\"https://github.com/JuliaLang/julia/tree/8cea71e92ae765872c86c4c5caf1784d12f2eda6/base/int.jl#L154\" target=\"_blank\">int.jl:154</a><li> convert(::<b>Type{Int8}</b>,x::<b>Bool</b>) at <a href=\"https://github.com/JuliaLang/julia/tree/8cea71e92ae765872c86c4c5caf1784d12f2eda6/base/int.jl#L163\" target=\"_blank\">int.jl:163</a><li> convert(::<b>Type{UInt8}</b>,x::<b>Int8</b>) at <a href=\"https://github.com/JuliaLang/julia/tree/8cea71e92ae765872c86c4c5caf1784d12f2eda6/base/int.jl#L169\" target=\"_blank\">int.jl:169</a><li> convert(::<b>Type{UInt8}</b>,x::<b>Int16</b>) at <a href=\"https://github.com/JuliaLang/julia/tree/8cea71e92ae765872c86c4c5caf1784d12f2eda6/base/int.jl#L156\" target=\"_blank\">int.jl:156</a><li> convert(::<b>Type{UInt8}</b>,x::<b>UInt16</b>) at <a href=\"https://github.com/JuliaLang/julia/tree/8cea71e92ae765872c86c4c5caf1784d12f2eda6/base/int.jl#L156\" target=\"_blank\">int.jl:156</a><li> convert(::<b>Type{UInt8}</b>,x::<b>Int32</b>) at <a href=\"https://github.com/JuliaLang/julia/tree/8cea71e92ae765872c86c4c5caf1784d12f2eda6/base/int.jl#L156\" target=\"_blank\">int.jl:156</a><li> convert(::<b>Type{UInt8}</b>,x::<b>UInt32</b>) at <a href=\"https://github.com/JuliaLang/julia/tree/8cea71e92ae765872c86c4c5caf1784d12f2eda6/base/int.jl#L156\" target=\"_blank\">int.jl:156</a><li> convert(::<b>Type{UInt8}</b>,x::<b>Int64</b>) at <a href=\"https://github.com/JuliaLang/julia/tree/8cea71e92ae765872c86c4c5caf1784d12f2eda6/base/int.jl#L156\" target=\"_blank\">int.jl:156</a><li> convert(::<b>Type{UInt8}</b>,x::<b>UInt64</b>) at <a href=\"https://github.com/JuliaLang/julia/tree/8cea71e92ae765872c86c4c5caf1784d12f2eda6/base/int.jl#L156\" target=\"_blank\">int.jl:156</a><li> convert(::<b>Type{UInt8}</b>,x::<b>Int128</b>) at <a href=\"https://github.com/JuliaLang/julia/tree/8cea71e92ae765872c86c4c5caf1784d12f2eda6/base/int.jl#L156\" target=\"_blank\">int.jl:156</a><li> convert(::<b>Type{UInt8}</b>,x::<b>UInt128</b>) at <a href=\"https://github.com/JuliaLang/julia/tree/8cea71e92ae765872c86c4c5caf1784d12f2eda6/base/int.jl#L156\" target=\"_blank\">int.jl:156</a><li> convert(::<b>Type{UInt8}</b>,x::<b>Char</b>) at <a href=\"https://github.com/JuliaLang/julia/tree/8cea71e92ae765872c86c4c5caf1784d12f2eda6/base/int.jl#L156\" target=\"_blank\">int.jl:156</a><li> convert(::<b>Type{UInt8}</b>,x::<b>Bool</b>) at <a href=\"https://github.com/JuliaLang/julia/tree/8cea71e92ae765872c86c4c5caf1784d12f2eda6/base/int.jl#L163\" target=\"_blank\">int.jl:163</a><li> convert(::<b>Type{Int16}</b>,x::<b>Int8</b>) at <a href=\"https://github.com/JuliaLang/julia/tree/8cea71e92ae765872c86c4c5caf1784d12f2eda6/base/int.jl#L161\" target=\"_blank\">int.jl:161</a><li> convert(::<b>Type{Int16}</b>,x::<b>UInt8</b>) at <a href=\"https://github.com/JuliaLang/julia/tree/8cea71e92ae765872c86c4c5caf1784d12f2eda6/base/int.jl#L163\" target=\"_blank\">int.jl:163</a><li> convert(::<b>Type{Int16}</b>,x::<b>UInt16</b>) at <a href=\"https://github.com/JuliaLang/julia/tree/8cea71e92ae765872c86c4c5caf1784d12f2eda6/base/int.jl#L169\" target=\"_blank\">int.jl:169</a><li> convert(::<b>Type{Int16}</b>,x::<b>Int32</b>) at <a href=\"https://github.com/JuliaLang/julia/tree/8cea71e92ae765872c86c4c5caf1784d12f2eda6/base/int.jl#L154\" target=\"_blank\">int.jl:154</a><li> convert(::<b>Type{Int16}</b>,x::<b>UInt32</b>) at <a href=\"https://github.com/JuliaLang/julia/tree/8cea71e92ae765872c86c4c5caf1784d12f2eda6/base/int.jl#L154\" target=\"_blank\">int.jl:154</a><li> convert(::<b>Type{Int16}</b>,x::<b>Int64</b>) at <a href=\"https://github.com/JuliaLang/julia/tree/8cea71e92ae765872c86c4c5caf1784d12f2eda6/base/int.jl#L154\" target=\"_blank\">int.jl:154</a><li> convert(::<b>Type{Int16}</b>,x::<b>UInt64</b>) at <a href=\"https://github.com/JuliaLang/julia/tree/8cea71e92ae765872c86c4c5caf1784d12f2eda6/base/int.jl#L154\" target=\"_blank\">int.jl:154</a><li> convert(::<b>Type{Int16}</b>,x::<b>Int128</b>) at <a href=\"https://github.com/JuliaLang/julia/tree/8cea71e92ae765872c86c4c5caf1784d12f2eda6/base/int.jl#L154\" target=\"_blank\">int.jl:154</a><li> convert(::<b>Type{Int16}</b>,x::<b>UInt128</b>) at <a href=\"https://github.com/JuliaLang/julia/tree/8cea71e92ae765872c86c4c5caf1784d12f2eda6/base/int.jl#L154\" target=\"_blank\">int.jl:154</a><li> convert(::<b>Type{Int16}</b>,x::<b>Char</b>) at <a href=\"https://github.com/JuliaLang/julia/tree/8cea71e92ae765872c86c4c5caf1784d12f2eda6/base/int.jl#L154\" target=\"_blank\">int.jl:154</a><li> convert(::<b>Type{Int16}</b>,x::<b>Bool</b>) at <a href=\"https://github.com/JuliaLang/julia/tree/8cea71e92ae765872c86c4c5caf1784d12f2eda6/base/int.jl#L163\" target=\"_blank\">int.jl:163</a><li> convert(::<b>Type{UInt16}</b>,x::<b>Int8</b>) at <a href=\"https://github.com/JuliaLang/julia/tree/8cea71e92ae765872c86c4c5caf1784d12f2eda6/base/int.jl#L161\" target=\"_blank\">int.jl:161</a><li> convert(::<b>Type{UInt16}</b>,x::<b>UInt8</b>) at <a href=\"https://github.com/JuliaLang/julia/tree/8cea71e92ae765872c86c4c5caf1784d12f2eda6/base/int.jl#L163\" target=\"_blank\">int.jl:163</a><li> convert(::<b>Type{UInt16}</b>,x::<b>Int16</b>) at <a href=\"https://github.com/JuliaLang/julia/tree/8cea71e92ae765872c86c4c5caf1784d12f2eda6/base/int.jl#L169\" target=\"_blank\">int.jl:169</a><li> convert(::<b>Type{UInt16}</b>,x::<b>Int32</b>) at <a href=\"https://github.com/JuliaLang/julia/tree/8cea71e92ae765872c86c4c5caf1784d12f2eda6/base/int.jl#L156\" target=\"_blank\">int.jl:156</a><li> convert(::<b>Type{UInt16}</b>,x::<b>UInt32</b>) at <a href=\"https://github.com/JuliaLang/julia/tree/8cea71e92ae765872c86c4c5caf1784d12f2eda6/base/int.jl#L156\" target=\"_blank\">int.jl:156</a><li> convert(::<b>Type{UInt16}</b>,x::<b>Int64</b>) at <a href=\"https://github.com/JuliaLang/julia/tree/8cea71e92ae765872c86c4c5caf1784d12f2eda6/base/int.jl#L156\" target=\"_blank\">int.jl:156</a><li> convert(::<b>Type{UInt16}</b>,x::<b>UInt64</b>) at <a href=\"https://github.com/JuliaLang/julia/tree/8cea71e92ae765872c86c4c5caf1784d12f2eda6/base/int.jl#L156\" target=\"_blank\">int.jl:156</a><li> convert(::<b>Type{UInt16}</b>,x::<b>Int128</b>) at <a href=\"https://github.com/JuliaLang/julia/tree/8cea71e92ae765872c86c4c5caf1784d12f2eda6/base/int.jl#L156\" target=\"_blank\">int.jl:156</a><li> convert(::<b>Type{UInt16}</b>,x::<b>UInt128</b>) at <a href=\"https://github.com/JuliaLang/julia/tree/8cea71e92ae765872c86c4c5caf1784d12f2eda6/base/int.jl#L156\" target=\"_blank\">int.jl:156</a><li> convert(::<b>Type{UInt16}</b>,x::<b>Char</b>) at <a href=\"https://github.com/JuliaLang/julia/tree/8cea71e92ae765872c86c4c5caf1784d12f2eda6/base/int.jl#L156\" target=\"_blank\">int.jl:156</a><li> convert(::<b>Type{UInt16}</b>,x::<b>Bool</b>) at <a href=\"https://github.com/JuliaLang/julia/tree/8cea71e92ae765872c86c4c5caf1784d12f2eda6/base/int.jl#L163\" target=\"_blank\">int.jl:163</a><li> convert(::<b>Type{Int32}</b>,x::<b>Int8</b>) at <a href=\"https://github.com/JuliaLang/julia/tree/8cea71e92ae765872c86c4c5caf1784d12f2eda6/base/int.jl#L161\" target=\"_blank\">int.jl:161</a><li> convert(::<b>Type{Int32}</b>,x::<b>UInt8</b>) at <a href=\"https://github.com/JuliaLang/julia/tree/8cea71e92ae765872c86c4c5caf1784d12f2eda6/base/int.jl#L163\" target=\"_blank\">int.jl:163</a><li> convert(::<b>Type{Int32}</b>,x::<b>Int16</b>) at <a href=\"https://github.com/JuliaLang/julia/tree/8cea71e92ae765872c86c4c5caf1784d12f2eda6/base/int.jl#L161\" target=\"_blank\">int.jl:161</a><li> convert(::<b>Type{Int32}</b>,x::<b>UInt16</b>) at <a href=\"https://github.com/JuliaLang/julia/tree/8cea71e92ae765872c86c4c5caf1784d12f2eda6/base/int.jl#L163\" target=\"_blank\">int.jl:163</a><li> convert(::<b>Type{Int32}</b>,x::<b>UInt32</b>) at <a href=\"https://github.com/JuliaLang/julia/tree/8cea71e92ae765872c86c4c5caf1784d12f2eda6/base/int.jl#L169\" target=\"_blank\">int.jl:169</a><li> convert(::<b>Type{Int32}</b>,x::<b>Int64</b>) at <a href=\"https://github.com/JuliaLang/julia/tree/8cea71e92ae765872c86c4c5caf1784d12f2eda6/base/int.jl#L154\" target=\"_blank\">int.jl:154</a><li> convert(::<b>Type{Int32}</b>,x::<b>UInt64</b>) at <a href=\"https://github.com/JuliaLang/julia/tree/8cea71e92ae765872c86c4c5caf1784d12f2eda6/base/int.jl#L154\" target=\"_blank\">int.jl:154</a><li> convert(::<b>Type{Int32}</b>,x::<b>Int128</b>) at <a href=\"https://github.com/JuliaLang/julia/tree/8cea71e92ae765872c86c4c5caf1784d12f2eda6/base/int.jl#L154\" target=\"_blank\">int.jl:154</a><li> convert(::<b>Type{Int32}</b>,x::<b>UInt128</b>) at <a href=\"https://github.com/JuliaLang/julia/tree/8cea71e92ae765872c86c4c5caf1784d12f2eda6/base/int.jl#L154\" target=\"_blank\">int.jl:154</a><li> convert(::<b>Type{Int32}</b>,x::<b>Char</b>) at <a href=\"https://github.com/JuliaLang/julia/tree/8cea71e92ae765872c86c4c5caf1784d12f2eda6/base/int.jl#L169\" target=\"_blank\">int.jl:169</a><li> convert(::<b>Type{Int32}</b>,x::<b>Bool</b>) at <a href=\"https://github.com/JuliaLang/julia/tree/8cea71e92ae765872c86c4c5caf1784d12f2eda6/base/int.jl#L163\" target=\"_blank\">int.jl:163</a><li> convert(::<b>Type{UInt32}</b>,x::<b>Int8</b>) at <a href=\"https://github.com/JuliaLang/julia/tree/8cea71e92ae765872c86c4c5caf1784d12f2eda6/base/int.jl#L161\" target=\"_blank\">int.jl:161</a><li> convert(::<b>Type{UInt32}</b>,x::<b>UInt8</b>) at <a href=\"https://github.com/JuliaLang/julia/tree/8cea71e92ae765872c86c4c5caf1784d12f2eda6/base/int.jl#L163\" target=\"_blank\">int.jl:163</a><li> convert(::<b>Type{UInt32}</b>,x::<b>Int16</b>) at <a href=\"https://github.com/JuliaLang/julia/tree/8cea71e92ae765872c86c4c5caf1784d12f2eda6/base/int.jl#L161\" target=\"_blank\">int.jl:161</a><li> convert(::<b>Type{UInt32}</b>,x::<b>UInt16</b>) at <a href=\"https://github.com/JuliaLang/julia/tree/8cea71e92ae765872c86c4c5caf1784d12f2eda6/base/int.jl#L163\" target=\"_blank\">int.jl:163</a><li> convert(::<b>Type{UInt32}</b>,x::<b>Int32</b>) at <a href=\"https://github.com/JuliaLang/julia/tree/8cea71e92ae765872c86c4c5caf1784d12f2eda6/base/int.jl#L169\" target=\"_blank\">int.jl:169</a><li> convert(::<b>Type{UInt32}</b>,x::<b>Int64</b>) at <a href=\"https://github.com/JuliaLang/julia/tree/8cea71e92ae765872c86c4c5caf1784d12f2eda6/base/int.jl#L156\" target=\"_blank\">int.jl:156</a><li> convert(::<b>Type{UInt32}</b>,x::<b>UInt64</b>) at <a href=\"https://github.com/JuliaLang/julia/tree/8cea71e92ae765872c86c4c5caf1784d12f2eda6/base/int.jl#L156\" target=\"_blank\">int.jl:156</a><li> convert(::<b>Type{UInt32}</b>,x::<b>Int128</b>) at <a href=\"https://github.com/JuliaLang/julia/tree/8cea71e92ae765872c86c4c5caf1784d12f2eda6/base/int.jl#L156\" target=\"_blank\">int.jl:156</a><li> convert(::<b>Type{UInt32}</b>,x::<b>UInt128</b>) at <a href=\"https://github.com/JuliaLang/julia/tree/8cea71e92ae765872c86c4c5caf1784d12f2eda6/base/int.jl#L156\" target=\"_blank\">int.jl:156</a><li> convert(::<b>Type{UInt32}</b>,x::<b>Char</b>) at <a href=\"https://github.com/JuliaLang/julia/tree/8cea71e92ae765872c86c4c5caf1784d12f2eda6/base/int.jl#L171\" target=\"_blank\">int.jl:171</a><li> convert(::<b>Type{UInt32}</b>,x::<b>Bool</b>) at <a href=\"https://github.com/JuliaLang/julia/tree/8cea71e92ae765872c86c4c5caf1784d12f2eda6/base/int.jl#L163\" target=\"_blank\">int.jl:163</a><li> convert(::<b>Type{Int64}</b>,x::<b>Int8</b>) at <a href=\"https://github.com/JuliaLang/julia/tree/8cea71e92ae765872c86c4c5caf1784d12f2eda6/base/int.jl#L161\" target=\"_blank\">int.jl:161</a><li> convert(::<b>Type{Int64}</b>,x::<b>UInt8</b>) at <a href=\"https://github.com/JuliaLang/julia/tree/8cea71e92ae765872c86c4c5caf1784d12f2eda6/base/int.jl#L163\" target=\"_blank\">int.jl:163</a><li> convert(::<b>Type{Int64}</b>,x::<b>Int16</b>) at <a href=\"https://github.com/JuliaLang/julia/tree/8cea71e92ae765872c86c4c5caf1784d12f2eda6/base/int.jl#L161\" target=\"_blank\">int.jl:161</a><li> convert(::<b>Type{Int64}</b>,x::<b>UInt16</b>) at <a href=\"https://github.com/JuliaLang/julia/tree/8cea71e92ae765872c86c4c5caf1784d12f2eda6/base/int.jl#L163\" target=\"_blank\">int.jl:163</a><li> convert(::<b>Type{Int64}</b>,x::<b>Int32</b>) at <a href=\"https://github.com/JuliaLang/julia/tree/8cea71e92ae765872c86c4c5caf1784d12f2eda6/base/int.jl#L161\" target=\"_blank\">int.jl:161</a><li> convert(::<b>Type{Int64}</b>,x::<b>UInt32</b>) at <a href=\"https://github.com/JuliaLang/julia/tree/8cea71e92ae765872c86c4c5caf1784d12f2eda6/base/int.jl#L163\" target=\"_blank\">int.jl:163</a><li> convert(::<b>Type{Int64}</b>,x::<b>UInt64</b>) at <a href=\"https://github.com/JuliaLang/julia/tree/8cea71e92ae765872c86c4c5caf1784d12f2eda6/base/int.jl#L169\" target=\"_blank\">int.jl:169</a><li> convert(::<b>Type{Int64}</b>,x::<b>Int128</b>) at <a href=\"https://github.com/JuliaLang/julia/tree/8cea71e92ae765872c86c4c5caf1784d12f2eda6/base/int.jl#L154\" target=\"_blank\">int.jl:154</a><li> convert(::<b>Type{Int64}</b>,x::<b>UInt128</b>) at <a href=\"https://github.com/JuliaLang/julia/tree/8cea71e92ae765872c86c4c5caf1784d12f2eda6/base/int.jl#L154\" target=\"_blank\">int.jl:154</a><li> convert(::<b>Type{Int64}</b>,x::<b>Char</b>) at <a href=\"https://github.com/JuliaLang/julia/tree/8cea71e92ae765872c86c4c5caf1784d12f2eda6/base/int.jl#L163\" target=\"_blank\">int.jl:163</a><li> convert(::<b>Type{Int64}</b>,x::<b>Bool</b>) at <a href=\"https://github.com/JuliaLang/julia/tree/8cea71e92ae765872c86c4c5caf1784d12f2eda6/base/int.jl#L163\" target=\"_blank\">int.jl:163</a><li> convert(::<b>Type{UInt64}</b>,x::<b>Int8</b>) at <a href=\"https://github.com/JuliaLang/julia/tree/8cea71e92ae765872c86c4c5caf1784d12f2eda6/base/int.jl#L161\" target=\"_blank\">int.jl:161</a><li> convert(::<b>Type{UInt64}</b>,x::<b>UInt8</b>) at <a href=\"https://github.com/JuliaLang/julia/tree/8cea71e92ae765872c86c4c5caf1784d12f2eda6/base/int.jl#L163\" target=\"_blank\">int.jl:163</a><li> convert(::<b>Type{UInt64}</b>,x::<b>Int16</b>) at <a href=\"https://github.com/JuliaLang/julia/tree/8cea71e92ae765872c86c4c5caf1784d12f2eda6/base/int.jl#L161\" target=\"_blank\">int.jl:161</a><li> convert(::<b>Type{UInt64}</b>,x::<b>UInt16</b>) at <a href=\"https://github.com/JuliaLang/julia/tree/8cea71e92ae765872c86c4c5caf1784d12f2eda6/base/int.jl#L163\" target=\"_blank\">int.jl:163</a><li> convert(::<b>Type{UInt64}</b>,x::<b>Int32</b>) at <a href=\"https://github.com/JuliaLang/julia/tree/8cea71e92ae765872c86c4c5caf1784d12f2eda6/base/int.jl#L161\" target=\"_blank\">int.jl:161</a><li> convert(::<b>Type{UInt64}</b>,x::<b>UInt32</b>) at <a href=\"https://github.com/JuliaLang/julia/tree/8cea71e92ae765872c86c4c5caf1784d12f2eda6/base/int.jl#L163\" target=\"_blank\">int.jl:163</a><li> convert(::<b>Type{UInt64}</b>,x::<b>Int64</b>) at <a href=\"https://github.com/JuliaLang/julia/tree/8cea71e92ae765872c86c4c5caf1784d12f2eda6/base/int.jl#L169\" target=\"_blank\">int.jl:169</a><li> convert(::<b>Type{UInt64}</b>,x::<b>Int128</b>) at <a href=\"https://github.com/JuliaLang/julia/tree/8cea71e92ae765872c86c4c5caf1784d12f2eda6/base/int.jl#L156\" target=\"_blank\">int.jl:156</a><li> convert(::<b>Type{UInt64}</b>,x::<b>UInt128</b>) at <a href=\"https://github.com/JuliaLang/julia/tree/8cea71e92ae765872c86c4c5caf1784d12f2eda6/base/int.jl#L156\" target=\"_blank\">int.jl:156</a><li> convert(::<b>Type{UInt64}</b>,x::<b>Char</b>) at <a href=\"https://github.com/JuliaLang/julia/tree/8cea71e92ae765872c86c4c5caf1784d12f2eda6/base/int.jl#L163\" target=\"_blank\">int.jl:163</a><li> convert(::<b>Type{UInt64}</b>,x::<b>Bool</b>) at <a href=\"https://github.com/JuliaLang/julia/tree/8cea71e92ae765872c86c4c5caf1784d12f2eda6/base/int.jl#L163\" target=\"_blank\">int.jl:163</a><li> convert(::<b>Type{Int128}</b>,x::<b>Int8</b>) at <a href=\"https://github.com/JuliaLang/julia/tree/8cea71e92ae765872c86c4c5caf1784d12f2eda6/base/int.jl#L161\" target=\"_blank\">int.jl:161</a><li> convert(::<b>Type{Int128}</b>,x::<b>UInt8</b>) at <a href=\"https://github.com/JuliaLang/julia/tree/8cea71e92ae765872c86c4c5caf1784d12f2eda6/base/int.jl#L163\" target=\"_blank\">int.jl:163</a><li> convert(::<b>Type{Int128}</b>,x::<b>Int16</b>) at <a href=\"https://github.com/JuliaLang/julia/tree/8cea71e92ae765872c86c4c5caf1784d12f2eda6/base/int.jl#L161\" target=\"_blank\">int.jl:161</a><li> convert(::<b>Type{Int128}</b>,x::<b>UInt16</b>) at <a href=\"https://github.com/JuliaLang/julia/tree/8cea71e92ae765872c86c4c5caf1784d12f2eda6/base/int.jl#L163\" target=\"_blank\">int.jl:163</a><li> convert(::<b>Type{Int128}</b>,x::<b>Int32</b>) at <a href=\"https://github.com/JuliaLang/julia/tree/8cea71e92ae765872c86c4c5caf1784d12f2eda6/base/int.jl#L161\" target=\"_blank\">int.jl:161</a><li> convert(::<b>Type{Int128}</b>,x::<b>UInt32</b>) at <a href=\"https://github.com/JuliaLang/julia/tree/8cea71e92ae765872c86c4c5caf1784d12f2eda6/base/int.jl#L163\" target=\"_blank\">int.jl:163</a><li> convert(::<b>Type{Int128}</b>,x::<b>Int64</b>) at <a href=\"https://github.com/JuliaLang/julia/tree/8cea71e92ae765872c86c4c5caf1784d12f2eda6/base/int.jl#L161\" target=\"_blank\">int.jl:161</a><li> convert(::<b>Type{Int128}</b>,x::<b>UInt64</b>) at <a href=\"https://github.com/JuliaLang/julia/tree/8cea71e92ae765872c86c4c5caf1784d12f2eda6/base/int.jl#L163\" target=\"_blank\">int.jl:163</a><li> convert(::<b>Type{Int128}</b>,x::<b>UInt128</b>) at <a href=\"https://github.com/JuliaLang/julia/tree/8cea71e92ae765872c86c4c5caf1784d12f2eda6/base/int.jl#L169\" target=\"_blank\">int.jl:169</a><li> convert(::<b>Type{Int128}</b>,x::<b>Char</b>) at <a href=\"https://github.com/JuliaLang/julia/tree/8cea71e92ae765872c86c4c5caf1784d12f2eda6/base/int.jl#L163\" target=\"_blank\">int.jl:163</a><li> convert(::<b>Type{Int128}</b>,x::<b>Bool</b>) at <a href=\"https://github.com/JuliaLang/julia/tree/8cea71e92ae765872c86c4c5caf1784d12f2eda6/base/int.jl#L163\" target=\"_blank\">int.jl:163</a><li> convert(::<b>Type{UInt128}</b>,x::<b>Int8</b>) at <a href=\"https://github.com/JuliaLang/julia/tree/8cea71e92ae765872c86c4c5caf1784d12f2eda6/base/int.jl#L161\" target=\"_blank\">int.jl:161</a><li> convert(::<b>Type{UInt128}</b>,x::<b>UInt8</b>) at <a href=\"https://github.com/JuliaLang/julia/tree/8cea71e92ae765872c86c4c5caf1784d12f2eda6/base/int.jl#L163\" target=\"_blank\">int.jl:163</a><li> convert(::<b>Type{UInt128}</b>,x::<b>Int16</b>) at <a href=\"https://github.com/JuliaLang/julia/tree/8cea71e92ae765872c86c4c5caf1784d12f2eda6/base/int.jl#L161\" target=\"_blank\">int.jl:161</a><li> convert(::<b>Type{UInt128}</b>,x::<b>UInt16</b>) at <a href=\"https://github.com/JuliaLang/julia/tree/8cea71e92ae765872c86c4c5caf1784d12f2eda6/base/int.jl#L163\" target=\"_blank\">int.jl:163</a><li> convert(::<b>Type{UInt128}</b>,x::<b>Int32</b>) at <a href=\"https://github.com/JuliaLang/julia/tree/8cea71e92ae765872c86c4c5caf1784d12f2eda6/base/int.jl#L161\" target=\"_blank\">int.jl:161</a><li> convert(::<b>Type{UInt128}</b>,x::<b>UInt32</b>) at <a href=\"https://github.com/JuliaLang/julia/tree/8cea71e92ae765872c86c4c5caf1784d12f2eda6/base/int.jl#L163\" target=\"_blank\">int.jl:163</a><li> convert(::<b>Type{UInt128}</b>,x::<b>Int64</b>) at <a href=\"https://github.com/JuliaLang/julia/tree/8cea71e92ae765872c86c4c5caf1784d12f2eda6/base/int.jl#L161\" target=\"_blank\">int.jl:161</a><li> convert(::<b>Type{UInt128}</b>,x::<b>UInt64</b>) at <a href=\"https://github.com/JuliaLang/julia/tree/8cea71e92ae765872c86c4c5caf1784d12f2eda6/base/int.jl#L163\" target=\"_blank\">int.jl:163</a><li> convert(::<b>Type{UInt128}</b>,x::<b>Int128</b>) at <a href=\"https://github.com/JuliaLang/julia/tree/8cea71e92ae765872c86c4c5caf1784d12f2eda6/base/int.jl#L169\" target=\"_blank\">int.jl:169</a><li> convert(::<b>Type{UInt128}</b>,x::<b>Char</b>) at <a href=\"https://github.com/JuliaLang/julia/tree/8cea71e92ae765872c86c4c5caf1784d12f2eda6/base/int.jl#L163\" target=\"_blank\">int.jl:163</a><li> convert(::<b>Type{UInt128}</b>,x::<b>Bool</b>) at <a href=\"https://github.com/JuliaLang/julia/tree/8cea71e92ae765872c86c4c5caf1784d12f2eda6/base/int.jl#L163\" target=\"_blank\">int.jl:163</a><li> convert(::<b>Type{Char}</b>,x::<b>Int8</b>) at <a href=\"https://github.com/JuliaLang/julia/tree/8cea71e92ae765872c86c4c5caf1784d12f2eda6/base/int.jl#L161\" target=\"_blank\">int.jl:161</a><li> convert(::<b>Type{Char}</b>,x::<b>UInt8</b>) at <a href=\"https://github.com/JuliaLang/julia/tree/8cea71e92ae765872c86c4c5caf1784d12f2eda6/base/int.jl#L163\" target=\"_blank\">int.jl:163</a><li> convert(::<b>Type{Char}</b>,x::<b>Int16</b>) at <a href=\"https://github.com/JuliaLang/julia/tree/8cea71e92ae765872c86c4c5caf1784d12f2eda6/base/int.jl#L161\" target=\"_blank\">int.jl:161</a><li> convert(::<b>Type{Char}</b>,x::<b>UInt16</b>) at <a href=\"https://github.com/JuliaLang/julia/tree/8cea71e92ae765872c86c4c5caf1784d12f2eda6/base/int.jl#L163\" target=\"_blank\">int.jl:163</a><li> convert(::<b>Type{Char}</b>,x::<b>Int32</b>) at <a href=\"https://github.com/JuliaLang/julia/tree/8cea71e92ae765872c86c4c5caf1784d12f2eda6/base/int.jl#L169\" target=\"_blank\">int.jl:169</a><li> convert(::<b>Type{Char}</b>,x::<b>UInt32</b>) at <a href=\"https://github.com/JuliaLang/julia/tree/8cea71e92ae765872c86c4c5caf1784d12f2eda6/base/int.jl#L171\" target=\"_blank\">int.jl:171</a><li> convert(::<b>Type{Char}</b>,x::<b>Int64</b>) at <a href=\"https://github.com/JuliaLang/julia/tree/8cea71e92ae765872c86c4c5caf1784d12f2eda6/base/int.jl#L156\" target=\"_blank\">int.jl:156</a><li> convert(::<b>Type{Char}</b>,x::<b>UInt64</b>) at <a href=\"https://github.com/JuliaLang/julia/tree/8cea71e92ae765872c86c4c5caf1784d12f2eda6/base/int.jl#L156\" target=\"_blank\">int.jl:156</a><li> convert(::<b>Type{Char}</b>,x::<b>Int128</b>) at <a href=\"https://github.com/JuliaLang/julia/tree/8cea71e92ae765872c86c4c5caf1784d12f2eda6/base/int.jl#L156\" target=\"_blank\">int.jl:156</a><li> convert(::<b>Type{Char}</b>,x::<b>UInt128</b>) at <a href=\"https://github.com/JuliaLang/julia/tree/8cea71e92ae765872c86c4c5caf1784d12f2eda6/base/int.jl#L156\" target=\"_blank\">int.jl:156</a><li> convert(::<b>Type{Char}</b>,x::<b>Bool</b>) at <a href=\"https://github.com/JuliaLang/julia/tree/8cea71e92ae765872c86c4c5caf1784d12f2eda6/base/int.jl#L163\" target=\"_blank\">int.jl:163</a><li> convert(::<b>Type{Int8}</b>,x::<b>Float32</b>) at <a href=\"https://github.com/JuliaLang/julia/tree/8cea71e92ae765872c86c4c5caf1784d12f2eda6/base/int.jl#L184\" target=\"_blank\">int.jl:184</a><li> convert(::<b>Type{Int8}</b>,x::<b>Float64</b>) at <a href=\"https://github.com/JuliaLang/julia/tree/8cea71e92ae765872c86c4c5caf1784d12f2eda6/base/int.jl#L185\" target=\"_blank\">int.jl:185</a><li> convert(::<b>Type{Int16}</b>,x::<b>Float32</b>) at <a href=\"https://github.com/JuliaLang/julia/tree/8cea71e92ae765872c86c4c5caf1784d12f2eda6/base/int.jl#L184\" target=\"_blank\">int.jl:184</a><li> convert(::<b>Type{Int16}</b>,x::<b>Float64</b>) at <a href=\"https://github.com/JuliaLang/julia/tree/8cea71e92ae765872c86c4c5caf1784d12f2eda6/base/int.jl#L185\" target=\"_blank\">int.jl:185</a><li> convert(::<b>Type{Int32}</b>,x::<b>Float32</b>) at <a href=\"https://github.com/JuliaLang/julia/tree/8cea71e92ae765872c86c4c5caf1784d12f2eda6/base/int.jl#L184\" target=\"_blank\">int.jl:184</a><li> convert(::<b>Type{Int32}</b>,x::<b>Float64</b>) at <a href=\"https://github.com/JuliaLang/julia/tree/8cea71e92ae765872c86c4c5caf1784d12f2eda6/base/int.jl#L185\" target=\"_blank\">int.jl:185</a><li> convert(::<b>Type{Int64}</b>,x::<b>Float32</b>) at <a href=\"https://github.com/JuliaLang/julia/tree/8cea71e92ae765872c86c4c5caf1784d12f2eda6/base/int.jl#L184\" target=\"_blank\">int.jl:184</a><li> convert(::<b>Type{Int64}</b>,x::<b>Float64</b>) at <a href=\"https://github.com/JuliaLang/julia/tree/8cea71e92ae765872c86c4c5caf1784d12f2eda6/base/int.jl#L185\" target=\"_blank\">int.jl:185</a><li> convert(::<b>Type{UInt8}</b>,x::<b>Float32</b>) at <a href=\"https://github.com/JuliaLang/julia/tree/8cea71e92ae765872c86c4c5caf1784d12f2eda6/base/int.jl#L191\" target=\"_blank\">int.jl:191</a><li> convert(::<b>Type{UInt8}</b>,x::<b>Float64</b>) at <a href=\"https://github.com/JuliaLang/julia/tree/8cea71e92ae765872c86c4c5caf1784d12f2eda6/base/int.jl#L192\" target=\"_blank\">int.jl:192</a><li> convert(::<b>Type{UInt16}</b>,x::<b>Float32</b>) at <a href=\"https://github.com/JuliaLang/julia/tree/8cea71e92ae765872c86c4c5caf1784d12f2eda6/base/int.jl#L191\" target=\"_blank\">int.jl:191</a><li> convert(::<b>Type{UInt16}</b>,x::<b>Float64</b>) at <a href=\"https://github.com/JuliaLang/julia/tree/8cea71e92ae765872c86c4c5caf1784d12f2eda6/base/int.jl#L192\" target=\"_blank\">int.jl:192</a><li> convert(::<b>Type{UInt32}</b>,x::<b>Float32</b>) at <a href=\"https://github.com/JuliaLang/julia/tree/8cea71e92ae765872c86c4c5caf1784d12f2eda6/base/int.jl#L191\" target=\"_blank\">int.jl:191</a><li> convert(::<b>Type{UInt32}</b>,x::<b>Float64</b>) at <a href=\"https://github.com/JuliaLang/julia/tree/8cea71e92ae765872c86c4c5caf1784d12f2eda6/base/int.jl#L192\" target=\"_blank\">int.jl:192</a><li> convert(::<b>Type{UInt64}</b>,x::<b>Float32</b>) at <a href=\"https://github.com/JuliaLang/julia/tree/8cea71e92ae765872c86c4c5caf1784d12f2eda6/base/int.jl#L191\" target=\"_blank\">int.jl:191</a><li> convert(::<b>Type{UInt64}</b>,x::<b>Float64</b>) at <a href=\"https://github.com/JuliaLang/julia/tree/8cea71e92ae765872c86c4c5caf1784d12f2eda6/base/int.jl#L192\" target=\"_blank\">int.jl:192</a><li> convert(::<b>Type{Int128}</b>,x::<b>Float32</b>) at <a href=\"https://github.com/JuliaLang/julia/tree/8cea71e92ae765872c86c4c5caf1784d12f2eda6/base/int.jl#L199\" target=\"_blank\">int.jl:199</a><li> convert(::<b>Type{Int128}</b>,x::<b>Float64</b>) at <a href=\"https://github.com/JuliaLang/julia/tree/8cea71e92ae765872c86c4c5caf1784d12f2eda6/base/int.jl#L199\" target=\"_blank\">int.jl:199</a><li> convert(::<b>Type{UInt128}</b>,x::<b>Float32</b>) at <a href=\"https://github.com/JuliaLang/julia/tree/8cea71e92ae765872c86c4c5caf1784d12f2eda6/base/int.jl#L199\" target=\"_blank\">int.jl:199</a><li> convert(::<b>Type{UInt128}</b>,x::<b>Float64</b>) at <a href=\"https://github.com/JuliaLang/julia/tree/8cea71e92ae765872c86c4c5caf1784d12f2eda6/base/int.jl#L199\" target=\"_blank\">int.jl:199</a><li> convert(::<b>Type{Signed}</b>,x::<b>UInt8</b>) at <a href=\"https://github.com/JuliaLang/julia/tree/8cea71e92ae765872c86c4c5caf1784d12f2eda6/base/int.jl#L205\" target=\"_blank\">int.jl:205</a><li> convert(::<b>Type{Signed}</b>,x::<b>UInt16</b>) at <a href=\"https://github.com/JuliaLang/julia/tree/8cea71e92ae765872c86c4c5caf1784d12f2eda6/base/int.jl#L206\" target=\"_blank\">int.jl:206</a><li> convert(::<b>Type{Signed}</b>,x::<b>UInt32</b>) at <a href=\"https://github.com/JuliaLang/julia/tree/8cea71e92ae765872c86c4c5caf1784d12f2eda6/base/int.jl#L207\" target=\"_blank\">int.jl:207</a><li> convert(::<b>Type{Signed}</b>,x::<b>UInt64</b>) at <a href=\"https://github.com/JuliaLang/julia/tree/8cea71e92ae765872c86c4c5caf1784d12f2eda6/base/int.jl#L208\" target=\"_blank\">int.jl:208</a><li> convert(::<b>Type{Signed}</b>,x::<b>UInt128</b>) at <a href=\"https://github.com/JuliaLang/julia/tree/8cea71e92ae765872c86c4c5caf1784d12f2eda6/base/int.jl#L209\" target=\"_blank\">int.jl:209</a><li> convert(::<b>Type{Signed}</b>,x::<b>Float32</b>) at <a href=\"https://github.com/JuliaLang/julia/tree/8cea71e92ae765872c86c4c5caf1784d12f2eda6/base/int.jl#L210\" target=\"_blank\">int.jl:210</a><li> convert(::<b>Type{Signed}</b>,x::<b>Float64</b>) at <a href=\"https://github.com/JuliaLang/julia/tree/8cea71e92ae765872c86c4c5caf1784d12f2eda6/base/int.jl#L211\" target=\"_blank\">int.jl:211</a><li> convert(::<b>Type{Signed}</b>,x::<b>Char</b>) at <a href=\"https://github.com/JuliaLang/julia/tree/8cea71e92ae765872c86c4c5caf1784d12f2eda6/base/int.jl#L212\" target=\"_blank\">int.jl:212</a><li> convert(::<b>Type{Signed}</b>,x::<b>Bool</b>) at <a href=\"https://github.com/JuliaLang/julia/tree/8cea71e92ae765872c86c4c5caf1784d12f2eda6/base/int.jl#L213\" target=\"_blank\">int.jl:213</a><li> convert(::<b>Type{Unsigned}</b>,x::<b>Int8</b>) at <a href=\"https://github.com/JuliaLang/julia/tree/8cea71e92ae765872c86c4c5caf1784d12f2eda6/base/int.jl#L215\" target=\"_blank\">int.jl:215</a><li> convert(::<b>Type{Unsigned}</b>,x::<b>Int16</b>) at <a href=\"https://github.com/JuliaLang/julia/tree/8cea71e92ae765872c86c4c5caf1784d12f2eda6/base/int.jl#L216\" target=\"_blank\">int.jl:216</a><li> convert(::<b>Type{Unsigned}</b>,x::<b>Int32</b>) at <a href=\"https://github.com/JuliaLang/julia/tree/8cea71e92ae765872c86c4c5caf1784d12f2eda6/base/int.jl#L217\" target=\"_blank\">int.jl:217</a><li> convert(::<b>Type{Unsigned}</b>,x::<b>Int64</b>) at <a href=\"https://github.com/JuliaLang/julia/tree/8cea71e92ae765872c86c4c5caf1784d12f2eda6/base/int.jl#L218\" target=\"_blank\">int.jl:218</a><li> convert(::<b>Type{Unsigned}</b>,x::<b>Int128</b>) at <a href=\"https://github.com/JuliaLang/julia/tree/8cea71e92ae765872c86c4c5caf1784d12f2eda6/base/int.jl#L219\" target=\"_blank\">int.jl:219</a><li> convert(::<b>Type{Unsigned}</b>,x::<b>Float32</b>) at <a href=\"https://github.com/JuliaLang/julia/tree/8cea71e92ae765872c86c4c5caf1784d12f2eda6/base/int.jl#L220\" target=\"_blank\">int.jl:220</a><li> convert(::<b>Type{Unsigned}</b>,x::<b>Float64</b>) at <a href=\"https://github.com/JuliaLang/julia/tree/8cea71e92ae765872c86c4c5caf1784d12f2eda6/base/int.jl#L221\" target=\"_blank\">int.jl:221</a><li> convert(::<b>Type{Unsigned}</b>,x::<b>Char</b>) at <a href=\"https://github.com/JuliaLang/julia/tree/8cea71e92ae765872c86c4c5caf1784d12f2eda6/base/int.jl#L222\" target=\"_blank\">int.jl:222</a><li> convert(::<b>Type{Unsigned}</b>,x::<b>Bool</b>) at <a href=\"https://github.com/JuliaLang/julia/tree/8cea71e92ae765872c86c4c5caf1784d12f2eda6/base/int.jl#L223\" target=\"_blank\">int.jl:223</a><li> convert(::<b>Type{Integer}</b>,x::<b>Float32</b>) at <a href=\"https://github.com/JuliaLang/julia/tree/8cea71e92ae765872c86c4c5caf1784d12f2eda6/base/int.jl#L225\" target=\"_blank\">int.jl:225</a><li> convert(::<b>Type{Integer}</b>,x::<b>Float64</b>) at <a href=\"https://github.com/JuliaLang/julia/tree/8cea71e92ae765872c86c4c5caf1784d12f2eda6/base/int.jl#L226\" target=\"_blank\">int.jl:226</a><li> convert(::<b>Type{UInt64}</b>,x::<b>Ptr{T}</b>) at <a href=\"https://github.com/JuliaLang/julia/tree/8cea71e92ae765872c86c4c5caf1784d12f2eda6/base/pointer.jl#L6\" target=\"_blank\">pointer.jl:6</a><li> convert<i>{T<:Integer}</i>(::<b>Type{T<:Integer}</b>,x::<b>Ptr{T}</b>) at <a href=\"https://github.com/JuliaLang/julia/tree/8cea71e92ae765872c86c4c5caf1784d12f2eda6/base/pointer.jl#L7\" target=\"_blank\">pointer.jl:7</a><li> convert<i>{T}</i>(::<b>Type{Ptr{T}}</b>,x::<b>Integer</b>) at <a href=\"https://github.com/JuliaLang/julia/tree/8cea71e92ae765872c86c4c5caf1784d12f2eda6/base/pointer.jl#L10\" target=\"_blank\">pointer.jl:10</a><li> convert<i>{T}</i>(::<b>Type{Ptr{T}}</b>,p::<b>Ptr{T}</b>) at <a href=\"https://github.com/JuliaLang/julia/tree/8cea71e92ae765872c86c4c5caf1784d12f2eda6/base/pointer.jl#L13\" target=\"_blank\">pointer.jl:13</a><li> convert<i>{T}</i>(::<b>Type{Ptr{T}}</b>,p::<b>Ptr{T}</b>) at <a href=\"https://github.com/JuliaLang/julia/tree/8cea71e92ae765872c86c4c5caf1784d12f2eda6/base/pointer.jl#L14\" target=\"_blank\">pointer.jl:14</a><li> convert(::<b>Type{Ptr{UInt8}}</b>,x::<b>Symbol</b>) at <a href=\"https://github.com/JuliaLang/julia/tree/8cea71e92ae765872c86c4c5caf1784d12f2eda6/base/pointer.jl#L17\" target=\"_blank\">pointer.jl:17</a><li> convert(::<b>Type{Ptr{Int8}}</b>,x::<b>Symbol</b>) at <a href=\"https://github.com/JuliaLang/julia/tree/8cea71e92ae765872c86c4c5caf1784d12f2eda6/base/pointer.jl#L18\" target=\"_blank\">pointer.jl:18</a><li> convert(::<b>Type{Ptr{UInt8}}</b>,s::<b>Union(ASCIIString,UTF8String)</b>) at <a href=\"https://github.com/JuliaLang/julia/tree/8cea71e92ae765872c86c4c5caf1784d12f2eda6/base/pointer.jl#L19\" target=\"_blank\">pointer.jl:19</a><li> convert(::<b>Type{Ptr{Int8}}</b>,s::<b>Union(ASCIIString,UTF8String)</b>) at <a href=\"https://github.com/JuliaLang/julia/tree/8cea71e92ae765872c86c4c5caf1784d12f2eda6/base/pointer.jl#L20\" target=\"_blank\">pointer.jl:20</a><li> convert(::<b>Type{Ptr{Void}}</b>,a::<b>Array{T,N}</b>) at <a href=\"https://github.com/JuliaLang/julia/tree/8cea71e92ae765872c86c4c5caf1784d12f2eda6/base/pointer.jl#L23\" target=\"_blank\">pointer.jl:23</a><li> convert<i>{T}</i>(::<b>Type{Ptr{T}}</b>,a::<b>Array{T,N}</b>) at <a href=\"https://github.com/JuliaLang/julia/tree/8cea71e92ae765872c86c4c5caf1784d12f2eda6/base/pointer.jl#L22\" target=\"_blank\">pointer.jl:22</a><li> convert(::<b>Type{Float16}</b>,n::<b>Base.GMP.BigInt</b>) at <a href=\"https://github.com/JuliaLang/julia/tree/8cea71e92ae765872c86c4c5caf1784d12f2eda6/base/gmp.jl#L199\" target=\"_blank\">gmp.jl:199</a><li> convert(::<b>Type{Float16}</b>,x::<b>Integer</b>) at <a href=\"https://github.com/JuliaLang/julia/tree/8cea71e92ae765872c86c4c5caf1784d12f2eda6/base/float.jl#L2\" target=\"_blank\">float.jl:2</a><li> convert(::<b>Type{Float32}</b>,x::<b>Int8</b>) at <a href=\"https://github.com/JuliaLang/julia/tree/8cea71e92ae765872c86c4c5caf1784d12f2eda6/base/float.jl#L10\" target=\"_blank\">float.jl:10</a><li> convert(::<b>Type{Float32}</b>,x::<b>Int16</b>) at <a href=\"https://github.com/JuliaLang/julia/tree/8cea71e92ae765872c86c4c5caf1784d12f2eda6/base/float.jl#L10\" target=\"_blank\">float.jl:10</a><li> convert(::<b>Type{Float32}</b>,x::<b>Int32</b>) at <a href=\"https://github.com/JuliaLang/julia/tree/8cea71e92ae765872c86c4c5caf1784d12f2eda6/base/float.jl#L10\" target=\"_blank\">float.jl:10</a><li> convert(::<b>Type{Float32}</b>,x::<b>Int64</b>) at <a href=\"https://github.com/JuliaLang/julia/tree/8cea71e92ae765872c86c4c5caf1784d12f2eda6/base/float.jl#L10\" target=\"_blank\">float.jl:10</a><li> convert(::<b>Type{Float32}</b>,x::<b>Bool</b>) at <a href=\"https://github.com/JuliaLang/julia/tree/8cea71e92ae765872c86c4c5caf1784d12f2eda6/base/float.jl#L16\" target=\"_blank\">float.jl:16</a><li> convert(::<b>Type{Float32}</b>,x::<b>Char</b>) at <a href=\"https://github.com/JuliaLang/julia/tree/8cea71e92ae765872c86c4c5caf1784d12f2eda6/base/float.jl#L16\" target=\"_blank\">float.jl:16</a><li> convert(::<b>Type{Float32}</b>,x::<b>UInt8</b>) at <a href=\"https://github.com/JuliaLang/julia/tree/8cea71e92ae765872c86c4c5caf1784d12f2eda6/base/float.jl#L16\" target=\"_blank\">float.jl:16</a><li> convert(::<b>Type{Float32}</b>,x::<b>UInt16</b>) at <a href=\"https://github.com/JuliaLang/julia/tree/8cea71e92ae765872c86c4c5caf1784d12f2eda6/base/float.jl#L16\" target=\"_blank\">float.jl:16</a><li> convert(::<b>Type{Float32}</b>,x::<b>UInt32</b>) at <a href=\"https://github.com/JuliaLang/julia/tree/8cea71e92ae765872c86c4c5caf1784d12f2eda6/base/float.jl#L16\" target=\"_blank\">float.jl:16</a><li> convert(::<b>Type{Float32}</b>,x::<b>UInt64</b>) at <a href=\"https://github.com/JuliaLang/julia/tree/8cea71e92ae765872c86c4c5caf1784d12f2eda6/base/float.jl#L16\" target=\"_blank\">float.jl:16</a><li> convert(::<b>Type{Float64}</b>,x::<b>Int8</b>) at <a href=\"https://github.com/JuliaLang/julia/tree/8cea71e92ae765872c86c4c5caf1784d12f2eda6/base/float.jl#L10\" target=\"_blank\">float.jl:10</a><li> convert(::<b>Type{Float64}</b>,x::<b>Int16</b>) at <a href=\"https://github.com/JuliaLang/julia/tree/8cea71e92ae765872c86c4c5caf1784d12f2eda6/base/float.jl#L10\" target=\"_blank\">float.jl:10</a><li> convert(::<b>Type{Float64}</b>,x::<b>Int32</b>) at <a href=\"https://github.com/JuliaLang/julia/tree/8cea71e92ae765872c86c4c5caf1784d12f2eda6/base/float.jl#L10\" target=\"_blank\">float.jl:10</a><li> convert(::<b>Type{Float64}</b>,x::<b>Int64</b>) at <a href=\"https://github.com/JuliaLang/julia/tree/8cea71e92ae765872c86c4c5caf1784d12f2eda6/base/float.jl#L10\" target=\"_blank\">float.jl:10</a><li> convert(::<b>Type{Float64}</b>,x::<b>Bool</b>) at <a href=\"https://github.com/JuliaLang/julia/tree/8cea71e92ae765872c86c4c5caf1784d12f2eda6/base/float.jl#L16\" target=\"_blank\">float.jl:16</a><li> convert(::<b>Type{Float64}</b>,x::<b>Char</b>) at <a href=\"https://github.com/JuliaLang/julia/tree/8cea71e92ae765872c86c4c5caf1784d12f2eda6/base/float.jl#L16\" target=\"_blank\">float.jl:16</a><li> convert(::<b>Type{Float64}</b>,x::<b>UInt8</b>) at <a href=\"https://github.com/JuliaLang/julia/tree/8cea71e92ae765872c86c4c5caf1784d12f2eda6/base/float.jl#L16\" target=\"_blank\">float.jl:16</a><li> convert(::<b>Type{Float64}</b>,x::<b>UInt16</b>) at <a href=\"https://github.com/JuliaLang/julia/tree/8cea71e92ae765872c86c4c5caf1784d12f2eda6/base/float.jl#L16\" target=\"_blank\">float.jl:16</a><li> convert(::<b>Type{Float64}</b>,x::<b>UInt32</b>) at <a href=\"https://github.com/JuliaLang/julia/tree/8cea71e92ae765872c86c4c5caf1784d12f2eda6/base/float.jl#L16\" target=\"_blank\">float.jl:16</a><li> convert(::<b>Type{Float64}</b>,x::<b>UInt64</b>) at <a href=\"https://github.com/JuliaLang/julia/tree/8cea71e92ae765872c86c4c5caf1784d12f2eda6/base/float.jl#L16\" target=\"_blank\">float.jl:16</a><li> convert(::<b>Type{Float64}</b>,x::<b>UInt128</b>) at <a href=\"https://github.com/JuliaLang/julia/tree/8cea71e92ae765872c86c4c5caf1784d12f2eda6/base/float.jl#L28\" target=\"_blank\">float.jl:28</a><li> convert(::<b>Type{Float64}</b>,x::<b>Int128</b>) at <a href=\"https://github.com/JuliaLang/julia/tree/8cea71e92ae765872c86c4c5caf1784d12f2eda6/base/float.jl#L42\" target=\"_blank\">float.jl:42</a><li> convert(::<b>Type{Float32}</b>,x::<b>UInt128</b>) at <a href=\"https://github.com/JuliaLang/julia/tree/8cea71e92ae765872c86c4c5caf1784d12f2eda6/base/float.jl#L58\" target=\"_blank\">float.jl:58</a><li> convert(::<b>Type{Float32}</b>,x::<b>Int128</b>) at <a href=\"https://github.com/JuliaLang/julia/tree/8cea71e92ae765872c86c4c5caf1784d12f2eda6/base/float.jl#L72\" target=\"_blank\">float.jl:72</a><li> convert(::<b>Type{Float16}</b>,x::<b>Float64</b>) at <a href=\"https://github.com/JuliaLang/julia/tree/8cea71e92ae765872c86c4c5caf1784d12f2eda6/base/float.jl#L88\" target=\"_blank\">float.jl:88</a><li> convert(::<b>Type{Float32}</b>,x::<b>Float64</b>) at <a href=\"https://github.com/JuliaLang/julia/tree/8cea71e92ae765872c86c4c5caf1784d12f2eda6/base/float.jl#L89\" target=\"_blank\">float.jl:89</a><li> convert(::<b>Type{Float64}</b>,x::<b>Float16</b>) at <a href=\"https://github.com/JuliaLang/julia/tree/8cea71e92ae765872c86c4c5caf1784d12f2eda6/base/float.jl#L92\" target=\"_blank\">float.jl:92</a><li> convert(::<b>Type{Float64}</b>,x::<b>Float32</b>) at <a href=\"https://github.com/JuliaLang/julia/tree/8cea71e92ae765872c86c4c5caf1784d12f2eda6/base/float.jl#L93\" target=\"_blank\">float.jl:93</a><li> convert(::<b>Type{FloatingPoint}</b>,x::<b>Bool</b>) at <a href=\"https://github.com/JuliaLang/julia/tree/8cea71e92ae765872c86c4c5caf1784d12f2eda6/base/float.jl#L95\" target=\"_blank\">float.jl:95</a><li> convert(::<b>Type{FloatingPoint}</b>,x::<b>Char</b>) at <a href=\"https://github.com/JuliaLang/julia/tree/8cea71e92ae765872c86c4c5caf1784d12f2eda6/base/float.jl#L96\" target=\"_blank\">float.jl:96</a><li> convert(::<b>Type{FloatingPoint}</b>,x::<b>Int8</b>) at <a href=\"https://github.com/JuliaLang/julia/tree/8cea71e92ae765872c86c4c5caf1784d12f2eda6/base/float.jl#L97\" target=\"_blank\">float.jl:97</a><li> convert(::<b>Type{FloatingPoint}</b>,x::<b>Int16</b>) at <a href=\"https://github.com/JuliaLang/julia/tree/8cea71e92ae765872c86c4c5caf1784d12f2eda6/base/float.jl#L98\" target=\"_blank\">float.jl:98</a><li> convert(::<b>Type{FloatingPoint}</b>,x::<b>Int32</b>) at <a href=\"https://github.com/JuliaLang/julia/tree/8cea71e92ae765872c86c4c5caf1784d12f2eda6/base/float.jl#L99\" target=\"_blank\">float.jl:99</a><li> convert(::<b>Type{FloatingPoint}</b>,x::<b>Int64</b>) at <a href=\"https://github.com/JuliaLang/julia/tree/8cea71e92ae765872c86c4c5caf1784d12f2eda6/base/float.jl#L100\" target=\"_blank\">float.jl:100</a><li> convert(::<b>Type{FloatingPoint}</b>,x::<b>Int128</b>) at <a href=\"https://github.com/JuliaLang/julia/tree/8cea71e92ae765872c86c4c5caf1784d12f2eda6/base/float.jl#L101\" target=\"_blank\">float.jl:101</a><li> convert(::<b>Type{FloatingPoint}</b>,x::<b>UInt8</b>) at <a href=\"https://github.com/JuliaLang/julia/tree/8cea71e92ae765872c86c4c5caf1784d12f2eda6/base/float.jl#L102\" target=\"_blank\">float.jl:102</a><li> convert(::<b>Type{FloatingPoint}</b>,x::<b>UInt16</b>) at <a href=\"https://github.com/JuliaLang/julia/tree/8cea71e92ae765872c86c4c5caf1784d12f2eda6/base/float.jl#L103\" target=\"_blank\">float.jl:103</a><li> convert(::<b>Type{FloatingPoint}</b>,x::<b>UInt32</b>) at <a href=\"https://github.com/JuliaLang/julia/tree/8cea71e92ae765872c86c4c5caf1784d12f2eda6/base/float.jl#L104\" target=\"_blank\">float.jl:104</a><li> convert(::<b>Type{FloatingPoint}</b>,x::<b>UInt64</b>) at <a href=\"https://github.com/JuliaLang/julia/tree/8cea71e92ae765872c86c4c5caf1784d12f2eda6/base/float.jl#L105\" target=\"_blank\">float.jl:105</a><li> convert(::<b>Type{FloatingPoint}</b>,x::<b>UInt128</b>) at <a href=\"https://github.com/JuliaLang/julia/tree/8cea71e92ae765872c86c4c5caf1784d12f2eda6/base/float.jl#L106\" target=\"_blank\">float.jl:106</a><li> convert<i>{T<:Real}</i>(::<b>Type{Complex{T<:Real}}</b>,x::<b>MathConst{sym}</b>) at <a href=\"https://github.com/JuliaLang/julia/tree/8cea71e92ae765872c86c4c5caf1784d12f2eda6/base/constants.jl#L13\" target=\"_blank\">constants.jl:13</a><li> convert<i>{T<:Real}</i>(::<b>Type{Complex{T<:Real}}</b>,x::<b>Real</b>) at <a href=\"https://github.com/JuliaLang/julia/tree/8cea71e92ae765872c86c4c5caf1784d12f2eda6/base/complex.jl#L14\" target=\"_blank\">complex.jl:14</a><li> convert<i>{T<:Real}</i>(::<b>Type{Complex{T<:Real}}</b>,z::<b>Complex{T<:Real}</b>) at <a href=\"https://github.com/JuliaLang/julia/tree/8cea71e92ae765872c86c4c5caf1784d12f2eda6/base/complex.jl#L15\" target=\"_blank\">complex.jl:15</a><li> convert<i>{T<:Real}</i>(::<b>Type{T<:Real}</b>,z::<b>Complex{T<:Real}</b>) at <a href=\"https://github.com/JuliaLang/julia/tree/8cea71e92ae765872c86c4c5caf1784d12f2eda6/base/complex.jl#L16\" target=\"_blank\">complex.jl:16</a><li> convert(::<b>Type{Complex{T<:Real}}</b>,z::<b>Complex{T<:Real}</b>) at <a href=\"https://github.com/JuliaLang/julia/tree/8cea71e92ae765872c86c4c5caf1784d12f2eda6/base/complex.jl#L19\" target=\"_blank\">complex.jl:19</a><li> convert(::<b>Type{Complex{T<:Real}}</b>,x::<b>Real</b>) at <a href=\"https://github.com/JuliaLang/julia/tree/8cea71e92ae765872c86c4c5caf1784d12f2eda6/base/complex.jl#L20\" target=\"_blank\">complex.jl:20</a><li> convert<i>{T<:Integer}</i>(::<b>Type{Rational{T<:Integer}}</b>,x::<b>Rational{T<:Integer}</b>) at <a href=\"https://github.com/JuliaLang/julia/tree/8cea71e92ae765872c86c4c5caf1784d12f2eda6/base/rational.jl#L58\" target=\"_blank\">rational.jl:58</a><li> convert<i>{T<:Integer}</i>(::<b>Type{Rational{T<:Integer}}</b>,x::<b>Integer</b>) at <a href=\"https://github.com/JuliaLang/julia/tree/8cea71e92ae765872c86c4c5caf1784d12f2eda6/base/rational.jl#L59\" target=\"_blank\">rational.jl:59</a><li> convert(::<b>Type{Rational{T<:Integer}}</b>,x::<b>Rational{T<:Integer}</b>) at <a href=\"https://github.com/JuliaLang/julia/tree/8cea71e92ae765872c86c4c5caf1784d12f2eda6/base/rational.jl#L61\" target=\"_blank\">rational.jl:61</a><li> convert(::<b>Type{Rational{T<:Integer}}</b>,x::<b>Integer</b>) at <a href=\"https://github.com/JuliaLang/julia/tree/8cea71e92ae765872c86c4c5caf1784d12f2eda6/base/rational.jl#L62\" target=\"_blank\">rational.jl:62</a><li> convert<i>{T<:Integer}</i>(::<b>Type{T<:Integer}</b>,x::<b>Rational{T<:Integer}</b>) at <a href=\"https://github.com/JuliaLang/julia/tree/8cea71e92ae765872c86c4c5caf1784d12f2eda6/base/rational.jl#L65\" target=\"_blank\">rational.jl:65</a><li> convert(::<b>Type{FloatingPoint}</b>,x::<b>Rational{T<:Integer}</b>) at <a href=\"https://github.com/JuliaLang/julia/tree/8cea71e92ae765872c86c4c5caf1784d12f2eda6/base/rational.jl#L67\" target=\"_blank\">rational.jl:67</a><li> convert<i>{S}</i>(::<b>Type{Base.MPFR.BigFloat}</b>,x::<b>Rational{S}</b>) at <a href=\"https://github.com/JuliaLang/julia/tree/8cea71e92ae765872c86c4c5caf1784d12f2eda6/base/mpfr.jl#L91\" target=\"_blank\">mpfr.jl:91</a><li> convert<i>{T<:FloatingPoint,S}</i>(::<b>Type{T<:FloatingPoint}</b>,x::<b>Rational{S}</b>) at <a href=\"https://github.com/JuliaLang/julia/tree/8cea71e92ae765872c86c4c5caf1784d12f2eda6/base/rational.jl#L69\" target=\"_blank\">rational.jl:69</a><li> convert(::<b>Type{Rational{T<:Integer}}</b>,x::<b>Float64</b>) at <a href=\"https://github.com/JuliaLang/julia/tree/8cea71e92ae765872c86c4c5caf1784d12f2eda6/base/rational.jl#L78\" target=\"_blank\">rational.jl:78</a><li> convert(::<b>Type{Rational{T<:Integer}}</b>,x::<b>Float32</b>) at <a href=\"https://github.com/JuliaLang/julia/tree/8cea71e92ae765872c86c4c5caf1784d12f2eda6/base/rational.jl#L79\" target=\"_blank\">rational.jl:79</a><li> convert(::<b>Type{Rational{T<:Integer}}</b>,x::<b>Base.MPFR.BigFloat</b>) at <a href=\"https://github.com/JuliaLang/julia/tree/8cea71e92ae765872c86c4c5caf1784d12f2eda6/base/mpfr.jl#L90\" target=\"_blank\">mpfr.jl:90</a><li> convert(::<b>Type{Rational{Base.GMP.BigInt}}</b>,x::<b>FloatingPoint</b>) at <a href=\"https://github.com/JuliaLang/julia/tree/8cea71e92ae765872c86c4c5caf1784d12f2eda6/base/mpfr.jl#L182\" target=\"_blank\">mpfr.jl:182</a><li> convert<i>{T<:Integer}</i>(::<b>Type{Rational{T<:Integer}}</b>,x::<b>FloatingPoint</b>) at <a href=\"https://github.com/JuliaLang/julia/tree/8cea71e92ae765872c86c4c5caf1784d12f2eda6/base/rational.jl#L74\" target=\"_blank\">rational.jl:74</a><li> convert<i>{T,N}</i>(::<b>Type{AbstractArray{T,N}}</b>,B::<b>BitArray{N}</b>) at <a href=\"https://github.com/JuliaLang/julia/tree/8cea71e92ae765872c86c4c5caf1784d12f2eda6/base/bitarray.jl#L323\" target=\"_blank\">bitarray.jl:323</a><li> convert<i>{T}</i>(::<b>Type{AbstractArray{T,2}}</b>,A::<b>Base.SparseMatrix.SparseMatrixCSC{Tv,Ti<:Integer}</b>) at <a href=\"https://github.com/JuliaLang/julia/tree/8cea71e92ae765872c86c4c5caf1784d12f2eda6/base/sparse/sparsematrix.jl#L173\" target=\"_blank\">sparse/sparsematrix.jl:173</a><li> convert<i>{T}</i>(::<b>Type{AbstractArray{T,2}}</b>,S::<b>Base.LinAlg.SymTridiagonal{T}</b>) at <a href=\"https://github.com/JuliaLang/julia/tree/8cea71e92ae765872c86c4c5caf1784d12f2eda6/base/linalg/tridiag.jl#L23\" target=\"_blank\">linalg/tridiag.jl:23</a><li> convert<i>{T}</i>(::<b>Type{AbstractArray{T,2}}</b>,M::<b>Base.LinAlg.Tridiagonal{T}</b>) at <a href=\"https://github.com/JuliaLang/julia/tree/8cea71e92ae765872c86c4c5caf1784d12f2eda6/base/linalg/tridiag.jl#L251\" target=\"_blank\">linalg/tridiag.jl:251</a><li> convert<i>{Tnew,Told,S,UpLo,IsUnit}</i>(::<b>Type{AbstractArray{Tnew,2}}</b>,A::<b>Base.LinAlg.Triangular{Told,S,UpLo,IsUnit}</b>) at <a href=\"https://github.com/JuliaLang/julia/tree/8cea71e92ae765872c86c4c5caf1784d12f2eda6/base/linalg/triangular.jl#L14\" target=\"_blank\">linalg/triangular.jl:14</a><li> convert<i>{T}</i>(::<b>Type{AbstractArray{T,2}}</b>,Q::<b>Base.LinAlg.QRPackedQ{T,S<:AbstractArray{T,2}}</b>) at <a href=\"https://github.com/JuliaLang/julia/tree/8cea71e92ae765872c86c4c5caf1784d12f2eda6/base/linalg/factorization.jl#L139\" target=\"_blank\">linalg/factorization.jl:139</a><li> convert<i>{S}</i>(::<b>Type{AbstractArray{S,2}}</b>,Q::<b>Base.LinAlg.QRCompactWYQ{S,M<:AbstractArray{T,2}}</b>) at <a href=\"https://github.com/JuliaLang/julia/tree/8cea71e92ae765872c86c4c5caf1784d12f2eda6/base/linalg/factorization.jl#L141\" target=\"_blank\">linalg/factorization.jl:141</a><li> convert<i>{T}</i>(::<b>Type{AbstractArray{T,2}}</b>,A::<b>Base.LinAlg.Symmetric{T,S<:AbstractArray{T,2}}</b>) at <a href=\"https://github.com/JuliaLang/julia/tree/8cea71e92ae765872c86c4c5caf1784d12f2eda6/base/linalg/symmetric.jl#L22\" target=\"_blank\">linalg/symmetric.jl:22</a><li> convert<i>{T}</i>(::<b>Type{AbstractArray{T,2}}</b>,A::<b>Base.LinAlg.Hermitian{T,S<:AbstractArray{T,2}}</b>) at <a href=\"https://github.com/JuliaLang/julia/tree/8cea71e92ae765872c86c4c5caf1784d12f2eda6/base/linalg/symmetric.jl#L25\" target=\"_blank\">linalg/symmetric.jl:25</a><li> convert<i>{T}</i>(::<b>Type{AbstractArray{T,2}}</b>,D::<b>Base.LinAlg.Diagonal{T}</b>) at <a href=\"https://github.com/JuliaLang/julia/tree/8cea71e92ae765872c86c4c5caf1784d12f2eda6/base/linalg/diagonal.jl#L10\" target=\"_blank\">linalg/diagonal.jl:10</a><li> convert<i>{T,N}</i>(::<b>Type{AbstractArray{T,N}}</b>,A::<b>AbstractArray{T,N}</b>) at <a href=\"https://github.com/JuliaLang/julia/tree/8cea71e92ae765872c86c4c5caf1784d12f2eda6/base/abstractarray.jl#L362\" target=\"_blank\">abstractarray.jl:362</a><li> convert<i>{T,S,N}</i>(::<b>Type{AbstractArray{T,N}}</b>,A::<b>AbstractArray{S,N}</b>) at <a href=\"https://github.com/JuliaLang/julia/tree/8cea71e92ae765872c86c4c5caf1784d12f2eda6/base/abstractarray.jl#L363\" target=\"_blank\">abstractarray.jl:363</a><li> convert<i>{T,S,N}</i>(::<b>Type{AbstractArray{T,N}}</b>,A::<b>AbstractArray{S,N}</b>) at <a href=\"https://github.com/JuliaLang/julia/tree/8cea71e92ae765872c86c4c5caf1784d12f2eda6/base/abstractarray.jl#L364\" target=\"_blank\">abstractarray.jl:364</a><li> convert<i>{S,T,N}</i>(::<b>Type{Array{S,N}}</b>,s::<b>SubArray{T,N,D<:DArray{T,N,A},I<:(Union(Int64,Range{Int64},Array{Int64,1},Colon)...,),LD}</b>) at <a href=\"https://github.com/JuliaLang/julia/tree/8cea71e92ae765872c86c4c5caf1784d12f2eda6/base/darray.jl#L185\" target=\"_blank\">darray.jl:185</a><li> convert<i>{T,S,N}</i>(::<b>Type{Array{T,N}}</b>,V::<b>SubArray{S,N,P<:AbstractArray{T,N},I<:(Union(Int64,Range{Int64},Array{Int64,1},Colon)...,),LD}</b>) at <a href=\"https://github.com/JuliaLang/julia/tree/8cea71e92ae765872c86c4c5caf1784d12f2eda6/base/subarray.jl#L414\" target=\"_blank\">subarray.jl:414</a><li> convert<i>{T,n}</i>(::<b>Type{Array{T,n}}</b>,x::<b>Array{T,n}</b>) at <a href=\"https://github.com/JuliaLang/julia/tree/8cea71e92ae765872c86c4c5caf1784d12f2eda6/base/array.jl#L233\" target=\"_blank\">array.jl:233</a><li> convert<i>{T,n,S}</i>(::<b>Type{Array{T,n}}</b>,x::<b>Array{S,n}</b>) at <a href=\"https://github.com/JuliaLang/julia/tree/8cea71e92ae765872c86c4c5caf1784d12f2eda6/base/array.jl#L235\" target=\"_blank\">array.jl:235</a><li> convert<i>{T,n}</i>(::<b>Type{Array{T,N}}</b>,x::<b>Array{T,n}</b>) at <a href=\"https://github.com/JuliaLang/julia/tree/8cea71e92ae765872c86c4c5caf1784d12f2eda6/base/array.jl#L232\" target=\"_blank\">array.jl:232</a><li> convert<i>{T,n,S}</i>(::<b>Type{Array{T,N}}</b>,x::<b>Array{S,n}</b>) at <a href=\"https://github.com/JuliaLang/julia/tree/8cea71e92ae765872c86c4c5caf1784d12f2eda6/base/array.jl#L234\" target=\"_blank\">array.jl:234</a><li> convert<i>{T,N}</i>(::<b>Type{Array{T,N}}</b>,B::<b>BitArray{N}</b>) at <a href=\"https://github.com/JuliaLang/julia/tree/8cea71e92ae765872c86c4c5caf1784d12f2eda6/base/bitarray.jl#L284\" target=\"_blank\">bitarray.jl:284</a><li> convert<i>{T,N}</i>(::<b>Type{Array{T,N}}</b>,B::<b>BitArray{N}</b>) at <a href=\"https://github.com/JuliaLang/julia/tree/8cea71e92ae765872c86c4c5caf1784d12f2eda6/base/bitarray.jl#L282\" target=\"_blank\">bitarray.jl:282</a><li> convert<i>{S,T,N}</i>(::<b>Type{Array{S,N}}</b>,d::<b>DArray{T,N,A}</b>) at <a href=\"https://github.com/JuliaLang/julia/tree/8cea71e92ae765872c86c4c5caf1784d12f2eda6/base/darray.jl#L175\" target=\"_blank\">darray.jl:175</a><li> convert(::<b>Type{Array{T,N}}</b>,S::<b>SharedArray{T,N}</b>) at <a href=\"https://github.com/JuliaLang/julia/tree/8cea71e92ae765872c86c4c5caf1784d12f2eda6/base/sharedarray.jl#L207\" target=\"_blank\">sharedarray.jl:207</a><li> convert(::<b>Type{Array{T,2}}</b>,S::<b>Base.SparseMatrix.SparseMatrixCSC{Tv,Ti<:Integer}</b>) at <a href=\"https://github.com/JuliaLang/julia/tree/8cea71e92ae765872c86c4c5caf1784d12f2eda6/base/sparse/sparsematrix.jl#L174\" target=\"_blank\">sparse/sparsematrix.jl:174</a><li> convert<i>{T}</i>(::<b>Type{Array{T,2}}</b>,M::<b>Base.LinAlg.SymTridiagonal{T}</b>) at <a href=\"https://github.com/JuliaLang/julia/tree/8cea71e92ae765872c86c4c5caf1784d12f2eda6/base/linalg/tridiag.jl#L24\" target=\"_blank\">linalg/tridiag.jl:24</a><li> convert<i>{T}</i>(::<b>Type{Array{T,2}}</b>,M::<b>Base.LinAlg.SymTridiagonal{T}</b>) at <a href=\"https://github.com/JuliaLang/julia/tree/8cea71e92ae765872c86c4c5caf1784d12f2eda6/base/linalg/tridiag.jl#L25\" target=\"_blank\">linalg/tridiag.jl:25</a><li> convert<i>{T}</i>(::<b>Type{Array{T,2}}</b>,M::<b>Base.LinAlg.Tridiagonal{T}</b>) at <a href=\"https://github.com/JuliaLang/julia/tree/8cea71e92ae765872c86c4c5caf1784d12f2eda6/base/linalg/tridiag.jl#L184\" target=\"_blank\">linalg/tridiag.jl:184</a><li> convert<i>{T}</i>(::<b>Type{Array{T,2}}</b>,M::<b>Base.LinAlg.Tridiagonal{T}</b>) at <a href=\"https://github.com/JuliaLang/julia/tree/8cea71e92ae765872c86c4c5caf1784d12f2eda6/base/linalg/tridiag.jl#L194\" target=\"_blank\">linalg/tridiag.jl:194</a><li> convert<i>{Tret,T,S,UpLo,IsUnit}</i>(::<b>Type{Array{Tret,2}}</b>,A::<b>Base.LinAlg.Triangular{T,S,UpLo,IsUnit}</b>) at <a href=\"https://github.com/JuliaLang/julia/tree/8cea71e92ae765872c86c4c5caf1784d12f2eda6/base/linalg/triangular.jl#L16\" target=\"_blank\">linalg/triangular.jl:16</a><li> convert<i>{T,S,UpLo,IsUnit}</i>(::<b>Type{Array{T,2}}</b>,A::<b>Base.LinAlg.Triangular{T,S,UpLo,IsUnit}</b>) at <a href=\"https://github.com/JuliaLang/julia/tree/8cea71e92ae765872c86c4c5caf1784d12f2eda6/base/linalg/triangular.jl#L26\" target=\"_blank\">linalg/triangular.jl:26</a><li> convert<i>{T}</i>(::<b>Type{Array{T,2}}</b>,W::<b>Base.LinAlg.Woodbury{T}</b>) at <a href=\"https://github.com/JuliaLang/julia/tree/8cea71e92ae765872c86c4c5caf1784d12f2eda6/base/linalg/woodbury.jl#L57\" target=\"_blank\">linalg/woodbury.jl:57</a><li> convert<i>{T}</i>(::<b>Type{Array{T,2}}</b>,A::<b>Base.LinAlg.Bidiagonal{T}</b>) at <a href=\"https://github.com/JuliaLang/julia/tree/8cea71e92ae765872c86c4c5caf1784d12f2eda6/base/linalg/bidiag.jl#L31\" target=\"_blank\">linalg/bidiag.jl:31</a><li> convert<i>{T}</i>(::<b>Type{Array{T,2}}</b>,A::<b>Base.LinAlg.Bidiagonal{T}</b>) at <a href=\"https://github.com/JuliaLang/julia/tree/8cea71e92ae765872c86c4c5caf1784d12f2eda6/base/linalg/bidiag.jl#L32\" target=\"_blank\">linalg/bidiag.jl:32</a><li> convert(::<b>Type{Array{T,2}}</b>,D::<b>Base.LinAlg.Diagonal{T}</b>) at <a href=\"https://github.com/JuliaLang/julia/tree/8cea71e92ae765872c86c4c5caf1784d12f2eda6/base/linalg/special.jl#L9\" target=\"_blank\">linalg/special.jl:9</a><li> convert<i>{T,N}</i>(::<b>Type{Array{T,N}}</b>,A::<b>AbstractArray{T,N}</b>) at <a href=\"https://github.com/JuliaLang/julia/tree/8cea71e92ae765872c86c4c5caf1784d12f2eda6/base/abstractarray.jl#L366\" target=\"_blank\">abstractarray.jl:366</a><li> convert<i>{T,N,P<:Array{T,N},I<:(Union(Int64,Range{Int64},Colon)...,)}</i>(::<b>Type{Ptr{Void}}</b>,V::<b>SubArray{T,N,P<:Array{T,N},I<:(Union(Int64,Range{Int64},Colon)...,),LD}</b>) at <a href=\"https://github.com/JuliaLang/julia/tree/8cea71e92ae765872c86c4c5caf1784d12f2eda6/base/subarray.jl#L399\" target=\"_blank\">subarray.jl:399</a><li> convert<i>{T,N,P<:Array{T,N},I<:(Union(Int64,Range{Int64},Colon)...,)}</i>(::<b>Type{Ptr{T}}</b>,V::<b>SubArray{T,N,P<:Array{T,N},I<:(Union(Int64,Range{Int64},Colon)...,),LD}</b>) at <a href=\"https://github.com/JuliaLang/julia/tree/8cea71e92ae765872c86c4c5caf1784d12f2eda6/base/subarray.jl#L396\" target=\"_blank\">subarray.jl:396</a><li> convert<i>{N}</i>(::<b>Type{BitArray{N}}</b>,B::<b>BitArray{N}</b>) at <a href=\"https://github.com/JuliaLang/julia/tree/8cea71e92ae765872c86c4c5caf1784d12f2eda6/base/bitarray.jl#L322\" target=\"_blank\">bitarray.jl:322</a><li> convert<i>{T,N}</i>(::<b>Type{BitArray{N}}</b>,A::<b>AbstractArray{T,N}</b>) at <a href=\"https://github.com/JuliaLang/julia/tree/8cea71e92ae765872c86c4c5caf1784d12f2eda6/base/bitarray.jl#L294\" target=\"_blank\">bitarray.jl:294</a><li> convert<i>{T,N}</i>(::<b>Type{BitArray{N}}</b>,A::<b>AbstractArray{T,N}</b>) at <a href=\"https://github.com/JuliaLang/julia/tree/8cea71e92ae765872c86c4c5caf1784d12f2eda6/base/bitarray.jl#L292\" target=\"_blank\">bitarray.jl:292</a><li> convert<i>{K,V}</i>(::<b>Type{Dict{K,V}}</b>,d::<b>Dict{K,V}</b>) at <a href=\"https://github.com/JuliaLang/julia/tree/8cea71e92ae765872c86c4c5caf1784d12f2eda6/base/dict.jl#L393\" target=\"_blank\">dict.jl:393</a><li> convert<i>{K,V}</i>(::<b>Type{Dict{K,V}}</b>,d::<b>Associative{K,V}</b>) at <a href=\"https://github.com/JuliaLang/julia/tree/8cea71e92ae765872c86c4c5caf1784d12f2eda6/base/dict.jl#L382\" target=\"_blank\">dict.jl:382</a><li> convert(::<b>Type{Char}</b>,x::<b>Float16</b>) at <a href=\"https://github.com/JuliaLang/julia/tree/8cea71e92ae765872c86c4c5caf1784d12f2eda6/base/char.jl#L6\" target=\"_blank\">char.jl:6</a><li> convert(::<b>Type{Char}</b>,x::<b>Float32</b>) at <a href=\"https://github.com/JuliaLang/julia/tree/8cea71e92ae765872c86c4c5caf1784d12f2eda6/base/char.jl#L7\" target=\"_blank\">char.jl:7</a><li> convert(::<b>Type{Char}</b>,x::<b>Float64</b>) at <a href=\"https://github.com/JuliaLang/julia/tree/8cea71e92ae765872c86c4c5caf1784d12f2eda6/base/char.jl#L8\" target=\"_blank\">char.jl:8</a><li> convert(::<b>Type{ASCIIString}</b>,s::<b>ASCIIString</b>) at <a href=\"https://github.com/JuliaLang/julia/tree/8cea71e92ae765872c86c4c5caf1784d12f2eda6/base/ascii.jl#L99\" target=\"_blank\">ascii.jl:99</a><li> convert(::<b>Type{ASCIIString}</b>,s::<b>UTF8String</b>) at <a href=\"https://github.com/JuliaLang/julia/tree/8cea71e92ae765872c86c4c5caf1784d12f2eda6/base/ascii.jl#L100\" target=\"_blank\">ascii.jl:100</a><li> convert(::<b>Type{ASCIIString}</b>,a::<b>Array{UInt8,1}</b>) at <a href=\"https://github.com/JuliaLang/julia/tree/8cea71e92ae765872c86c4c5caf1784d12f2eda6/base/ascii.jl#L101\" target=\"_blank\">ascii.jl:101</a><li> convert(::<b>Type{ASCIIString}</b>,a::<b>Array{UInt8,1}</b>,invalids_as::<b>ASCIIString</b>) at <a href=\"https://github.com/JuliaLang/julia/tree/8cea71e92ae765872c86c4c5caf1784d12f2eda6/base/ascii.jl#L103\" target=\"_blank\">ascii.jl:103</a><li> convert(::<b>Type{ASCIIString}</b>,s::<b>AbstractString</b>) at <a href=\"https://github.com/JuliaLang/julia/tree/8cea71e92ae765872c86c4c5caf1784d12f2eda6/base/ascii.jl#L120\" target=\"_blank\">ascii.jl:120</a><li> convert(::<b>Type{UTF8String}</b>,s::<b>UTF8String</b>) at <a href=\"https://github.com/JuliaLang/julia/tree/8cea71e92ae765872c86c4c5caf1784d12f2eda6/base/utf8.jl#L172\" target=\"_blank\">utf8.jl:172</a><li> convert(::<b>Type{UTF8String}</b>,s::<b>ASCIIString</b>) at <a href=\"https://github.com/JuliaLang/julia/tree/8cea71e92ae765872c86c4c5caf1784d12f2eda6/base/utf8.jl#L173\" target=\"_blank\">utf8.jl:173</a><li> convert(::<b>Type{UTF8String}</b>,a::<b>Array{UInt8,1}</b>) at <a href=\"https://github.com/JuliaLang/julia/tree/8cea71e92ae765872c86c4c5caf1784d12f2eda6/base/utf8.jl#L174\" target=\"_blank\">utf8.jl:174</a><li> convert(::<b>Type{UTF8String}</b>,a::<b>Array{UInt8,1}</b>,invalids_as::<b>AbstractString</b>) at <a href=\"https://github.com/JuliaLang/julia/tree/8cea71e92ae765872c86c4c5caf1784d12f2eda6/base/utf8.jl#L176\" target=\"_blank\">utf8.jl:176</a><li> convert(::<b>Type{UTF8String}</b>,s::<b>UTF16String</b>) at <a href=\"https://github.com/JuliaLang/julia/tree/8cea71e92ae765872c86c4c5caf1784d12f2eda6/base/utf16.jl#L74\" target=\"_blank\">utf16.jl:74</a><li> convert(::<b>Type{UTF8String}</b>,s::<b>AbstractString</b>) at <a href=\"https://github.com/JuliaLang/julia/tree/8cea71e92ae765872c86c4c5caf1784d12f2eda6/base/utf8.jl#L196\" target=\"_blank\">utf8.jl:196</a><li> convert(::<b>Type{UTF16String}</b>,s::<b>UTF16String</b>) at <a href=\"https://github.com/JuliaLang/julia/tree/8cea71e92ae765872c86c4c5caf1784d12f2eda6/base/utf16.jl#L68\" target=\"_blank\">utf16.jl:68</a><li> convert(::<b>Type{UTF16String}</b>,s::<b>AbstractString</b>) at <a href=\"https://github.com/JuliaLang/julia/tree/8cea71e92ae765872c86c4c5caf1784d12f2eda6/base/utf16.jl#L69\" target=\"_blank\">utf16.jl:69</a><li> convert(::<b>Type{Array{UInt16,1}}</b>,s::<b>UTF16String</b>) at <a href=\"https://github.com/JuliaLang/julia/tree/8cea71e92ae765872c86c4c5caf1784d12f2eda6/base/utf16.jl#L70\" target=\"_blank\">utf16.jl:70</a><li> convert(::<b>Type{Array{UInt16,N}}</b>,s::<b>UTF16String</b>) at <a href=\"https://github.com/JuliaLang/julia/tree/8cea71e92ae765872c86c4c5caf1784d12f2eda6/base/utf16.jl#L71\" target=\"_blank\">utf16.jl:71</a><li> convert<i>{T<:Union(UInt16,Int16)}</i>(::<b>Type{Ptr{T<:Union(UInt16,Int16)}}</b>,s::<b>UTF16String</b>) at <a href=\"https://github.com/JuliaLang/julia/tree/8cea71e92ae765872c86c4c5caf1784d12f2eda6/base/utf16.jl#L78\" target=\"_blank\">utf16.jl:78</a><li> convert(::<b>Type{UTF16String}</b>,data::<b>AbstractArray{UInt16,1}</b>) at <a href=\"https://github.com/JuliaLang/julia/tree/8cea71e92ae765872c86c4c5caf1784d12f2eda6/base/utf16.jl#L99\" target=\"_blank\">utf16.jl:99</a><li> convert(T::<b>Type{UTF16String}</b>,data::<b>AbstractArray{UInt16,N}</b>) at <a href=\"https://github.com/JuliaLang/julia/tree/8cea71e92ae765872c86c4c5caf1784d12f2eda6/base/utf16.jl#L106\" target=\"_blank\">utf16.jl:106</a><li> convert(T::<b>Type{UTF16String}</b>,data::<b>AbstractArray{Int16,N}</b>) at <a href=\"https://github.com/JuliaLang/julia/tree/8cea71e92ae765872c86c4c5caf1784d12f2eda6/base/utf16.jl#L109\" target=\"_blank\">utf16.jl:109</a><li> convert(T::<b>Type{UTF16String}</b>,bytes::<b>AbstractArray{UInt8,N}</b>) at <a href=\"https://github.com/JuliaLang/julia/tree/8cea71e92ae765872c86c4c5caf1784d12f2eda6/base/utf16.jl#L113\" target=\"_blank\">utf16.jl:113</a><li> convert(::<b>Type{UTF32String}</b>,c::<b>Char</b>) at <a href=\"https://github.com/JuliaLang/julia/tree/8cea71e92ae765872c86c4c5caf1784d12f2eda6/base/utf32.jl#L28\" target=\"_blank\">utf32.jl:28</a><li> convert(::<b>Type{UTF32String}</b>,s::<b>UTF32String</b>) at <a href=\"https://github.com/JuliaLang/julia/tree/8cea71e92ae765872c86c4c5caf1784d12f2eda6/base/utf32.jl#L29\" target=\"_blank\">utf32.jl:29</a><li> convert(::<b>Type{UTF32String}</b>,s::<b>AbstractString</b>) at <a href=\"https://github.com/JuliaLang/julia/tree/8cea71e92ae765872c86c4c5caf1784d12f2eda6/base/utf32.jl#L32\" target=\"_blank\">utf32.jl:32</a><li> convert(::<b>Type{UTF32String}</b>,data::<b>AbstractArray{Char,1}</b>) at <a href=\"https://github.com/JuliaLang/julia/tree/8cea71e92ae765872c86c4c5caf1784d12f2eda6/base/utf32.jl#L42\" target=\"_blank\">utf32.jl:42</a><li> convert<i>{T<:Union(UInt32,Int32)}</i>(::<b>Type{UTF32String}</b>,data::<b>AbstractArray{T<:Union(UInt32,Int32),1}</b>) at <a href=\"https://github.com/JuliaLang/julia/tree/8cea71e92ae765872c86c4c5caf1784d12f2eda6/base/utf32.jl#L48\" target=\"_blank\">utf32.jl:48</a><li> convert<i>{T<:Union(ASCIIString,UTF8String)}</i>(::<b>Type{T<:Union(ASCIIString,UTF8String)}</b>,data::<b>AbstractArray{Char,1}</b>) at <a href=\"https://github.com/JuliaLang/julia/tree/8cea71e92ae765872c86c4c5caf1784d12f2eda6/base/utf32.jl#L55\" target=\"_blank\">utf32.jl:55</a><li> convert<i>{T<:AbstractString}</i>(::<b>Type{T<:AbstractString}</b>,v::<b>AbstractArray{Char,1}</b>) at <a href=\"https://github.com/JuliaLang/julia/tree/8cea71e92ae765872c86c4c5caf1784d12f2eda6/base/utf32.jl#L51\" target=\"_blank\">utf32.jl:51</a><li> convert(::<b>Type{Array{Char,1}}</b>,s::<b>UTF32String</b>) at <a href=\"https://github.com/JuliaLang/julia/tree/8cea71e92ae765872c86c4c5caf1784d12f2eda6/base/utf32.jl#L63\" target=\"_blank\">utf32.jl:63</a><li> convert(::<b>Type{Array{Char,N}}</b>,s::<b>UTF32String</b>) at <a href=\"https://github.com/JuliaLang/julia/tree/8cea71e92ae765872c86c4c5caf1784d12f2eda6/base/utf32.jl#L64\" target=\"_blank\">utf32.jl:64</a><li> convert<i>{T<:Union(Char,UInt32,Int32)}</i>(::<b>Type{Ptr{T<:Union(Char,UInt32,Int32)}}</b>,s::<b>UTF32String</b>) at <a href=\"https://github.com/JuliaLang/julia/tree/8cea71e92ae765872c86c4c5caf1784d12f2eda6/base/utf32.jl#L69\" target=\"_blank\">utf32.jl:69</a><li> convert(T::<b>Type{UTF32String}</b>,bytes::<b>AbstractArray{UInt8,N}</b>) at <a href=\"https://github.com/JuliaLang/julia/tree/8cea71e92ae765872c86c4c5caf1784d12f2eda6/base/utf32.jl#L73\" target=\"_blank\">utf32.jl:73</a><li> convert(::<b>Type{Array{UInt8,1}}</b>,s::<b>AbstractString</b>) at <a href=\"https://github.com/JuliaLang/julia/tree/8cea71e92ae765872c86c4c5caf1784d12f2eda6/base/string.jl#L47\" target=\"_blank\">string.jl:47</a><li> convert(::<b>Type{Array{UInt8,N}}</b>,s::<b>AbstractString</b>) at <a href=\"https://github.com/JuliaLang/julia/tree/8cea71e92ae765872c86c4c5caf1784d12f2eda6/base/string.jl#L48\" target=\"_blank\">string.jl:48</a><li> convert(::<b>Type{Union(ASCIIString,UTF8String)}</b>,s::<b>AbstractString</b>) at <a href=\"https://github.com/JuliaLang/julia/tree/8cea71e92ae765872c86c4c5caf1784d12f2eda6/base/string.jl#L49\" target=\"_blank\">string.jl:49</a><li> convert(::<b>Type{Array{Char,1}}</b>,s::<b>AbstractString</b>) at <a href=\"https://github.com/JuliaLang/julia/tree/8cea71e92ae765872c86c4c5caf1784d12f2eda6/base/string.jl#L50\" target=\"_blank\">string.jl:50</a><li> convert(::<b>Type{Symbol}</b>,s::<b>AbstractString</b>) at <a href=\"https://github.com/JuliaLang/julia/tree/8cea71e92ae765872c86c4c5caf1784d12f2eda6/base/string.jl#L51\" target=\"_blank\">string.jl:51</a><li> convert<i>{T<:AbstractString}</i>(::<b>Type{SubString{T<:AbstractString}}</b>,s::<b>T<:AbstractString</b>) at <a href=\"https://github.com/JuliaLang/julia/tree/8cea71e92ae765872c86c4c5caf1784d12f2eda6/base/string.jl#L633\" target=\"_blank\">string.jl:633</a><li> convert<i>{P<:Union(UInt8,Int8),T<:Union(ASCIIString,UTF8String)}</i>(::<b>Type{Ptr{P<:Union(UInt8,Int8)}}</b>,s::<b>SubString{T<:Union(ASCIIString,UTF8String)}</b>) at <a href=\"https://github.com/JuliaLang/julia/tree/8cea71e92ae765872c86c4c5caf1784d12f2eda6/base/string.jl#L650\" target=\"_blank\">string.jl:650</a><li> convert(::<b>Type{RepString}</b>,s::<b>AbstractString</b>) at <a href=\"https://github.com/JuliaLang/julia/tree/8cea71e92ae765872c86c4c5caf1784d12f2eda6/base/string.jl#L717\" target=\"_blank\">string.jl:717</a><li> convert<i>{S<:AbstractString}</i>(::<b>Type{S<:AbstractString}</b>,g::<b>Base.UTF8proc.GraphemeIterator{S<:AbstractString}</b>) at <a href=\"https://github.com/JuliaLang/julia/tree/8cea71e92ae765872c86c4c5caf1784d12f2eda6/base/utf8proc.jl#L219\" target=\"_blank\">utf8proc.jl:219</a><li> convert(T::<b>Type{Ptr{Void}}</b>,s::<b>IOStream</b>) at <a href=\"https://github.com/JuliaLang/julia/tree/8cea71e92ae765872c86c4c5caf1784d12f2eda6/base/iostream.jl#L25\" target=\"_blank\">iostream.jl:25</a><li> convert(::<b>Type{CFILE}</b>,s::<b>IO</b>) at <a href=\"https://github.com/JuliaLang/julia/tree/8cea71e92ae765872c86c4c5caf1784d12f2eda6/base/iostream.jl#L90\" target=\"_blank\">iostream.jl:90</a><li> convert(::<b>Type{Int32}</b>,fd::<b>RawFD</b>) at <a href=\"https://github.com/JuliaLang/julia/tree/8cea71e92ae765872c86c4c5caf1784d12f2eda6/base/stream.jl#L27\" target=\"_blank\">stream.jl:27</a><li> convert(T::<b>Type{Ptr{Void}}</b>,s::<b>AsyncStream</b>) at <a href=\"https://github.com/JuliaLang/julia/tree/8cea71e92ae765872c86c4c5caf1784d12f2eda6/base/stream.jl#L226\" target=\"_blank\">stream.jl:226</a><li> convert(::<b>Type{Float32}</b>,val::<b>Float16</b>) at <a href=\"https://github.com/JuliaLang/julia/tree/8cea71e92ae765872c86c4c5caf1784d12f2eda6/base/float16.jl#L2\" target=\"_blank\">float16.jl:2</a><li> convert(::<b>Type{Float16}</b>,val::<b>Float32</b>) at <a href=\"https://github.com/JuliaLang/julia/tree/8cea71e92ae765872c86c4c5caf1784d12f2eda6/base/float16.jl#L81\" target=\"_blank\">float16.jl:81</a><li> convert(::<b>Type{Int128}</b>,x::<b>Float16</b>) at <a href=\"https://github.com/JuliaLang/julia/tree/8cea71e92ae765872c86c4c5caf1784d12f2eda6/base/float16.jl#L100\" target=\"_blank\">float16.jl:100</a><li> convert(::<b>Type{UInt128}</b>,x::<b>Float16</b>) at <a href=\"https://github.com/JuliaLang/julia/tree/8cea71e92ae765872c86c4c5caf1784d12f2eda6/base/float16.jl#L101\" target=\"_blank\">float16.jl:101</a><li> convert(::<b>Type{Base.GMP.BigInt}</b>,x::<b>Float16</b>) at <a href=\"https://github.com/JuliaLang/julia/tree/8cea71e92ae765872c86c4c5caf1784d12f2eda6/base/gmp.jl#L139\" target=\"_blank\">gmp.jl:139</a><li> convert<i>{T<:Integer}</i>(::<b>Type{T<:Integer}</b>,x::<b>Float16</b>) at <a href=\"https://github.com/JuliaLang/julia/tree/8cea71e92ae765872c86c4c5caf1784d12f2eda6/base/float16.jl#L103\" target=\"_blank\">float16.jl:103</a><li> convert(::<b>Type{VersionNumber}</b>,v::<b>Integer</b>) at <a href=\"https://github.com/JuliaLang/julia/tree/8cea71e92ae765872c86c4c5caf1784d12f2eda6/base/version.jl#L59\" target=\"_blank\">version.jl:59</a><li> convert(::<b>Type{VersionNumber}</b>,v::<b>(Any...,)</b>) at <a href=\"https://github.com/JuliaLang/julia/tree/8cea71e92ae765872c86c4c5caf1784d12f2eda6/base/version.jl#L60\" target=\"_blank\">version.jl:60</a><li> convert(::<b>Type{VersionNumber}</b>,v::<b>AbstractString</b>) at <a href=\"https://github.com/JuliaLang/julia/tree/8cea71e92ae765872c86c4c5caf1784d12f2eda6/base/version.jl#L97\" target=\"_blank\">version.jl:97</a><li> convert(::<b>Type{Base.GMP.BigInt}</b>,x::<b>Integer</b>) at <a href=\"https://github.com/JuliaLang/julia/tree/8cea71e92ae765872c86c4c5caf1784d12f2eda6/base/gmp.jl#L138\" target=\"_blank\">gmp.jl:138</a><li> convert(::<b>Type{Base.GMP.BigInt}</b>,x::<b>Base.MPFR.BigFloat</b>) at <a href=\"https://github.com/JuliaLang/julia/tree/8cea71e92ae765872c86c4c5caf1784d12f2eda6/base/mpfr.jl#L156\" target=\"_blank\">mpfr.jl:156</a><li> convert(::<b>Type{Base.GMP.BigInt}</b>,x::<b>FloatingPoint</b>) at <a href=\"https://github.com/JuliaLang/julia/tree/8cea71e92ae765872c86c4c5caf1784d12f2eda6/base/gmp.jl#L140\" target=\"_blank\">gmp.jl:140</a><li> convert(::<b>Type{Int64}</b>,n::<b>Base.GMP.BigInt</b>) at <a href=\"https://github.com/JuliaLang/julia/tree/8cea71e92ae765872c86c4c5caf1784d12f2eda6/base/gmp.jl#L152\" target=\"_blank\">gmp.jl:152</a><li> convert(::<b>Type{Int32}</b>,n::<b>Base.GMP.BigInt</b>) at <a href=\"https://github.com/JuliaLang/julia/tree/8cea71e92ae765872c86c4c5caf1784d12f2eda6/base/gmp.jl#L147\" target=\"_blank\">gmp.jl:147</a><li> convert(::<b>Type{Int16}</b>,n::<b>Base.GMP.BigInt</b>) at <a href=\"https://github.com/JuliaLang/julia/tree/8cea71e92ae765872c86c4c5caf1784d12f2eda6/base/gmp.jl#L148\" target=\"_blank\">gmp.jl:148</a><li> convert(::<b>Type{Int8}</b>,n::<b>Base.GMP.BigInt</b>) at <a href=\"https://github.com/JuliaLang/julia/tree/8cea71e92ae765872c86c4c5caf1784d12f2eda6/base/gmp.jl#L149\" target=\"_blank\">gmp.jl:149</a><li> convert(::<b>Type{UInt64}</b>,n::<b>Base.GMP.BigInt</b>) at <a href=\"https://github.com/JuliaLang/julia/tree/8cea71e92ae765872c86c4c5caf1784d12f2eda6/base/gmp.jl#L170\" target=\"_blank\">gmp.jl:170</a><li> convert(::<b>Type{UInt32}</b>,x::<b>Base.GMP.BigInt</b>) at <a href=\"https://github.com/JuliaLang/julia/tree/8cea71e92ae765872c86c4c5caf1784d12f2eda6/base/gmp.jl#L165\" target=\"_blank\">gmp.jl:165</a><li> convert(::<b>Type{UInt16}</b>,x::<b>Base.GMP.BigInt</b>) at <a href=\"https://github.com/JuliaLang/julia/tree/8cea71e92ae765872c86c4c5caf1784d12f2eda6/base/gmp.jl#L166\" target=\"_blank\">gmp.jl:166</a><li> convert(::<b>Type{UInt8}</b>,x::<b>Base.GMP.BigInt</b>) at <a href=\"https://github.com/JuliaLang/julia/tree/8cea71e92ae765872c86c4c5caf1784d12f2eda6/base/gmp.jl#L167\" target=\"_blank\">gmp.jl:167</a><li> convert(::<b>Type{UInt128}</b>,x::<b>Base.GMP.BigInt</b>) at <a href=\"https://github.com/JuliaLang/julia/tree/8cea71e92ae765872c86c4c5caf1784d12f2eda6/base/gmp.jl#L188\" target=\"_blank\">gmp.jl:188</a><li> convert(::<b>Type{Int128}</b>,x::<b>Base.GMP.BigInt</b>) at <a href=\"https://github.com/JuliaLang/julia/tree/8cea71e92ae765872c86c4c5caf1784d12f2eda6/base/gmp.jl#L192\" target=\"_blank\">gmp.jl:192</a><li> convert(::<b>Type{Float64}</b>,n::<b>Base.GMP.BigInt</b>) at <a href=\"https://github.com/JuliaLang/julia/tree/8cea71e92ae765872c86c4c5caf1784d12f2eda6/base/gmp.jl#L196\" target=\"_blank\">gmp.jl:196</a><li> convert(::<b>Type{Float32}</b>,n::<b>Base.GMP.BigInt</b>) at <a href=\"https://github.com/JuliaLang/julia/tree/8cea71e92ae765872c86c4c5caf1784d12f2eda6/base/gmp.jl#L198\" target=\"_blank\">gmp.jl:198</a><li> convert(::<b>Type{Base.MPFR.BigFloat}</b>,::<b>MathConst{:π}</b>) at <a href=\"https://github.com/JuliaLang/julia/tree/8cea71e92ae765872c86c4c5caf1784d12f2eda6/base/constants.jl#L36\" target=\"_blank\">constants.jl:36</a><li> convert(::<b>Type{Base.MPFR.BigFloat}</b>,::<b>MathConst{:e}</b>) at <a href=\"https://github.com/JuliaLang/julia/tree/8cea71e92ae765872c86c4c5caf1784d12f2eda6/base/constants.jl#L43\" target=\"_blank\">constants.jl:43</a><li> convert(::<b>Type{Base.MPFR.BigFloat}</b>,::<b>MathConst{:γ}</b>) at <a href=\"https://github.com/JuliaLang/julia/tree/8cea71e92ae765872c86c4c5caf1784d12f2eda6/base/constants.jl#L36\" target=\"_blank\">constants.jl:36</a><li> convert(::<b>Type{Base.MPFR.BigFloat}</b>,::<b>MathConst{:catalan}</b>) at <a href=\"https://github.com/JuliaLang/julia/tree/8cea71e92ae765872c86c4c5caf1784d12f2eda6/base/constants.jl#L36\" target=\"_blank\">constants.jl:36</a><li> convert(::<b>Type{Base.MPFR.BigFloat}</b>,::<b>MathConst{:φ}</b>) at <a href=\"https://github.com/JuliaLang/julia/tree/8cea71e92ae765872c86c4c5caf1784d12f2eda6/base/constants.jl#L43\" target=\"_blank\">constants.jl:43</a><li> convert(::<b>Type{Base.MPFR.BigFloat}</b>,x::<b>Real</b>) at <a href=\"https://github.com/JuliaLang/julia/tree/8cea71e92ae765872c86c4c5caf1784d12f2eda6/base/mpfr.jl#L92\" target=\"_blank\">mpfr.jl:92</a><li> convert(::<b>Type{FloatingPoint}</b>,x::<b>Base.GMP.BigInt</b>) at <a href=\"https://github.com/JuliaLang/julia/tree/8cea71e92ae765872c86c4c5caf1784d12f2eda6/base/mpfr.jl#L93\" target=\"_blank\">mpfr.jl:93</a><li> convert<i>{T<:Integer}</i>(::<b>Type{T<:Integer}</b>,x::<b>Base.MPFR.BigFloat</b>) at <a href=\"https://github.com/JuliaLang/julia/tree/8cea71e92ae765872c86c4c5caf1784d12f2eda6/base/mpfr.jl#L162\" target=\"_blank\">mpfr.jl:162</a><li> convert(::<b>Type{Float64}</b>,x::<b>Base.MPFR.BigFloat</b>) at <a href=\"https://github.com/JuliaLang/julia/tree/8cea71e92ae765872c86c4c5caf1784d12f2eda6/base/mpfr.jl#L167\" target=\"_blank\">mpfr.jl:167</a><li> convert(::<b>Type{Float32}</b>,x::<b>Base.MPFR.BigFloat</b>) at <a href=\"https://github.com/JuliaLang/julia/tree/8cea71e92ae765872c86c4c5caf1784d12f2eda6/base/mpfr.jl#L169\" target=\"_blank\">mpfr.jl:169</a><li> convert(::<b>Type{Base.Random.UUID}</b>,s::<b>AbstractString</b>) at <a href=\"https://github.com/JuliaLang/julia/tree/8cea71e92ae765872c86c4c5caf1784d12f2eda6/base/random.jl#L1149\" target=\"_blank\">random.jl:1149</a><li> convert<i>{T}</i>(::<b>Type{Nullable{T}}</b>,x::<b>Nullable{T}</b>) at <a href=\"https://github.com/JuliaLang/julia/tree/8cea71e92ae765872c86c4c5caf1784d12f2eda6/base/nullable.jl#L19\" target=\"_blank\">nullable.jl:19</a><li> convert<i>{T}</i>(::<b>Type{Nullable{T}}</b>,x::<b>T</b>) at <a href=\"https://github.com/JuliaLang/julia/tree/8cea71e92ae765872c86c4c5caf1784d12f2eda6/base/nullable.jl#L22\" target=\"_blank\">nullable.jl:22</a><li> convert<i>{T}</i>(::<b>Type{Ptr{T}}</b>,S::<b>SharedArray{T,N}</b>) at <a href=\"https://github.com/JuliaLang/julia/tree/8cea71e92ae765872c86c4c5caf1784d12f2eda6/base/sharedarray.jl#L142\" target=\"_blank\">sharedarray.jl:142</a><li> convert<i>{TS,TA,N}</i>(::<b>Type{SharedArray{TS,N}}</b>,A::<b>Array{TA,N}</b>) at <a href=\"https://github.com/JuliaLang/julia/tree/8cea71e92ae765872c86c4c5caf1784d12f2eda6/base/sharedarray.jl#L146\" target=\"_blank\">sharedarray.jl:146</a><li> convert<i>{T}</i>(::<b>Type{SharedArray{T,N}}</b>,A::<b>Array{T,N}</b>) at <a href=\"https://github.com/JuliaLang/julia/tree/8cea71e92ae765872c86c4c5caf1784d12f2eda6/base/sharedarray.jl#L145\" target=\"_blank\">sharedarray.jl:145</a><li> convert(::<b>Type{SharedArray{T,N}}</b>,A::<b>Array{T,N}</b>) at <a href=\"https://github.com/JuliaLang/julia/tree/8cea71e92ae765872c86c4c5caf1784d12f2eda6/base/sharedarray.jl#L144\" target=\"_blank\">sharedarray.jl:144</a><li> convert<i>{Tv,TvS,TiS}</i>(::<b>Type{Base.SparseMatrix.SparseMatrixCSC{Tv,Ti<:Integer}}</b>,S::<b>Base.SparseMatrix.SparseMatrixCSC{TvS,TiS}</b>) at <a href=\"https://github.com/JuliaLang/julia/tree/8cea71e92ae765872c86c4c5caf1784d12f2eda6/base/sparse/sparsematrix.jl#L155\" target=\"_blank\">sparse/sparsematrix.jl:155</a><li> convert<i>{Tv,Ti,TvS,TiS}</i>(::<b>Type{Base.SparseMatrix.SparseMatrixCSC{Tv,Ti}}</b>,S::<b>Base.SparseMatrix.SparseMatrixCSC{TvS,TiS}</b>) at <a href=\"https://github.com/JuliaLang/julia/tree/8cea71e92ae765872c86c4c5caf1784d12f2eda6/base/sparse/sparsematrix.jl#L144\" target=\"_blank\">sparse/sparsematrix.jl:144</a><li> convert<i>{Tv,Ti}</i>(::<b>Type{Base.SparseMatrix.SparseMatrixCSC{Tv,Ti}}</b>,M::<b>Array{T,2}</b>) at <a href=\"https://github.com/JuliaLang/julia/tree/8cea71e92ae765872c86c4c5caf1784d12f2eda6/base/sparse/sparsematrix.jl#L166\" target=\"_blank\">sparse/sparsematrix.jl:166</a><li> convert<i>{T}</i>(::<b>Type{Base.LinAlg.SymTridiagonal{T}}</b>,M::<b>Base.LinAlg.SymTridiagonal{T}</b>) at <a href=\"https://github.com/JuliaLang/julia/tree/8cea71e92ae765872c86c4c5caf1784d12f2eda6/base/linalg/tridiag.jl#L255\" target=\"_blank\">linalg/tridiag.jl:255</a><li> convert<i>{T}</i>(::<b>Type{Base.LinAlg.Tridiagonal{T}}</b>,M::<b>Base.LinAlg.SymTridiagonal{T}</b>) at <a href=\"https://github.com/JuliaLang/julia/tree/8cea71e92ae765872c86c4c5caf1784d12f2eda6/base/linalg/tridiag.jl#L252\" target=\"_blank\">linalg/tridiag.jl:252</a><li> convert(::<b>Type{Base.LinAlg.Tridiagonal{T}}</b>,A::<b>Base.LinAlg.SymTridiagonal{T}</b>) at <a href=\"https://github.com/JuliaLang/julia/tree/8cea71e92ae765872c86c4c5caf1784d12f2eda6/base/linalg/tridiag.jl#L244\" target=\"_blank\">linalg/tridiag.jl:244</a><li> convert<i>{T}</i>(::<b>Type{Base.LinAlg.Tridiagonal{T}}</b>,M::<b>Base.LinAlg.Tridiagonal{T}</b>) at <a href=\"https://github.com/JuliaLang/julia/tree/8cea71e92ae765872c86c4c5caf1784d12f2eda6/base/linalg/tridiag.jl#L250\" target=\"_blank\">linalg/tridiag.jl:250</a><li> convert<i>{T}</i>(::<b>Type{Base.LinAlg.SymTridiagonal{T}}</b>,M::<b>Base.LinAlg.Tridiagonal{T}</b>) at <a href=\"https://github.com/JuliaLang/julia/tree/8cea71e92ae765872c86c4c5caf1784d12f2eda6/base/linalg/tridiag.jl#L253\" target=\"_blank\">linalg/tridiag.jl:253</a><li> convert<i>{T,S,UpLo,IsUnit}</i>(::<b>Type{Base.LinAlg.Triangular{T,S<:AbstractArray{T,2},UpLo,IsUnit}}</b>,A::<b>Base.LinAlg.Triangular{T,S,UpLo,IsUnit}</b>) at <a href=\"https://github.com/JuliaLang/julia/tree/8cea71e92ae765872c86c4c5caf1784d12f2eda6/base/linalg/triangular.jl#L12\" target=\"_blank\">linalg/triangular.jl:12</a><li> convert<i>{Tnew,Told,S,UpLo,IsUnit}</i>(::<b>Type{Base.LinAlg.Triangular{Tnew,S<:AbstractArray{T,2},UpLo,IsUnit}}</b>,A::<b>Base.LinAlg.Triangular{Told,S,UpLo,IsUnit}</b>) at <a href=\"https://github.com/JuliaLang/julia/tree/8cea71e92ae765872c86c4c5caf1784d12f2eda6/base/linalg/triangular.jl#L13\" target=\"_blank\">linalg/triangular.jl:13</a><li> convert<i>{T}</i>(::<b>Type{Base.LinAlg.QR{T,S<:AbstractArray{T,2}}}</b>,A::<b>Base.LinAlg.QR{T,S<:AbstractArray{T,2}}</b>) at <a href=\"https://github.com/JuliaLang/julia/tree/8cea71e92ae765872c86c4c5caf1784d12f2eda6/base/linalg/factorization.jl#L78\" target=\"_blank\">linalg/factorization.jl:78</a><li> convert<i>{T}</i>(::<b>Type{Base.LinAlg.Factorization{T}}</b>,A::<b>Base.LinAlg.QR{T,S<:AbstractArray{T,2}}</b>) at <a href=\"https://github.com/JuliaLang/julia/tree/8cea71e92ae765872c86c4c5caf1784d12f2eda6/base/linalg/factorization.jl#L79\" target=\"_blank\">linalg/factorization.jl:79</a><li> convert<i>{T}</i>(::<b>Type{Base.LinAlg.QRCompactWY{T,M<:AbstractArray{T,2}}}</b>,A::<b>Base.LinAlg.QRCompactWY{S,M<:AbstractArray{T,2}}</b>) at <a href=\"https://github.com/JuliaLang/julia/tree/8cea71e92ae765872c86c4c5caf1784d12f2eda6/base/linalg/factorization.jl#L80\" target=\"_blank\">linalg/factorization.jl:80</a><li> convert<i>{T}</i>(::<b>Type{Base.LinAlg.Factorization{T}}</b>,A::<b>Base.LinAlg.QRCompactWY{S,M<:AbstractArray{T,2}}</b>) at <a href=\"https://github.com/JuliaLang/julia/tree/8cea71e92ae765872c86c4c5caf1784d12f2eda6/base/linalg/factorization.jl#L81\" target=\"_blank\">linalg/factorization.jl:81</a><li> convert<i>{T}</i>(::<b>Type{Base.LinAlg.QRPivoted{T,S<:AbstractArray{T,2}}}</b>,A::<b>Base.LinAlg.QRPivoted{T,S<:AbstractArray{T,2}}</b>) at <a href=\"https://github.com/JuliaLang/julia/tree/8cea71e92ae765872c86c4c5caf1784d12f2eda6/base/linalg/factorization.jl#L82\" target=\"_blank\">linalg/factorization.jl:82</a><li> convert<i>{T}</i>(::<b>Type{Base.LinAlg.Factorization{T}}</b>,A::<b>Base.LinAlg.QRPivoted{T,S<:AbstractArray{T,2}}</b>) at <a href=\"https://github.com/JuliaLang/julia/tree/8cea71e92ae765872c86c4c5caf1784d12f2eda6/base/linalg/factorization.jl#L83\" target=\"_blank\">linalg/factorization.jl:83</a><li> convert<i>{T}</i>(::<b>Type{Base.LinAlg.QRPackedQ{T,S<:AbstractArray{T,2}}}</b>,Q::<b>Base.LinAlg.QRPackedQ{T,S<:AbstractArray{T,2}}</b>) at <a href=\"https://github.com/JuliaLang/julia/tree/8cea71e92ae765872c86c4c5caf1784d12f2eda6/base/linalg/factorization.jl#L138\" target=\"_blank\">linalg/factorization.jl:138</a><li> convert<i>{S}</i>(::<b>Type{Base.LinAlg.QRCompactWYQ{S,M<:AbstractArray{T,2}}}</b>,Q::<b>Base.LinAlg.QRCompactWYQ{S,M<:AbstractArray{T,2}}</b>) at <a href=\"https://github.com/JuliaLang/julia/tree/8cea71e92ae765872c86c4c5caf1784d12f2eda6/base/linalg/factorization.jl#L140\" target=\"_blank\">linalg/factorization.jl:140</a><li> convert<i>{T}</i>(::<b>Type{Base.LinAlg.Factorization{T}}</b>,C::<b>Base.LinAlg.Cholesky{T,S<:AbstractArray{T,2},UpLo}</b>) at <a href=\"https://github.com/JuliaLang/julia/tree/8cea71e92ae765872c86c4c5caf1784d12f2eda6/base/linalg/cholesky.jl#L110\" target=\"_blank\">linalg/cholesky.jl:110</a><li> convert<i>{T}</i>(::<b>Type{Base.LinAlg.Factorization{T}}</b>,C::<b>Base.LinAlg.CholeskyPivoted{T,S<:AbstractArray{T,2}}</b>) at <a href=\"https://github.com/JuliaLang/julia/tree/8cea71e92ae765872c86c4c5caf1784d12f2eda6/base/linalg/cholesky.jl#L112\" target=\"_blank\">linalg/cholesky.jl:112</a><li> convert<i>{T}</i>(::<b>Type{Base.LinAlg.Factorization{T}}</b>,F::<b>Base.LinAlg.LU{T,S<:AbstractArray{T,2}}</b>) at <a href=\"https://github.com/JuliaLang/julia/tree/8cea71e92ae765872c86c4c5caf1784d12f2eda6/base/linalg/lu.jl#L82\" target=\"_blank\">linalg/lu.jl:82</a><li> convert<i>{T}</i>(::<b>Type{Base.LinAlg.Factorization{T}}</b>,B::<b>Base.LinAlg.BunchKaufman{T,S<:AbstractArray{T,2}}</b>) at <a href=\"https://github.com/JuliaLang/julia/tree/8cea71e92ae765872c86c4c5caf1784d12f2eda6/base/linalg/bunchkaufman.jl#L27\" target=\"_blank\">linalg/bunchkaufman.jl:27</a><li> convert<i>{T,S,U}</i>(::<b>Type{Base.LinAlg.Factorization{T}}</b>,F::<b>Base.LinAlg.LDLt{S,U}</b>) at <a href=\"https://github.com/JuliaLang/julia/tree/8cea71e92ae765872c86c4c5caf1784d12f2eda6/base/linalg/ldlt.jl#L13\" target=\"_blank\">linalg/ldlt.jl:13</a><li> convert<i>{T}</i>(::<b>Type{Base.LinAlg.Factorization{T}}</b>,F::<b>Base.LinAlg.Factorization{T}</b>) at <a href=\"https://github.com/JuliaLang/julia/tree/8cea71e92ae765872c86c4c5caf1784d12f2eda6/base/linalg/factorization.jl#L739\" target=\"_blank\">linalg/factorization.jl:739</a><li> convert<i>{Tnew,Told,S,UpLo}</i>(::<b>Type{Base.LinAlg.Cholesky{Tnew,S<:AbstractArray{T,2},UpLo}}</b>,C::<b>Base.LinAlg.Cholesky{Told,S,UpLo}</b>) at <a href=\"https://github.com/JuliaLang/julia/tree/8cea71e92ae765872c86c4c5caf1784d12f2eda6/base/linalg/cholesky.jl#L103\" target=\"_blank\">linalg/cholesky.jl:103</a><li> convert<i>{T,S,UpLo}</i>(::<b>Type{Base.LinAlg.Cholesky{T,S,UpLo}}</b>,C::<b>Base.LinAlg.Cholesky{T,S<:AbstractArray{T,2},UpLo}</b>) at <a href=\"https://github.com/JuliaLang/julia/tree/8cea71e92ae765872c86c4c5caf1784d12f2eda6/base/linalg/cholesky.jl#L107\" target=\"_blank\">linalg/cholesky.jl:107</a><li> convert<i>{T}</i>(::<b>Type{Base.LinAlg.CholeskyPivoted{T,S<:AbstractArray{T,2}}}</b>,C::<b>Base.LinAlg.CholeskyPivoted{T,S<:AbstractArray{T,2}}</b>) at <a href=\"https://github.com/JuliaLang/julia/tree/8cea71e92ae765872c86c4c5caf1784d12f2eda6/base/linalg/cholesky.jl#L111\" target=\"_blank\">linalg/cholesky.jl:111</a><li> convert<i>{T}</i>(::<b>Type{Base.LinAlg.LU{T,S<:AbstractArray{T,2}}}</b>,F::<b>Base.LinAlg.LU{T,S<:AbstractArray{T,2}}</b>) at <a href=\"https://github.com/JuliaLang/julia/tree/8cea71e92ae765872c86c4c5caf1784d12f2eda6/base/linalg/lu.jl#L78\" target=\"_blank\">linalg/lu.jl:78</a><li> convert<i>{T,S}</i>(::<b>Type{Base.LinAlg.LU{T,S}}</b>,F::<b>Base.LinAlg.LU{T,S<:AbstractArray{T,2}}</b>) at <a href=\"https://github.com/JuliaLang/julia/tree/8cea71e92ae765872c86c4c5caf1784d12f2eda6/base/linalg/lu.jl#L81\" target=\"_blank\">linalg/lu.jl:81</a><li> convert<i>{T}</i>(::<b>Type{Base.LinAlg.BunchKaufman{T,S<:AbstractArray{T,2}}}</b>,B::<b>Base.LinAlg.BunchKaufman{T,S<:AbstractArray{T,2}}</b>) at <a href=\"https://github.com/JuliaLang/julia/tree/8cea71e92ae765872c86c4c5caf1784d12f2eda6/base/linalg/bunchkaufman.jl#L26\" target=\"_blank\">linalg/bunchkaufman.jl:26</a><li> convert<i>{T,S<:AbstractArray{T,2}}</i>(::<b>Type{Base.LinAlg.Symmetric{T,S<:AbstractArray{T,2}}}</b>,A::<b>Base.LinAlg.Symmetric{T,S<:AbstractArray{T,2}}</b>) at <a href=\"https://github.com/JuliaLang/julia/tree/8cea71e92ae765872c86c4c5caf1784d12f2eda6/base/linalg/symmetric.jl#L20\" target=\"_blank\">linalg/symmetric.jl:20</a><li> convert<i>{T,S<:AbstractArray{T,2}}</i>(::<b>Type{Base.LinAlg.Symmetric{T,S<:AbstractArray{T,2}}}</b>,A::<b>Base.LinAlg.Symmetric{T,S<:AbstractArray{T,2}}</b>) at <a href=\"https://github.com/JuliaLang/julia/tree/8cea71e92ae765872c86c4c5caf1784d12f2eda6/base/linalg/symmetric.jl#L21\" target=\"_blank\">linalg/symmetric.jl:21</a><li> convert<i>{T,S<:AbstractArray{T,2}}</i>(::<b>Type{Base.LinAlg.Hermitian{T,S<:AbstractArray{T,2}}}</b>,A::<b>Base.LinAlg.Hermitian{T,S<:AbstractArray{T,2}}</b>) at <a href=\"https://github.com/JuliaLang/julia/tree/8cea71e92ae765872c86c4c5caf1784d12f2eda6/base/linalg/symmetric.jl#L23\" target=\"_blank\">linalg/symmetric.jl:23</a><li> convert<i>{T,S<:AbstractArray{T,2}}</i>(::<b>Type{Base.LinAlg.Hermitian{T,S<:AbstractArray{T,2}}}</b>,A::<b>Base.LinAlg.Hermitian{T,S<:AbstractArray{T,2}}</b>) at <a href=\"https://github.com/JuliaLang/julia/tree/8cea71e92ae765872c86c4c5caf1784d12f2eda6/base/linalg/symmetric.jl#L24\" target=\"_blank\">linalg/symmetric.jl:24</a><li> convert<i>{T}</i>(::<b>Type{Base.LinAlg.Diagonal{T}}</b>,D::<b>Base.LinAlg.Diagonal{T}</b>) at <a href=\"https://github.com/JuliaLang/julia/tree/8cea71e92ae765872c86c4c5caf1784d12f2eda6/base/linalg/diagonal.jl#L8\" target=\"_blank\">linalg/diagonal.jl:8</a><li> convert<i>{T}</i>(::<b>Type{Base.LinAlg.Diagonal{T}}</b>,D::<b>Base.LinAlg.Diagonal{T}</b>) at <a href=\"https://github.com/JuliaLang/julia/tree/8cea71e92ae765872c86c4c5caf1784d12f2eda6/base/linalg/diagonal.jl#L9\" target=\"_blank\">linalg/diagonal.jl:9</a><li> convert<i>{T}</i>(::<b>Type{Base.LinAlg.Triangular{T,S<:AbstractArray{T,2},UpLo,IsUnit}}</b>,A::<b>Base.LinAlg.Diagonal{T}</b>) at <a href=\"https://github.com/JuliaLang/julia/tree/8cea71e92ae765872c86c4c5caf1784d12f2eda6/base/linalg/diagonal.jl#L11\" target=\"_blank\">linalg/diagonal.jl:11</a><li> convert<i>{T}</i>(::<b>Type{Base.LinAlg.Tridiagonal{T}}</b>,A::<b>Base.LinAlg.Bidiagonal{T}</b>) at <a href=\"https://github.com/JuliaLang/julia/tree/8cea71e92ae765872c86c4c5caf1784d12f2eda6/base/linalg/bidiag.jl#L38\" target=\"_blank\">linalg/bidiag.jl:38</a><li> convert<i>{T}</i>(::<b>Type{Base.LinAlg.Bidiagonal{T}}</b>,A::<b>Base.LinAlg.Diagonal{T}</b>) at <a href=\"https://github.com/JuliaLang/julia/tree/8cea71e92ae765872c86c4c5caf1784d12f2eda6/base/linalg/special.jl#L4\" target=\"_blank\">linalg/special.jl:4</a><li> convert<i>{T}</i>(::<b>Type{Base.LinAlg.SymTridiagonal{T}}</b>,A::<b>Base.LinAlg.Diagonal{T}</b>) at <a href=\"https://github.com/JuliaLang/julia/tree/8cea71e92ae765872c86c4c5caf1784d12f2eda6/base/linalg/special.jl#L5\" target=\"_blank\">linalg/special.jl:5</a><li> convert<i>{T}</i>(::<b>Type{Base.LinAlg.Tridiagonal{T}}</b>,A::<b>Base.LinAlg.Diagonal{T}</b>) at <a href=\"https://github.com/JuliaLang/julia/tree/8cea71e92ae765872c86c4c5caf1784d12f2eda6/base/linalg/special.jl#L6\" target=\"_blank\">linalg/special.jl:6</a><li> convert(::<b>Type{Base.LinAlg.Triangular{T,S<:AbstractArray{T,2},UpLo,IsUnit}}</b>,A::<b>Base.LinAlg.Diagonal{T}</b>) at <a href=\"https://github.com/JuliaLang/julia/tree/8cea71e92ae765872c86c4c5caf1784d12f2eda6/base/linalg/special.jl#L7\" target=\"_blank\">linalg/special.jl:7</a><li> convert(::<b>Type{Base.LinAlg.Triangular{T,S<:AbstractArray{T,2},UpLo,IsUnit}}</b>,A::<b>Base.LinAlg.Bidiagonal{T}</b>) at <a href=\"https://github.com/JuliaLang/julia/tree/8cea71e92ae765872c86c4c5caf1784d12f2eda6/base/linalg/special.jl#L8\" target=\"_blank\">linalg/special.jl:8</a><li> convert(::<b>Type{Base.LinAlg.Diagonal{T}}</b>,A::<b>Union(Base.LinAlg.Bidiagonal{T},Base.LinAlg.SymTridiagonal{T})</b>) at <a href=\"https://github.com/JuliaLang/julia/tree/8cea71e92ae765872c86c4c5caf1784d12f2eda6/base/linalg/special.jl#L12\" target=\"_blank\">linalg/special.jl:12</a><li> convert(::<b>Type{Base.LinAlg.SymTridiagonal{T}}</b>,A::<b>Base.LinAlg.Bidiagonal{T}</b>) at <a href=\"https://github.com/JuliaLang/julia/tree/8cea71e92ae765872c86c4c5caf1784d12f2eda6/base/linalg/special.jl#L17\" target=\"_blank\">linalg/special.jl:17</a><li> convert<i>{T}</i>(::<b>Type{Base.LinAlg.Tridiagonal{T}}</b>,A::<b>Base.LinAlg.Bidiagonal{T}</b>) at <a href=\"https://github.com/JuliaLang/julia/tree/8cea71e92ae765872c86c4c5caf1784d12f2eda6/base/linalg/special.jl#L21\" target=\"_blank\">linalg/special.jl:21</a><li> convert(::<b>Type{Base.LinAlg.Bidiagonal{T}}</b>,A::<b>Base.LinAlg.SymTridiagonal{T}</b>) at <a href=\"https://github.com/JuliaLang/julia/tree/8cea71e92ae765872c86c4c5caf1784d12f2eda6/base/linalg/special.jl#L24\" target=\"_blank\">linalg/special.jl:24</a><li> convert(::<b>Type{Base.LinAlg.Diagonal{T}}</b>,A::<b>Base.LinAlg.Tridiagonal{T}</b>) at <a href=\"https://github.com/JuliaLang/julia/tree/8cea71e92ae765872c86c4c5caf1784d12f2eda6/base/linalg/special.jl#L29\" target=\"_blank\">linalg/special.jl:29</a><li> convert(::<b>Type{Base.LinAlg.Bidiagonal{T}}</b>,A::<b>Base.LinAlg.Tridiagonal{T}</b>) at <a href=\"https://github.com/JuliaLang/julia/tree/8cea71e92ae765872c86c4c5caf1784d12f2eda6/base/linalg/special.jl#L34\" target=\"_blank\">linalg/special.jl:34</a><li> convert(::<b>Type{Base.LinAlg.SymTridiagonal{T}}</b>,A::<b>Base.LinAlg.Tridiagonal{T}</b>) at <a href=\"https://github.com/JuliaLang/julia/tree/8cea71e92ae765872c86c4c5caf1784d12f2eda6/base/linalg/special.jl#L41\" target=\"_blank\">linalg/special.jl:41</a><li> convert(::<b>Type{Base.LinAlg.Diagonal{T}}</b>,A::<b>Base.LinAlg.Triangular{T,S<:AbstractArray{T,2},UpLo,IsUnit}</b>) at <a href=\"https://github.com/JuliaLang/julia/tree/8cea71e92ae765872c86c4c5caf1784d12f2eda6/base/linalg/special.jl#L46\" target=\"_blank\">linalg/special.jl:46</a><li> convert(::<b>Type{Base.LinAlg.Bidiagonal{T}}</b>,A::<b>Base.LinAlg.Triangular{T,S<:AbstractArray{T,2},UpLo,IsUnit}</b>) at <a href=\"https://github.com/JuliaLang/julia/tree/8cea71e92ae765872c86c4c5caf1784d12f2eda6/base/linalg/special.jl#L51\" target=\"_blank\">linalg/special.jl:51</a><li> convert(::<b>Type{Base.LinAlg.SymTridiagonal{T}}</b>,A::<b>Base.LinAlg.Triangular{T,S<:AbstractArray{T,2},UpLo,IsUnit}</b>) at <a href=\"https://github.com/JuliaLang/julia/tree/8cea71e92ae765872c86c4c5caf1784d12f2eda6/base/linalg/special.jl#L61\" target=\"_blank\">linalg/special.jl:61</a><li> convert(::<b>Type{Base.LinAlg.Tridiagonal{T}}</b>,A::<b>Base.LinAlg.Triangular{T,S<:AbstractArray{T,2},UpLo,IsUnit}</b>) at <a href=\"https://github.com/JuliaLang/julia/tree/8cea71e92ae765872c86c4c5caf1784d12f2eda6/base/linalg/special.jl#L64\" target=\"_blank\">linalg/special.jl:64</a><li> convert<i>{T,S,U<:AbstractArray{T,2}}</i>(::<b>Type{Base.LinAlg.LDLt{T,S<:AbstractArray{T,2}}}</b>,F::<b>Base.LinAlg.LDLt{S,U<:AbstractArray{T,2}}</b>) at <a href=\"https://github.com/JuliaLang/julia/tree/8cea71e92ae765872c86c4c5caf1784d12f2eda6/base/linalg/ldlt.jl#L11\" target=\"_blank\">linalg/ldlt.jl:11</a><li> convert<i>{T,S}</i>(::<b>Type{Base.LinAlg.LDLt{T,S}}</b>,F::<b>Base.LinAlg.LDLt{T,S<:AbstractArray{T,2}}</b>) at <a href=\"https://github.com/JuliaLang/julia/tree/8cea71e92ae765872c86c4c5caf1784d12f2eda6/base/linalg/ldlt.jl#L8\" target=\"_blank\">linalg/ldlt.jl:8</a><li> convert(::<b>Type{FloatingPoint}</b>,x::<b>MathConst{sym}</b>) at <a href=\"https://github.com/JuliaLang/julia/tree/8cea71e92ae765872c86c4c5caf1784d12f2eda6/base/constants.jl#L11\" target=\"_blank\">constants.jl:11</a><li> convert(::<b>Type{Float16}</b>,x::<b>MathConst{sym}</b>) at <a href=\"https://github.com/JuliaLang/julia/tree/8cea71e92ae765872c86c4c5caf1784d12f2eda6/base/constants.jl#L12\" target=\"_blank\">constants.jl:12</a><li> convert<i>{T<:Integer}</i>(::<b>Type{Rational{T<:Integer}}</b>,x::<b>MathConst{sym}</b>) at <a href=\"https://github.com/JuliaLang/julia/tree/8cea71e92ae765872c86c4c5caf1784d12f2eda6/base/constants.jl#L14\" target=\"_blank\">constants.jl:14</a><li> convert(::<b>Type{Float64}</b>,::<b>MathConst{:π}</b>) at <a href=\"https://github.com/JuliaLang/julia/tree/8cea71e92ae765872c86c4c5caf1784d12f2eda6/base/constants.jl#L48\" target=\"_blank\">constants.jl:48</a><li> convert(::<b>Type{Float32}</b>,::<b>MathConst{:π}</b>) at <a href=\"https://github.com/JuliaLang/julia/tree/8cea71e92ae765872c86c4c5caf1784d12f2eda6/base/constants.jl#L49\" target=\"_blank\">constants.jl:49</a><li> convert(::<b>Type{Float64}</b>,::<b>MathConst{:e}</b>) at <a href=\"https://github.com/JuliaLang/julia/tree/8cea71e92ae765872c86c4c5caf1784d12f2eda6/base/constants.jl#L48\" target=\"_blank\">constants.jl:48</a><li> convert(::<b>Type{Float32}</b>,::<b>MathConst{:e}</b>) at <a href=\"https://github.com/JuliaLang/julia/tree/8cea71e92ae765872c86c4c5caf1784d12f2eda6/base/constants.jl#L49\" target=\"_blank\">constants.jl:49</a><li> convert(::<b>Type{Float64}</b>,::<b>MathConst{:γ}</b>) at <a href=\"https://github.com/JuliaLang/julia/tree/8cea71e92ae765872c86c4c5caf1784d12f2eda6/base/constants.jl#L48\" target=\"_blank\">constants.jl:48</a><li> convert(::<b>Type{Float32}</b>,::<b>MathConst{:γ}</b>) at <a href=\"https://github.com/JuliaLang/julia/tree/8cea71e92ae765872c86c4c5caf1784d12f2eda6/base/constants.jl#L49\" target=\"_blank\">constants.jl:49</a><li> convert(::<b>Type{Float64}</b>,::<b>MathConst{:catalan}</b>) at <a href=\"https://github.com/JuliaLang/julia/tree/8cea71e92ae765872c86c4c5caf1784d12f2eda6/base/constants.jl#L48\" target=\"_blank\">constants.jl:48</a><li> convert(::<b>Type{Float32}</b>,::<b>MathConst{:catalan}</b>) at <a href=\"https://github.com/JuliaLang/julia/tree/8cea71e92ae765872c86c4c5caf1784d12f2eda6/base/constants.jl#L49\" target=\"_blank\">constants.jl:49</a><li> convert(::<b>Type{Float64}</b>,::<b>MathConst{:φ}</b>) at <a href=\"https://github.com/JuliaLang/julia/tree/8cea71e92ae765872c86c4c5caf1784d12f2eda6/base/constants.jl#L48\" target=\"_blank\">constants.jl:48</a><li> convert(::<b>Type{Float32}</b>,::<b>MathConst{:φ}</b>) at <a href=\"https://github.com/JuliaLang/julia/tree/8cea71e92ae765872c86c4c5caf1784d12f2eda6/base/constants.jl#L49\" target=\"_blank\">constants.jl:49</a><li> convert<i>{T}</i>(p::<b>Type{Ptr{T}}</b>,a::<b>Array{T,N}</b>) at <a href=\"https://github.com/JuliaLang/julia/tree/8cea71e92ae765872c86c4c5caf1784d12f2eda6/base/deprecated.jl#L28\" target=\"_blank\">deprecated.jl:28</a><li> convert<i>{T<:Number}</i>(::<b>Type{T<:Number}</b>,x::<b>Base.Dates.Period</b>) at <a href=\"https://github.com/JuliaLang/julia/tree/8cea71e92ae765872c86c4c5caf1784d12f2eda6/base/dates/periods.jl#L19\" target=\"_blank\">dates/periods.jl:19</a><li> convert<i>{T<:Base.Dates.Period}</i>(::<b>Type{T<:Base.Dates.Period}</b>,x::<b>Real</b>) at <a href=\"https://github.com/JuliaLang/julia/tree/8cea71e92ae765872c86c4c5caf1784d12f2eda6/base/dates/periods.jl#L20\" target=\"_blank\">dates/periods.jl:20</a><li> convert(::<b>Type{Base.Dates.CompoundPeriod}</b>,x::<b>Base.Dates.Period</b>) at <a href=\"https://github.com/JuliaLang/julia/tree/8cea71e92ae765872c86c4c5caf1784d12f2eda6/base/dates/periods.jl#L180\" target=\"_blank\">dates/periods.jl:180</a><li> convert(::<b>Type{Base.Dates.Week}</b>,x::<b>Base.Dates.Day</b>) at <a href=\"https://github.com/JuliaLang/julia/tree/8cea71e92ae765872c86c4c5caf1784d12f2eda6/base/dates/periods.jl#L250\" target=\"_blank\">dates/periods.jl:250</a><li> convert(::<b>Type{Base.Dates.Week}</b>,x::<b>Base.Dates.Hour</b>) at <a href=\"https://github.com/JuliaLang/julia/tree/8cea71e92ae765872c86c4c5caf1784d12f2eda6/base/dates/periods.jl#L250\" target=\"_blank\">dates/periods.jl:250</a><li> convert(::<b>Type{Base.Dates.Week}</b>,x::<b>Base.Dates.Minute</b>) at <a href=\"https://github.com/JuliaLang/julia/tree/8cea71e92ae765872c86c4c5caf1784d12f2eda6/base/dates/periods.jl#L250\" target=\"_blank\">dates/periods.jl:250</a><li> convert(::<b>Type{Base.Dates.Week}</b>,x::<b>Base.Dates.Second</b>) at <a href=\"https://github.com/JuliaLang/julia/tree/8cea71e92ae765872c86c4c5caf1784d12f2eda6/base/dates/periods.jl#L250\" target=\"_blank\">dates/periods.jl:250</a><li> convert(::<b>Type{Base.Dates.Week}</b>,x::<b>Base.Dates.Millisecond</b>) at <a href=\"https://github.com/JuliaLang/julia/tree/8cea71e92ae765872c86c4c5caf1784d12f2eda6/base/dates/periods.jl#L250\" target=\"_blank\">dates/periods.jl:250</a><li> convert(::<b>Type{Base.Dates.Day}</b>,x::<b>Base.Dates.Week</b>) at <a href=\"https://github.com/JuliaLang/julia/tree/8cea71e92ae765872c86c4c5caf1784d12f2eda6/base/dates/periods.jl#L243\" target=\"_blank\">dates/periods.jl:243</a><li> convert(::<b>Type{Base.Dates.Day}</b>,x::<b>Base.Dates.Hour</b>) at <a href=\"https://github.com/JuliaLang/julia/tree/8cea71e92ae765872c86c4c5caf1784d12f2eda6/base/dates/periods.jl#L250\" target=\"_blank\">dates/periods.jl:250</a><li> convert(::<b>Type{Base.Dates.Day}</b>,x::<b>Base.Dates.Minute</b>) at <a href=\"https://github.com/JuliaLang/julia/tree/8cea71e92ae765872c86c4c5caf1784d12f2eda6/base/dates/periods.jl#L250\" target=\"_blank\">dates/periods.jl:250</a><li> convert(::<b>Type{Base.Dates.Day}</b>,x::<b>Base.Dates.Second</b>) at <a href=\"https://github.com/JuliaLang/julia/tree/8cea71e92ae765872c86c4c5caf1784d12f2eda6/base/dates/periods.jl#L250\" target=\"_blank\">dates/periods.jl:250</a><li> convert(::<b>Type{Base.Dates.Day}</b>,x::<b>Base.Dates.Millisecond</b>) at <a href=\"https://github.com/JuliaLang/julia/tree/8cea71e92ae765872c86c4c5caf1784d12f2eda6/base/dates/periods.jl#L250\" target=\"_blank\">dates/periods.jl:250</a><li> convert(::<b>Type{Base.Dates.Hour}</b>,x::<b>Base.Dates.Day</b>) at <a href=\"https://github.com/JuliaLang/julia/tree/8cea71e92ae765872c86c4c5caf1784d12f2eda6/base/dates/periods.jl#L243\" target=\"_blank\">dates/periods.jl:243</a><li> convert(::<b>Type{Base.Dates.Hour}</b>,x::<b>Base.Dates.Week</b>) at <a href=\"https://github.com/JuliaLang/julia/tree/8cea71e92ae765872c86c4c5caf1784d12f2eda6/base/dates/periods.jl#L243\" target=\"_blank\">dates/periods.jl:243</a><li> convert(::<b>Type{Base.Dates.Hour}</b>,x::<b>Base.Dates.Minute</b>) at <a href=\"https://github.com/JuliaLang/julia/tree/8cea71e92ae765872c86c4c5caf1784d12f2eda6/base/dates/periods.jl#L250\" target=\"_blank\">dates/periods.jl:250</a><li> convert(::<b>Type{Base.Dates.Hour}</b>,x::<b>Base.Dates.Second</b>) at <a href=\"https://github.com/JuliaLang/julia/tree/8cea71e92ae765872c86c4c5caf1784d12f2eda6/base/dates/periods.jl#L250\" target=\"_blank\">dates/periods.jl:250</a><li> convert(::<b>Type{Base.Dates.Hour}</b>,x::<b>Base.Dates.Millisecond</b>) at <a href=\"https://github.com/JuliaLang/julia/tree/8cea71e92ae765872c86c4c5caf1784d12f2eda6/base/dates/periods.jl#L250\" target=\"_blank\">dates/periods.jl:250</a><li> convert(::<b>Type{Base.Dates.Minute}</b>,x::<b>Base.Dates.Hour</b>) at <a href=\"https://github.com/JuliaLang/julia/tree/8cea71e92ae765872c86c4c5caf1784d12f2eda6/base/dates/periods.jl#L243\" target=\"_blank\">dates/periods.jl:243</a><li> convert(::<b>Type{Base.Dates.Minute}</b>,x::<b>Base.Dates.Day</b>) at <a href=\"https://github.com/JuliaLang/julia/tree/8cea71e92ae765872c86c4c5caf1784d12f2eda6/base/dates/periods.jl#L243\" target=\"_blank\">dates/periods.jl:243</a><li> convert(::<b>Type{Base.Dates.Minute}</b>,x::<b>Base.Dates.Week</b>) at <a href=\"https://github.com/JuliaLang/julia/tree/8cea71e92ae765872c86c4c5caf1784d12f2eda6/base/dates/periods.jl#L243\" target=\"_blank\">dates/periods.jl:243</a><li> convert(::<b>Type{Base.Dates.Minute}</b>,x::<b>Base.Dates.Second</b>) at <a href=\"https://github.com/JuliaLang/julia/tree/8cea71e92ae765872c86c4c5caf1784d12f2eda6/base/dates/periods.jl#L250\" target=\"_blank\">dates/periods.jl:250</a><li> convert(::<b>Type{Base.Dates.Minute}</b>,x::<b>Base.Dates.Millisecond</b>) at <a href=\"https://github.com/JuliaLang/julia/tree/8cea71e92ae765872c86c4c5caf1784d12f2eda6/base/dates/periods.jl#L250\" target=\"_blank\">dates/periods.jl:250</a><li> convert(::<b>Type{Base.Dates.Second}</b>,x::<b>Base.Dates.Minute</b>) at <a href=\"https://github.com/JuliaLang/julia/tree/8cea71e92ae765872c86c4c5caf1784d12f2eda6/base/dates/periods.jl#L243\" target=\"_blank\">dates/periods.jl:243</a><li> convert(::<b>Type{Base.Dates.Second}</b>,x::<b>Base.Dates.Hour</b>) at <a href=\"https://github.com/JuliaLang/julia/tree/8cea71e92ae765872c86c4c5caf1784d12f2eda6/base/dates/periods.jl#L243\" target=\"_blank\">dates/periods.jl:243</a><li> convert(::<b>Type{Base.Dates.Second}</b>,x::<b>Base.Dates.Day</b>) at <a href=\"https://github.com/JuliaLang/julia/tree/8cea71e92ae765872c86c4c5caf1784d12f2eda6/base/dates/periods.jl#L243\" target=\"_blank\">dates/periods.jl:243</a><li> convert(::<b>Type{Base.Dates.Second}</b>,x::<b>Base.Dates.Week</b>) at <a href=\"https://github.com/JuliaLang/julia/tree/8cea71e92ae765872c86c4c5caf1784d12f2eda6/base/dates/periods.jl#L243\" target=\"_blank\">dates/periods.jl:243</a><li> convert(::<b>Type{Base.Dates.Second}</b>,x::<b>Base.Dates.Millisecond</b>) at <a href=\"https://github.com/JuliaLang/julia/tree/8cea71e92ae765872c86c4c5caf1784d12f2eda6/base/dates/periods.jl#L250\" target=\"_blank\">dates/periods.jl:250</a><li> convert(::<b>Type{Base.Dates.Millisecond}</b>,x::<b>Base.Dates.Second</b>) at <a href=\"https://github.com/JuliaLang/julia/tree/8cea71e92ae765872c86c4c5caf1784d12f2eda6/base/dates/periods.jl#L243\" target=\"_blank\">dates/periods.jl:243</a><li> convert(::<b>Type{Base.Dates.Millisecond}</b>,x::<b>Base.Dates.Minute</b>) at <a href=\"https://github.com/JuliaLang/julia/tree/8cea71e92ae765872c86c4c5caf1784d12f2eda6/base/dates/periods.jl#L243\" target=\"_blank\">dates/periods.jl:243</a><li> convert(::<b>Type{Base.Dates.Millisecond}</b>,x::<b>Base.Dates.Hour</b>) at <a href=\"https://github.com/JuliaLang/julia/tree/8cea71e92ae765872c86c4c5caf1784d12f2eda6/base/dates/periods.jl#L243\" target=\"_blank\">dates/periods.jl:243</a><li> convert(::<b>Type{Base.Dates.Millisecond}</b>,x::<b>Base.Dates.Day</b>) at <a href=\"https://github.com/JuliaLang/julia/tree/8cea71e92ae765872c86c4c5caf1784d12f2eda6/base/dates/periods.jl#L243\" target=\"_blank\">dates/periods.jl:243</a><li> convert(::<b>Type{Base.Dates.Millisecond}</b>,x::<b>Base.Dates.Week</b>) at <a href=\"https://github.com/JuliaLang/julia/tree/8cea71e92ae765872c86c4c5caf1784d12f2eda6/base/dates/periods.jl#L243\" target=\"_blank\">dates/periods.jl:243</a><li> convert(::<b>Type{Base.Dates.Month}</b>,x::<b>Base.Dates.Year</b>) at <a href=\"https://github.com/JuliaLang/julia/tree/8cea71e92ae765872c86c4c5caf1784d12f2eda6/base/dates/periods.jl#L263\" target=\"_blank\">dates/periods.jl:263</a><li> convert(::<b>Type{Base.Dates.Year}</b>,x::<b>Base.Dates.Month</b>) at <a href=\"https://github.com/JuliaLang/julia/tree/8cea71e92ae765872c86c4c5caf1784d12f2eda6/base/dates/periods.jl#L267\" target=\"_blank\">dates/periods.jl:267</a><li> convert(::<b>Type{Base.Dates.DateTime}</b>,dt::<b>Base.Dates.Date</b>) at <a href=\"https://github.com/JuliaLang/julia/tree/8cea71e92ae765872c86c4c5caf1784d12f2eda6/base/dates/conversions.jl#L4\" target=\"_blank\">dates/conversions.jl:4</a><li> convert(::<b>Type{Base.Dates.Date}</b>,dt::<b>Base.Dates.DateTime</b>) at <a href=\"https://github.com/JuliaLang/julia/tree/8cea71e92ae765872c86c4c5caf1784d12f2eda6/base/dates/conversions.jl#L5\" target=\"_blank\">dates/conversions.jl:5</a><li> convert<i>{R<:Real}</i>(::<b>Type{R<:Real}</b>,x::<b>Base.Dates.DateTime</b>) at <a href=\"https://github.com/JuliaLang/julia/tree/8cea71e92ae765872c86c4c5caf1784d12f2eda6/base/dates/conversions.jl#L6\" target=\"_blank\">dates/conversions.jl:6</a><li> convert<i>{R<:Real}</i>(::<b>Type{R<:Real}</b>,x::<b>Base.Dates.Date</b>) at <a href=\"https://github.com/JuliaLang/julia/tree/8cea71e92ae765872c86c4c5caf1784d12f2eda6/base/dates/conversions.jl#L7\" target=\"_blank\">dates/conversions.jl:7</a><li> convert(::<b>Type{Ptr{UInt8}}</b>,zmsg::<b>ZMQ.Message</b>) at <a href=\"https://github.com/JuliaLang/ZMQ.jl/tree/e5038a7bdb9fdbd336a4dca0492cc4f52b88fda5/src/ZMQ.jl#L423\" target=\"_blank\">/home/luki/.julia/v0.4/ZMQ/src/ZMQ.jl:423</a><li> convert(::<b>Type{IOStream}</b>,zmsg::<b>ZMQ.Message</b>) at <a href=\"https://github.com/JuliaLang/ZMQ.jl/tree/e5038a7bdb9fdbd336a4dca0492cc4f52b88fda5/src/ZMQ.jl#L443\" target=\"_blank\">/home/luki/.julia/v0.4/ZMQ/src/ZMQ.jl:443</a><li> convert<i>{T}</i>(::<b>Type{T}</b>,x::<b>T</b>) at <a href=\"https://github.com/JuliaLang/julia/tree/8cea71e92ae765872c86c4c5caf1784d12f2eda6/base/base.jl#L36\" target=\"_blank\">base.jl:36</a><li> convert(T::<b>(Any,Any...)</b>,x::<b>(Any,Any...)</b>) at <a href=\"https://github.com/JuliaLang/julia/tree/8cea71e92ae765872c86c4c5caf1784d12f2eda6/base/base.jl#L46\" target=\"_blank\">base.jl:46</a></ul>"
      ],
      "text/plain": [
       "# 488 methods for generic function \"convert\":\n",
       "convert(::(),::()) at base.jl:38\n",
       "convert(::Type{(Any...,)},x::(Any...,)) at base.jl:39\n",
       "convert{T}(::Type{(T...,)},x::(Any...,)) at base.jl:49\n",
       "convert(T::(Type{T<:Top},Type{T<:Top}...),x::(Any,Any...)) at base.jl:44\n",
       "convert{T}(::Type{FloatRange{T}},r::FloatRange{T<:FloatingPoint}) at range.jl:468\n",
       "convert{T}(::Type{FloatRange{T}},r::OrdinalRange{T,S}) at range.jl:473\n",
       "convert{T}(::Type{Array{T,1}},r::Range{T}) at range.jl:508\n",
       "convert(::Type{Bool},x::Bool) at bool.jl:3\n",
       "convert(::Type{Bool},x::Rational{T<:Integer}) at rational.jl:64\n",
       "convert(::Type{Bool},x::Float16) at float16.jl:99\n",
       "convert(::Type{Bool},x::Base.MPFR.BigFloat) at mpfr.jl:154\n",
       "convert(::Type{Bool},x::Real) at bool.jl:4\n",
       "convert(::Type{Int8},x::UInt8) at int.jl:169\n",
       "convert(::Type{Int8},x::Int16) at int.jl:154\n",
       "convert(::Type{Int8},x::UInt16) at int.jl:154\n",
       "convert(::Type{Int8},x::Int32) at int.jl:154\n",
       "convert(::Type{Int8},x::UInt32) at int.jl:154\n",
       "convert(::Type{Int8},x::Int64) at int.jl:154\n",
       "convert(::Type{Int8},x::UInt64) at int.jl:154\n",
       "convert(::Type{Int8},x::Int128) at int.jl:154\n",
       "convert(::Type{Int8},x::UInt128) at int.jl:154\n",
       "convert(::Type{Int8},x::Char) at int.jl:154\n",
       "convert(::Type{Int8},x::Bool) at int.jl:163\n",
       "convert(::Type{UInt8},x::Int8) at int.jl:169\n",
       "convert(::Type{UInt8},x::Int16) at int.jl:156\n",
       "convert(::Type{UInt8},x::UInt16) at int.jl:156\n",
       "convert(::Type{UInt8},x::Int32) at int.jl:156\n",
       "convert(::Type{UInt8},x::UInt32) at int.jl:156\n",
       "convert(::Type{UInt8},x::Int64) at int.jl:156\n",
       "convert(::Type{UInt8},x::UInt64) at int.jl:156\n",
       "convert(::Type{UInt8},x::Int128) at int.jl:156\n",
       "convert(::Type{UInt8},x::UInt128) at int.jl:156\n",
       "convert(::Type{UInt8},x::Char) at int.jl:156\n",
       "convert(::Type{UInt8},x::Bool) at int.jl:163\n",
       "convert(::Type{Int16},x::Int8) at int.jl:161\n",
       "convert(::Type{Int16},x::UInt8) at int.jl:163\n",
       "convert(::Type{Int16},x::UInt16) at int.jl:169\n",
       "convert(::Type{Int16},x::Int32) at int.jl:154\n",
       "convert(::Type{Int16},x::UInt32) at int.jl:154\n",
       "convert(::Type{Int16},x::Int64) at int.jl:154\n",
       "convert(::Type{Int16},x::UInt64) at int.jl:154\n",
       "convert(::Type{Int16},x::Int128) at int.jl:154\n",
       "convert(::Type{Int16},x::UInt128) at int.jl:154\n",
       "convert(::Type{Int16},x::Char) at int.jl:154\n",
       "convert(::Type{Int16},x::Bool) at int.jl:163\n",
       "convert(::Type{UInt16},x::Int8) at int.jl:161\n",
       "convert(::Type{UInt16},x::UInt8) at int.jl:163\n",
       "convert(::Type{UInt16},x::Int16) at int.jl:169\n",
       "convert(::Type{UInt16},x::Int32) at int.jl:156\n",
       "convert(::Type{UInt16},x::UInt32) at int.jl:156\n",
       "convert(::Type{UInt16},x::Int64) at int.jl:156\n",
       "convert(::Type{UInt16},x::UInt64) at int.jl:156\n",
       "convert(::Type{UInt16},x::Int128) at int.jl:156\n",
       "convert(::Type{UInt16},x::UInt128) at int.jl:156\n",
       "convert(::Type{UInt16},x::Char) at int.jl:156\n",
       "convert(::Type{UInt16},x::Bool) at int.jl:163\n",
       "convert(::Type{Int32},x::Int8) at int.jl:161\n",
       "convert(::Type{Int32},x::UInt8) at int.jl:163\n",
       "convert(::Type{Int32},x::Int16) at int.jl:161\n",
       "convert(::Type{Int32},x::UInt16) at int.jl:163\n",
       "convert(::Type{Int32},x::UInt32) at int.jl:169\n",
       "convert(::Type{Int32},x::Int64) at int.jl:154\n",
       "convert(::Type{Int32},x::UInt64) at int.jl:154\n",
       "convert(::Type{Int32},x::Int128) at int.jl:154\n",
       "convert(::Type{Int32},x::UInt128) at int.jl:154\n",
       "convert(::Type{Int32},x::Char) at int.jl:169\n",
       "convert(::Type{Int32},x::Bool) at int.jl:163\n",
       "convert(::Type{UInt32},x::Int8) at int.jl:161\n",
       "convert(::Type{UInt32},x::UInt8) at int.jl:163\n",
       "convert(::Type{UInt32},x::Int16) at int.jl:161\n",
       "convert(::Type{UInt32},x::UInt16) at int.jl:163\n",
       "convert(::Type{UInt32},x::Int32) at int.jl:169\n",
       "convert(::Type{UInt32},x::Int64) at int.jl:156\n",
       "convert(::Type{UInt32},x::UInt64) at int.jl:156\n",
       "convert(::Type{UInt32},x::Int128) at int.jl:156\n",
       "convert(::Type{UInt32},x::UInt128) at int.jl:156\n",
       "convert(::Type{UInt32},x::Char) at int.jl:171\n",
       "convert(::Type{UInt32},x::Bool) at int.jl:163\n",
       "convert(::Type{Int64},x::Int8) at int.jl:161\n",
       "convert(::Type{Int64},x::UInt8) at int.jl:163\n",
       "convert(::Type{Int64},x::Int16) at int.jl:161\n",
       "convert(::Type{Int64},x::UInt16) at int.jl:163\n",
       "convert(::Type{Int64},x::Int32) at int.jl:161\n",
       "convert(::Type{Int64},x::UInt32) at int.jl:163\n",
       "convert(::Type{Int64},x::UInt64) at int.jl:169\n",
       "convert(::Type{Int64},x::Int128) at int.jl:154\n",
       "convert(::Type{Int64},x::UInt128) at int.jl:154\n",
       "convert(::Type{Int64},x::Char) at int.jl:163\n",
       "convert(::Type{Int64},x::Bool) at int.jl:163\n",
       "convert(::Type{UInt64},x::Int8) at int.jl:161\n",
       "convert(::Type{UInt64},x::UInt8) at int.jl:163\n",
       "convert(::Type{UInt64},x::Int16) at int.jl:161\n",
       "convert(::Type{UInt64},x::UInt16) at int.jl:163\n",
       "convert(::Type{UInt64},x::Int32) at int.jl:161\n",
       "convert(::Type{UInt64},x::UInt32) at int.jl:163\n",
       "convert(::Type{UInt64},x::Int64) at int.jl:169\n",
       "convert(::Type{UInt64},x::Int128) at int.jl:156\n",
       "convert(::Type{UInt64},x::UInt128) at int.jl:156\n",
       "convert(::Type{UInt64},x::Char) at int.jl:163\n",
       "convert(::Type{UInt64},x::Bool) at int.jl:163\n",
       "convert(::Type{Int128},x::Int8) at int.jl:161\n",
       "convert(::Type{Int128},x::UInt8) at int.jl:163\n",
       "convert(::Type{Int128},x::Int16) at int.jl:161\n",
       "convert(::Type{Int128},x::UInt16) at int.jl:163\n",
       "convert(::Type{Int128},x::Int32) at int.jl:161\n",
       "convert(::Type{Int128},x::UInt32) at int.jl:163\n",
       "convert(::Type{Int128},x::Int64) at int.jl:161\n",
       "convert(::Type{Int128},x::UInt64) at int.jl:163\n",
       "convert(::Type{Int128},x::UInt128) at int.jl:169\n",
       "convert(::Type{Int128},x::Char) at int.jl:163\n",
       "convert(::Type{Int128},x::Bool) at int.jl:163\n",
       "convert(::Type{UInt128},x::Int8) at int.jl:161\n",
       "convert(::Type{UInt128},x::UInt8) at int.jl:163\n",
       "convert(::Type{UInt128},x::Int16) at int.jl:161\n",
       "convert(::Type{UInt128},x::UInt16) at int.jl:163\n",
       "convert(::Type{UInt128},x::Int32) at int.jl:161\n",
       "convert(::Type{UInt128},x::UInt32) at int.jl:163\n",
       "convert(::Type{UInt128},x::Int64) at int.jl:161\n",
       "convert(::Type{UInt128},x::UInt64) at int.jl:163\n",
       "convert(::Type{UInt128},x::Int128) at int.jl:169\n",
       "convert(::Type{UInt128},x::Char) at int.jl:163\n",
       "convert(::Type{UInt128},x::Bool) at int.jl:163\n",
       "convert(::Type{Char},x::Int8) at int.jl:161\n",
       "convert(::Type{Char},x::UInt8) at int.jl:163\n",
       "convert(::Type{Char},x::Int16) at int.jl:161\n",
       "convert(::Type{Char},x::UInt16) at int.jl:163\n",
       "convert(::Type{Char},x::Int32) at int.jl:169\n",
       "convert(::Type{Char},x::UInt32) at int.jl:171\n",
       "convert(::Type{Char},x::Int64) at int.jl:156\n",
       "convert(::Type{Char},x::UInt64) at int.jl:156\n",
       "convert(::Type{Char},x::Int128) at int.jl:156\n",
       "convert(::Type{Char},x::UInt128) at int.jl:156\n",
       "convert(::Type{Char},x::Bool) at int.jl:163\n",
       "convert(::Type{Int8},x::Float32) at int.jl:184\n",
       "convert(::Type{Int8},x::Float64) at int.jl:185\n",
       "convert(::Type{Int16},x::Float32) at int.jl:184\n",
       "convert(::Type{Int16},x::Float64) at int.jl:185\n",
       "convert(::Type{Int32},x::Float32) at int.jl:184\n",
       "convert(::Type{Int32},x::Float64) at int.jl:185\n",
       "convert(::Type{Int64},x::Float32) at int.jl:184\n",
       "convert(::Type{Int64},x::Float64) at int.jl:185\n",
       "convert(::Type{UInt8},x::Float32) at int.jl:191\n",
       "convert(::Type{UInt8},x::Float64) at int.jl:192\n",
       "convert(::Type{UInt16},x::Float32) at int.jl:191\n",
       "convert(::Type{UInt16},x::Float64) at int.jl:192\n",
       "convert(::Type{UInt32},x::Float32) at int.jl:191\n",
       "convert(::Type{UInt32},x::Float64) at int.jl:192\n",
       "convert(::Type{UInt64},x::Float32) at int.jl:191\n",
       "convert(::Type{UInt64},x::Float64) at int.jl:192\n",
       "convert(::Type{Int128},x::Float32) at int.jl:199\n",
       "convert(::Type{Int128},x::Float64) at int.jl:199\n",
       "convert(::Type{UInt128},x::Float32) at int.jl:199\n",
       "convert(::Type{UInt128},x::Float64) at int.jl:199\n",
       "convert(::Type{Signed},x::UInt8) at int.jl:205\n",
       "convert(::Type{Signed},x::UInt16) at int.jl:206\n",
       "convert(::Type{Signed},x::UInt32) at int.jl:207\n",
       "convert(::Type{Signed},x::UInt64) at int.jl:208\n",
       "convert(::Type{Signed},x::UInt128) at int.jl:209\n",
       "convert(::Type{Signed},x::Float32) at int.jl:210\n",
       "convert(::Type{Signed},x::Float64) at int.jl:211\n",
       "convert(::Type{Signed},x::Char) at int.jl:212\n",
       "convert(::Type{Signed},x::Bool) at int.jl:213\n",
       "convert(::Type{Unsigned},x::Int8) at int.jl:215\n",
       "convert(::Type{Unsigned},x::Int16) at int.jl:216\n",
       "convert(::Type{Unsigned},x::Int32) at int.jl:217\n",
       "convert(::Type{Unsigned},x::Int64) at int.jl:218\n",
       "convert(::Type{Unsigned},x::Int128) at int.jl:219\n",
       "convert(::Type{Unsigned},x::Float32) at int.jl:220\n",
       "convert(::Type{Unsigned},x::Float64) at int.jl:221\n",
       "convert(::Type{Unsigned},x::Char) at int.jl:222\n",
       "convert(::Type{Unsigned},x::Bool) at int.jl:223\n",
       "convert(::Type{Integer},x::Float32) at int.jl:225\n",
       "convert(::Type{Integer},x::Float64) at int.jl:226\n",
       "convert(::Type{UInt64},x::Ptr{T}) at pointer.jl:6\n",
       "convert{T<:Integer}(::Type{T<:Integer},x::Ptr{T}) at pointer.jl:7\n",
       "convert{T}(::Type{Ptr{T}},x::Integer) at pointer.jl:10\n",
       "convert{T}(::Type{Ptr{T}},p::Ptr{T}) at pointer.jl:13\n",
       "convert{T}(::Type{Ptr{T}},p::Ptr{T}) at pointer.jl:14\n",
       "convert(::Type{Ptr{UInt8}},x::Symbol) at pointer.jl:17\n",
       "convert(::Type{Ptr{Int8}},x::Symbol) at pointer.jl:18\n",
       "convert(::Type{Ptr{UInt8}},s::Union(ASCIIString,UTF8String)) at pointer.jl:19\n",
       "convert(::Type{Ptr{Int8}},s::Union(ASCIIString,UTF8String)) at pointer.jl:20\n",
       "convert(::Type{Ptr{Void}},a::Array{T,N}) at pointer.jl:23\n",
       "convert{T}(::Type{Ptr{T}},a::Array{T,N}) at pointer.jl:22\n",
       "convert(::Type{Float16},n::Base.GMP.BigInt) at gmp.jl:199\n",
       "convert(::Type{Float16},x::Integer) at float.jl:2\n",
       "convert(::Type{Float32},x::Int8) at float.jl:10\n",
       "convert(::Type{Float32},x::Int16) at float.jl:10\n",
       "convert(::Type{Float32},x::Int32) at float.jl:10\n",
       "convert(::Type{Float32},x::Int64) at float.jl:10\n",
       "convert(::Type{Float32},x::Bool) at float.jl:16\n",
       "convert(::Type{Float32},x::Char) at float.jl:16\n",
       "convert(::Type{Float32},x::UInt8) at float.jl:16\n",
       "convert(::Type{Float32},x::UInt16) at float.jl:16\n",
       "convert(::Type{Float32},x::UInt32) at float.jl:16\n",
       "convert(::Type{Float32},x::UInt64) at float.jl:16\n",
       "convert(::Type{Float64},x::Int8) at float.jl:10\n",
       "convert(::Type{Float64},x::Int16) at float.jl:10\n",
       "convert(::Type{Float64},x::Int32) at float.jl:10\n",
       "convert(::Type{Float64},x::Int64) at float.jl:10\n",
       "convert(::Type{Float64},x::Bool) at float.jl:16\n",
       "convert(::Type{Float64},x::Char) at float.jl:16\n",
       "convert(::Type{Float64},x::UInt8) at float.jl:16\n",
       "convert(::Type{Float64},x::UInt16) at float.jl:16\n",
       "convert(::Type{Float64},x::UInt32) at float.jl:16\n",
       "convert(::Type{Float64},x::UInt64) at float.jl:16\n",
       "convert(::Type{Float64},x::UInt128) at float.jl:28\n",
       "convert(::Type{Float64},x::Int128) at float.jl:42\n",
       "convert(::Type{Float32},x::UInt128) at float.jl:58\n",
       "convert(::Type{Float32},x::Int128) at float.jl:72\n",
       "convert(::Type{Float16},x::Float64) at float.jl:88\n",
       "convert(::Type{Float32},x::Float64) at float.jl:89\n",
       "convert(::Type{Float64},x::Float16) at float.jl:92\n",
       "convert(::Type{Float64},x::Float32) at float.jl:93\n",
       "convert(::Type{FloatingPoint},x::Bool) at float.jl:95\n",
       "convert(::Type{FloatingPoint},x::Char) at float.jl:96\n",
       "convert(::Type{FloatingPoint},x::Int8) at float.jl:97\n",
       "convert(::Type{FloatingPoint},x::Int16) at float.jl:98\n",
       "convert(::Type{FloatingPoint},x::Int32) at float.jl:99\n",
       "convert(::Type{FloatingPoint},x::Int64) at float.jl:100\n",
       "convert(::Type{FloatingPoint},x::Int128) at float.jl:101\n",
       "convert(::Type{FloatingPoint},x::UInt8) at float.jl:102\n",
       "convert(::Type{FloatingPoint},x::UInt16) at float.jl:103\n",
       "convert(::Type{FloatingPoint},x::UInt32) at float.jl:104\n",
       "convert(::Type{FloatingPoint},x::UInt64) at float.jl:105\n",
       "convert(::Type{FloatingPoint},x::UInt128) at float.jl:106\n",
       "convert{T<:Real}(::Type{Complex{T<:Real}},x::MathConst{sym}) at constants.jl:13\n",
       "convert{T<:Real}(::Type{Complex{T<:Real}},x::Real) at complex.jl:14\n",
       "convert{T<:Real}(::Type{Complex{T<:Real}},z::Complex{T<:Real}) at complex.jl:15\n",
       "convert{T<:Real}(::Type{T<:Real},z::Complex{T<:Real}) at complex.jl:16\n",
       "convert(::Type{Complex{T<:Real}},z::Complex{T<:Real}) at complex.jl:19\n",
       "convert(::Type{Complex{T<:Real}},x::Real) at complex.jl:20\n",
       "convert{T<:Integer}(::Type{Rational{T<:Integer}},x::Rational{T<:Integer}) at rational.jl:58\n",
       "convert{T<:Integer}(::Type{Rational{T<:Integer}},x::Integer) at rational.jl:59\n",
       "convert(::Type{Rational{T<:Integer}},x::Rational{T<:Integer}) at rational.jl:61\n",
       "convert(::Type{Rational{T<:Integer}},x::Integer) at rational.jl:62\n",
       "convert{T<:Integer}(::Type{T<:Integer},x::Rational{T<:Integer}) at rational.jl:65\n",
       "convert(::Type{FloatingPoint},x::Rational{T<:Integer}) at rational.jl:67\n",
       "convert{S}(::Type{Base.MPFR.BigFloat},x::Rational{S}) at mpfr.jl:91\n",
       "convert{T<:FloatingPoint,S}(::Type{T<:FloatingPoint},x::Rational{S}) at rational.jl:69\n",
       "convert(::Type{Rational{T<:Integer}},x::Float64) at rational.jl:78\n",
       "convert(::Type{Rational{T<:Integer}},x::Float32) at rational.jl:79\n",
       "convert(::Type{Rational{T<:Integer}},x::Base.MPFR.BigFloat) at mpfr.jl:90\n",
       "convert(::Type{Rational{Base.GMP.BigInt}},x::FloatingPoint) at mpfr.jl:182\n",
       "convert{T<:Integer}(::Type{Rational{T<:Integer}},x::FloatingPoint) at rational.jl:74\n",
       "convert{T,N}(::Type{AbstractArray{T,N}},B::BitArray{N}) at bitarray.jl:323\n",
       "convert{T}(::Type{AbstractArray{T,2}},A::Base.SparseMatrix.SparseMatrixCSC{Tv,Ti<:Integer}) at sparse/sparsematrix.jl:173\n",
       "convert{T}(::Type{AbstractArray{T,2}},S::Base.LinAlg.SymTridiagonal{T}) at linalg/tridiag.jl:23\n",
       "convert{T}(::Type{AbstractArray{T,2}},M::Base.LinAlg.Tridiagonal{T}) at linalg/tridiag.jl:251\n",
       "convert{Tnew,Told,S,UpLo,IsUnit}(::Type{AbstractArray{Tnew,2}},A::Base.LinAlg.Triangular{Told,S,UpLo,IsUnit}) at linalg/triangular.jl:14\n",
       "convert{T}(::Type{AbstractArray{T,2}},Q::Base.LinAlg.QRPackedQ{T,S<:AbstractArray{T,2}}) at linalg/factorization.jl:139\n",
       "convert{S}(::Type{AbstractArray{S,2}},Q::Base.LinAlg.QRCompactWYQ{S,M<:AbstractArray{T,2}}) at linalg/factorization.jl:141\n",
       "convert{T}(::Type{AbstractArray{T,2}},A::Base.LinAlg.Symmetric{T,S<:AbstractArray{T,2}}) at linalg/symmetric.jl:22\n",
       "convert{T}(::Type{AbstractArray{T,2}},A::Base.LinAlg.Hermitian{T,S<:AbstractArray{T,2}}) at linalg/symmetric.jl:25\n",
       "convert{T}(::Type{AbstractArray{T,2}},D::Base.LinAlg.Diagonal{T}) at linalg/diagonal.jl:10\n",
       "convert{T,N}(::Type{AbstractArray{T,N}},A::AbstractArray{T,N}) at abstractarray.jl:362\n",
       "convert{T,S,N}(::Type{AbstractArray{T,N}},A::AbstractArray{S,N}) at abstractarray.jl:363\n",
       "convert{T,S,N}(::Type{AbstractArray{T,N}},A::AbstractArray{S,N}) at abstractarray.jl:364\n",
       "convert{S,T,N}(::Type{Array{S,N}},s::SubArray{T,N,D<:DArray{T,N,A},I<:(Union(Int64,Range{Int64},Array{Int64,1},Colon)...,),LD}) at darray.jl:185\n",
       "convert{T,S,N}(::Type{Array{T,N}},V::SubArray{S,N,P<:AbstractArray{T,N},I<:(Union(Int64,Range{Int64},Array{Int64,1},Colon)...,),LD}) at subarray.jl:414\n",
       "convert{T,n}(::Type{Array{T,n}},x::Array{T,n}) at array.jl:233\n",
       "convert{T,n,S}(::Type{Array{T,n}},x::Array{S,n}) at array.jl:235\n",
       "convert{T,n}(::Type{Array{T,N}},x::Array{T,n}) at array.jl:232\n",
       "convert{T,n,S}(::Type{Array{T,N}},x::Array{S,n}) at array.jl:234\n",
       "convert{T,N}(::Type{Array{T,N}},B::BitArray{N}) at bitarray.jl:284\n",
       "convert{T,N}(::Type{Array{T,N}},B::BitArray{N}) at bitarray.jl:282\n",
       "convert{S,T,N}(::Type{Array{S,N}},d::DArray{T,N,A}) at darray.jl:175\n",
       "convert(::Type{Array{T,N}},S::SharedArray{T,N}) at sharedarray.jl:207\n",
       "convert(::Type{Array{T,2}},S::Base.SparseMatrix.SparseMatrixCSC{Tv,Ti<:Integer}) at sparse/sparsematrix.jl:174\n",
       "convert{T}(::Type{Array{T,2}},M::Base.LinAlg.SymTridiagonal{T}) at linalg/tridiag.jl:24\n",
       "convert{T}(::Type{Array{T,2}},M::Base.LinAlg.SymTridiagonal{T}) at linalg/tridiag.jl:25\n",
       "convert{T}(::Type{Array{T,2}},M::Base.LinAlg.Tridiagonal{T}) at linalg/tridiag.jl:184\n",
       "convert{T}(::Type{Array{T,2}},M::Base.LinAlg.Tridiagonal{T}) at linalg/tridiag.jl:194\n",
       "convert{Tret,T,S,UpLo,IsUnit}(::Type{Array{Tret,2}},A::Base.LinAlg.Triangular{T,S,UpLo,IsUnit}) at linalg/triangular.jl:16\n",
       "convert{T,S,UpLo,IsUnit}(::Type{Array{T,2}},A::Base.LinAlg.Triangular{T,S,UpLo,IsUnit}) at linalg/triangular.jl:26\n",
       "convert{T}(::Type{Array{T,2}},W::Base.LinAlg.Woodbury{T}) at linalg/woodbury.jl:57\n",
       "convert{T}(::Type{Array{T,2}},A::Base.LinAlg.Bidiagonal{T}) at linalg/bidiag.jl:31\n",
       "convert{T}(::Type{Array{T,2}},A::Base.LinAlg.Bidiagonal{T}) at linalg/bidiag.jl:32\n",
       "convert(::Type{Array{T,2}},D::Base.LinAlg.Diagonal{T}) at linalg/special.jl:9\n",
       "convert{T,N}(::Type{Array{T,N}},A::AbstractArray{T,N}) at abstractarray.jl:366\n",
       "convert{T,N,P<:Array{T,N},I<:(Union(Int64,Range{Int64},Colon)...,)}(::Type{Ptr{Void}},V::SubArray{T,N,P<:Array{T,N},I<:(Union(Int64,Range{Int64},Colon)...,),LD}) at subarray.jl:399\n",
       "convert{T,N,P<:Array{T,N},I<:(Union(Int64,Range{Int64},Colon)...,)}(::Type{Ptr{T}},V::SubArray{T,N,P<:Array{T,N},I<:(Union(Int64,Range{Int64},Colon)...,),LD}) at subarray.jl:396\n",
       "convert{N}(::Type{BitArray{N}},B::BitArray{N}) at bitarray.jl:322\n",
       "convert{T,N}(::Type{BitArray{N}},A::AbstractArray{T,N}) at bitarray.jl:294\n",
       "convert{T,N}(::Type{BitArray{N}},A::AbstractArray{T,N}) at bitarray.jl:292\n",
       "convert{K,V}(::Type{Dict{K,V}},d::Dict{K,V}) at dict.jl:393\n",
       "convert{K,V}(::Type{Dict{K,V}},d::Associative{K,V}) at dict.jl:382\n",
       "convert(::Type{Char},x::Float16) at char.jl:6\n",
       "convert(::Type{Char},x::Float32) at char.jl:7\n",
       "convert(::Type{Char},x::Float64) at char.jl:8\n",
       "convert(::Type{ASCIIString},s::ASCIIString) at ascii.jl:99\n",
       "convert(::Type{ASCIIString},s::UTF8String) at ascii.jl:100\n",
       "convert(::Type{ASCIIString},a::Array{UInt8,1}) at ascii.jl:101\n",
       "convert(::Type{ASCIIString},a::Array{UInt8,1},invalids_as::ASCIIString) at ascii.jl:103\n",
       "convert(::Type{ASCIIString},s::AbstractString) at ascii.jl:120\n",
       "convert(::Type{UTF8String},s::UTF8String) at utf8.jl:172\n",
       "convert(::Type{UTF8String},s::ASCIIString) at utf8.jl:173\n",
       "convert(::Type{UTF8String},a::Array{UInt8,1}) at utf8.jl:174\n",
       "convert(::Type{UTF8String},a::Array{UInt8,1},invalids_as::AbstractString) at utf8.jl:176\n",
       "convert(::Type{UTF8String},s::UTF16String) at utf16.jl:74\n",
       "convert(::Type{UTF8String},s::AbstractString) at utf8.jl:196\n",
       "convert(::Type{UTF16String},s::UTF16String) at utf16.jl:68\n",
       "convert(::Type{UTF16String},s::AbstractString) at utf16.jl:69\n",
       "convert(::Type{Array{UInt16,1}},s::UTF16String) at utf16.jl:70\n",
       "convert(::Type{Array{UInt16,N}},s::UTF16String) at utf16.jl:71\n",
       "convert{T<:Union(UInt16,Int16)}(::Type{Ptr{T<:Union(UInt16,Int16)}},s::UTF16String) at utf16.jl:78\n",
       "convert(::Type{UTF16String},data::AbstractArray{UInt16,1}) at utf16.jl:99\n",
       "convert(T::Type{UTF16String},data::AbstractArray{UInt16,N}) at utf16.jl:106\n",
       "convert(T::Type{UTF16String},data::AbstractArray{Int16,N}) at utf16.jl:109\n",
       "convert(T::Type{UTF16String},bytes::AbstractArray{UInt8,N}) at utf16.jl:113\n",
       "convert(::Type{UTF32String},c::Char) at utf32.jl:28\n",
       "convert(::Type{UTF32String},s::UTF32String) at utf32.jl:29\n",
       "convert(::Type{UTF32String},s::AbstractString) at utf32.jl:32\n",
       "convert(::Type{UTF32String},data::AbstractArray{Char,1}) at utf32.jl:42\n",
       "convert{T<:Union(UInt32,Int32)}(::Type{UTF32String},data::AbstractArray{T<:Union(UInt32,Int32),1}) at utf32.jl:48\n",
       "convert{T<:Union(ASCIIString,UTF8String)}(::Type{T<:Union(ASCIIString,UTF8String)},data::AbstractArray{Char,1}) at utf32.jl:55\n",
       "convert{T<:AbstractString}(::Type{T<:AbstractString},v::AbstractArray{Char,1}) at utf32.jl:51\n",
       "convert(::Type{Array{Char,1}},s::UTF32String) at utf32.jl:63\n",
       "convert(::Type{Array{Char,N}},s::UTF32String) at utf32.jl:64\n",
       "convert{T<:Union(Char,UInt32,Int32)}(::Type{Ptr{T<:Union(Char,UInt32,Int32)}},s::UTF32String) at utf32.jl:69\n",
       "convert(T::Type{UTF32String},bytes::AbstractArray{UInt8,N}) at utf32.jl:73\n",
       "convert(::Type{Array{UInt8,1}},s::AbstractString) at string.jl:47\n",
       "convert(::Type{Array{UInt8,N}},s::AbstractString) at string.jl:48\n",
       "convert(::Type{Union(ASCIIString,UTF8String)},s::AbstractString) at string.jl:49\n",
       "convert(::Type{Array{Char,1}},s::AbstractString) at string.jl:50\n",
       "convert(::Type{Symbol},s::AbstractString) at string.jl:51\n",
       "convert{T<:AbstractString}(::Type{SubString{T<:AbstractString}},s::T<:AbstractString) at string.jl:633\n",
       "convert{P<:Union(UInt8,Int8),T<:Union(ASCIIString,UTF8String)}(::Type{Ptr{P<:Union(UInt8,Int8)}},s::SubString{T<:Union(ASCIIString,UTF8String)}) at string.jl:650\n",
       "convert(::Type{RepString},s::AbstractString) at string.jl:717\n",
       "convert{S<:AbstractString}(::Type{S<:AbstractString},g::Base.UTF8proc.GraphemeIterator{S<:AbstractString}) at utf8proc.jl:219\n",
       "convert(T::Type{Ptr{Void}},s::IOStream) at iostream.jl:25\n",
       "convert(::Type{CFILE},s::IO) at iostream.jl:90\n",
       "convert(::Type{Int32},fd::RawFD) at stream.jl:27\n",
       "convert(T::Type{Ptr{Void}},s::AsyncStream) at stream.jl:226\n",
       "convert(::Type{Float32},val::Float16) at float16.jl:2\n",
       "convert(::Type{Float16},val::Float32) at float16.jl:81\n",
       "convert(::Type{Int128},x::Float16) at float16.jl:100\n",
       "convert(::Type{UInt128},x::Float16) at float16.jl:101\n",
       "convert(::Type{Base.GMP.BigInt},x::Float16) at gmp.jl:139\n",
       "convert{T<:Integer}(::Type{T<:Integer},x::Float16) at float16.jl:103\n",
       "convert(::Type{VersionNumber},v::Integer) at version.jl:59\n",
       "convert(::Type{VersionNumber},v::(Any...,)) at version.jl:60\n",
       "convert(::Type{VersionNumber},v::AbstractString) at version.jl:97\n",
       "convert(::Type{Base.GMP.BigInt},x::Integer) at gmp.jl:138\n",
       "convert(::Type{Base.GMP.BigInt},x::Base.MPFR.BigFloat) at mpfr.jl:156\n",
       "convert(::Type{Base.GMP.BigInt},x::FloatingPoint) at gmp.jl:140\n",
       "convert(::Type{Int64},n::Base.GMP.BigInt) at gmp.jl:152\n",
       "convert(::Type{Int32},n::Base.GMP.BigInt) at gmp.jl:147\n",
       "convert(::Type{Int16},n::Base.GMP.BigInt) at gmp.jl:148\n",
       "convert(::Type{Int8},n::Base.GMP.BigInt) at gmp.jl:149\n",
       "convert(::Type{UInt64},n::Base.GMP.BigInt) at gmp.jl:170\n",
       "convert(::Type{UInt32},x::Base.GMP.BigInt) at gmp.jl:165\n",
       "convert(::Type{UInt16},x::Base.GMP.BigInt) at gmp.jl:166\n",
       "convert(::Type{UInt8},x::Base.GMP.BigInt) at gmp.jl:167\n",
       "convert(::Type{UInt128},x::Base.GMP.BigInt) at gmp.jl:188\n",
       "convert(::Type{Int128},x::Base.GMP.BigInt) at gmp.jl:192\n",
       "convert(::Type{Float64},n::Base.GMP.BigInt) at gmp.jl:196\n",
       "convert(::Type{Float32},n::Base.GMP.BigInt) at gmp.jl:198\n",
       "convert(::Type{Base.MPFR.BigFloat},::MathConst{:π}) at constants.jl:36\n",
       "convert(::Type{Base.MPFR.BigFloat},::MathConst{:e}) at constants.jl:43\n",
       "convert(::Type{Base.MPFR.BigFloat},::MathConst{:γ}) at constants.jl:36\n",
       "convert(::Type{Base.MPFR.BigFloat},::MathConst{:catalan}) at constants.jl:36\n",
       "convert(::Type{Base.MPFR.BigFloat},::MathConst{:φ}) at constants.jl:43\n",
       "convert(::Type{Base.MPFR.BigFloat},x::Real) at mpfr.jl:92\n",
       "convert(::Type{FloatingPoint},x::Base.GMP.BigInt) at mpfr.jl:93\n",
       "convert{T<:Integer}(::Type{T<:Integer},x::Base.MPFR.BigFloat) at mpfr.jl:162\n",
       "convert(::Type{Float64},x::Base.MPFR.BigFloat) at mpfr.jl:167\n",
       "convert(::Type{Float32},x::Base.MPFR.BigFloat) at mpfr.jl:169\n",
       "convert(::Type{Base.Random.UUID},s::AbstractString) at random.jl:1149\n",
       "convert{T}(::Type{Nullable{T}},x::Nullable{T}) at nullable.jl:19\n",
       "convert{T}(::Type{Nullable{T}},x::T) at nullable.jl:22\n",
       "convert{T}(::Type{Ptr{T}},S::SharedArray{T,N}) at sharedarray.jl:142\n",
       "convert{TS,TA,N}(::Type{SharedArray{TS,N}},A::Array{TA,N}) at sharedarray.jl:146\n",
       "convert{T}(::Type{SharedArray{T,N}},A::Array{T,N}) at sharedarray.jl:145\n",
       "convert(::Type{SharedArray{T,N}},A::Array{T,N}) at sharedarray.jl:144\n",
       "convert{Tv,TvS,TiS}(::Type{Base.SparseMatrix.SparseMatrixCSC{Tv,Ti<:Integer}},S::Base.SparseMatrix.SparseMatrixCSC{TvS,TiS}) at sparse/sparsematrix.jl:155\n",
       "convert{Tv,Ti,TvS,TiS}(::Type{Base.SparseMatrix.SparseMatrixCSC{Tv,Ti}},S::Base.SparseMatrix.SparseMatrixCSC{TvS,TiS}) at sparse/sparsematrix.jl:144\n",
       "convert{Tv,Ti}(::Type{Base.SparseMatrix.SparseMatrixCSC{Tv,Ti}},M::Array{T,2}) at sparse/sparsematrix.jl:166\n",
       "convert{T}(::Type{Base.LinAlg.SymTridiagonal{T}},M::Base.LinAlg.SymTridiagonal{T}) at linalg/tridiag.jl:255\n",
       "convert{T}(::Type{Base.LinAlg.Tridiagonal{T}},M::Base.LinAlg.SymTridiagonal{T}) at linalg/tridiag.jl:252\n",
       "convert(::Type{Base.LinAlg.Tridiagonal{T}},A::Base.LinAlg.SymTridiagonal{T}) at linalg/tridiag.jl:244\n",
       "convert{T}(::Type{Base.LinAlg.Tridiagonal{T}},M::Base.LinAlg.Tridiagonal{T}) at linalg/tridiag.jl:250\n",
       "convert{T}(::Type{Base.LinAlg.SymTridiagonal{T}},M::Base.LinAlg.Tridiagonal{T}) at linalg/tridiag.jl:253\n",
       "convert{T,S,UpLo,IsUnit}(::Type{Base.LinAlg.Triangular{T,S<:AbstractArray{T,2},UpLo,IsUnit}},A::Base.LinAlg.Triangular{T,S,UpLo,IsUnit}) at linalg/triangular.jl:12\n",
       "convert{Tnew,Told,S,UpLo,IsUnit}(::Type{Base.LinAlg.Triangular{Tnew,S<:AbstractArray{T,2},UpLo,IsUnit}},A::Base.LinAlg.Triangular{Told,S,UpLo,IsUnit}) at linalg/triangular.jl:13\n",
       "convert{T}(::Type{Base.LinAlg.QR{T,S<:AbstractArray{T,2}}},A::Base.LinAlg.QR{T,S<:AbstractArray{T,2}}) at linalg/factorization.jl:78\n",
       "convert{T}(::Type{Base.LinAlg.Factorization{T}},A::Base.LinAlg.QR{T,S<:AbstractArray{T,2}}) at linalg/factorization.jl:79\n",
       "convert{T}(::Type{Base.LinAlg.QRCompactWY{T,M<:AbstractArray{T,2}}},A::Base.LinAlg.QRCompactWY{S,M<:AbstractArray{T,2}}) at linalg/factorization.jl:80\n",
       "convert{T}(::Type{Base.LinAlg.Factorization{T}},A::Base.LinAlg.QRCompactWY{S,M<:AbstractArray{T,2}}) at linalg/factorization.jl:81\n",
       "convert{T}(::Type{Base.LinAlg.QRPivoted{T,S<:AbstractArray{T,2}}},A::Base.LinAlg.QRPivoted{T,S<:AbstractArray{T,2}}) at linalg/factorization.jl:82\n",
       "convert{T}(::Type{Base.LinAlg.Factorization{T}},A::Base.LinAlg.QRPivoted{T,S<:AbstractArray{T,2}}) at linalg/factorization.jl:83\n",
       "convert{T}(::Type{Base.LinAlg.QRPackedQ{T,S<:AbstractArray{T,2}}},Q::Base.LinAlg.QRPackedQ{T,S<:AbstractArray{T,2}}) at linalg/factorization.jl:138\n",
       "convert{S}(::Type{Base.LinAlg.QRCompactWYQ{S,M<:AbstractArray{T,2}}},Q::Base.LinAlg.QRCompactWYQ{S,M<:AbstractArray{T,2}}) at linalg/factorization.jl:140\n",
       "convert{T}(::Type{Base.LinAlg.Factorization{T}},C::Base.LinAlg.Cholesky{T,S<:AbstractArray{T,2},UpLo}) at linalg/cholesky.jl:110\n",
       "convert{T}(::Type{Base.LinAlg.Factorization{T}},C::Base.LinAlg.CholeskyPivoted{T,S<:AbstractArray{T,2}}) at linalg/cholesky.jl:112\n",
       "convert{T}(::Type{Base.LinAlg.Factorization{T}},F::Base.LinAlg.LU{T,S<:AbstractArray{T,2}}) at linalg/lu.jl:82\n",
       "convert{T}(::Type{Base.LinAlg.Factorization{T}},B::Base.LinAlg.BunchKaufman{T,S<:AbstractArray{T,2}}) at linalg/bunchkaufman.jl:27\n",
       "convert{T,S,U}(::Type{Base.LinAlg.Factorization{T}},F::Base.LinAlg.LDLt{S,U}) at linalg/ldlt.jl:13\n",
       "convert{T}(::Type{Base.LinAlg.Factorization{T}},F::Base.LinAlg.Factorization{T}) at linalg/factorization.jl:739\n",
       "convert{Tnew,Told,S,UpLo}(::Type{Base.LinAlg.Cholesky{Tnew,S<:AbstractArray{T,2},UpLo}},C::Base.LinAlg.Cholesky{Told,S,UpLo}) at linalg/cholesky.jl:103\n",
       "convert{T,S,UpLo}(::Type{Base.LinAlg.Cholesky{T,S,UpLo}},C::Base.LinAlg.Cholesky{T,S<:AbstractArray{T,2},UpLo}) at linalg/cholesky.jl:107\n",
       "convert{T}(::Type{Base.LinAlg.CholeskyPivoted{T,S<:AbstractArray{T,2}}},C::Base.LinAlg.CholeskyPivoted{T,S<:AbstractArray{T,2}}) at linalg/cholesky.jl:111\n",
       "convert{T}(::Type{Base.LinAlg.LU{T,S<:AbstractArray{T,2}}},F::Base.LinAlg.LU{T,S<:AbstractArray{T,2}}) at linalg/lu.jl:78\n",
       "convert{T,S}(::Type{Base.LinAlg.LU{T,S}},F::Base.LinAlg.LU{T,S<:AbstractArray{T,2}}) at linalg/lu.jl:81\n",
       "convert{T}(::Type{Base.LinAlg.BunchKaufman{T,S<:AbstractArray{T,2}}},B::Base.LinAlg.BunchKaufman{T,S<:AbstractArray{T,2}}) at linalg/bunchkaufman.jl:26\n",
       "convert{T,S<:AbstractArray{T,2}}(::Type{Base.LinAlg.Symmetric{T,S<:AbstractArray{T,2}}},A::Base.LinAlg.Symmetric{T,S<:AbstractArray{T,2}}) at linalg/symmetric.jl:20\n",
       "convert{T,S<:AbstractArray{T,2}}(::Type{Base.LinAlg.Symmetric{T,S<:AbstractArray{T,2}}},A::Base.LinAlg.Symmetric{T,S<:AbstractArray{T,2}}) at linalg/symmetric.jl:21\n",
       "convert{T,S<:AbstractArray{T,2}}(::Type{Base.LinAlg.Hermitian{T,S<:AbstractArray{T,2}}},A::Base.LinAlg.Hermitian{T,S<:AbstractArray{T,2}}) at linalg/symmetric.jl:23\n",
       "convert{T,S<:AbstractArray{T,2}}(::Type{Base.LinAlg.Hermitian{T,S<:AbstractArray{T,2}}},A::Base.LinAlg.Hermitian{T,S<:AbstractArray{T,2}}) at linalg/symmetric.jl:24\n",
       "convert{T}(::Type{Base.LinAlg.Diagonal{T}},D::Base.LinAlg.Diagonal{T}) at linalg/diagonal.jl:8\n",
       "convert{T}(::Type{Base.LinAlg.Diagonal{T}},D::Base.LinAlg.Diagonal{T}) at linalg/diagonal.jl:9\n",
       "convert{T}(::Type{Base.LinAlg.Triangular{T,S<:AbstractArray{T,2},UpLo,IsUnit}},A::Base.LinAlg.Diagonal{T}) at linalg/diagonal.jl:11\n",
       "convert{T}(::Type{Base.LinAlg.Tridiagonal{T}},A::Base.LinAlg.Bidiagonal{T}) at linalg/bidiag.jl:38\n",
       "convert{T}(::Type{Base.LinAlg.Bidiagonal{T}},A::Base.LinAlg.Diagonal{T}) at linalg/special.jl:4\n",
       "convert{T}(::Type{Base.LinAlg.SymTridiagonal{T}},A::Base.LinAlg.Diagonal{T}) at linalg/special.jl:5\n",
       "convert{T}(::Type{Base.LinAlg.Tridiagonal{T}},A::Base.LinAlg.Diagonal{T}) at linalg/special.jl:6\n",
       "convert(::Type{Base.LinAlg.Triangular{T,S<:AbstractArray{T,2},UpLo,IsUnit}},A::Base.LinAlg.Diagonal{T}) at linalg/special.jl:7\n",
       "convert(::Type{Base.LinAlg.Triangular{T,S<:AbstractArray{T,2},UpLo,IsUnit}},A::Base.LinAlg.Bidiagonal{T}) at linalg/special.jl:8\n",
       "convert(::Type{Base.LinAlg.Diagonal{T}},A::Union(Base.LinAlg.Bidiagonal{T},Base.LinAlg.SymTridiagonal{T})) at linalg/special.jl:12\n",
       "convert(::Type{Base.LinAlg.SymTridiagonal{T}},A::Base.LinAlg.Bidiagonal{T}) at linalg/special.jl:17\n",
       "convert{T}(::Type{Base.LinAlg.Tridiagonal{T}},A::Base.LinAlg.Bidiagonal{T}) at linalg/special.jl:21\n",
       "convert(::Type{Base.LinAlg.Bidiagonal{T}},A::Base.LinAlg.SymTridiagonal{T}) at linalg/special.jl:24\n",
       "convert(::Type{Base.LinAlg.Diagonal{T}},A::Base.LinAlg.Tridiagonal{T}) at linalg/special.jl:29\n",
       "convert(::Type{Base.LinAlg.Bidiagonal{T}},A::Base.LinAlg.Tridiagonal{T}) at linalg/special.jl:34\n",
       "convert(::Type{Base.LinAlg.SymTridiagonal{T}},A::Base.LinAlg.Tridiagonal{T}) at linalg/special.jl:41\n",
       "convert(::Type{Base.LinAlg.Diagonal{T}},A::Base.LinAlg.Triangular{T,S<:AbstractArray{T,2},UpLo,IsUnit}) at linalg/special.jl:46\n",
       "convert(::Type{Base.LinAlg.Bidiagonal{T}},A::Base.LinAlg.Triangular{T,S<:AbstractArray{T,2},UpLo,IsUnit}) at linalg/special.jl:51\n",
       "convert(::Type{Base.LinAlg.SymTridiagonal{T}},A::Base.LinAlg.Triangular{T,S<:AbstractArray{T,2},UpLo,IsUnit}) at linalg/special.jl:61\n",
       "convert(::Type{Base.LinAlg.Tridiagonal{T}},A::Base.LinAlg.Triangular{T,S<:AbstractArray{T,2},UpLo,IsUnit}) at linalg/special.jl:64\n",
       "convert{T,S,U<:AbstractArray{T,2}}(::Type{Base.LinAlg.LDLt{T,S<:AbstractArray{T,2}}},F::Base.LinAlg.LDLt{S,U<:AbstractArray{T,2}}) at linalg/ldlt.jl:11\n",
       "convert{T,S}(::Type{Base.LinAlg.LDLt{T,S}},F::Base.LinAlg.LDLt{T,S<:AbstractArray{T,2}}) at linalg/ldlt.jl:8\n",
       "convert(::Type{FloatingPoint},x::MathConst{sym}) at constants.jl:11\n",
       "convert(::Type{Float16},x::MathConst{sym}) at constants.jl:12\n",
       "convert{T<:Integer}(::Type{Rational{T<:Integer}},x::MathConst{sym}) at constants.jl:14\n",
       "convert(::Type{Float64},::MathConst{:π}) at constants.jl:48\n",
       "convert(::Type{Float32},::MathConst{:π}) at constants.jl:49\n",
       "convert(::Type{Float64},::MathConst{:e}) at constants.jl:48\n",
       "convert(::Type{Float32},::MathConst{:e}) at constants.jl:49\n",
       "convert(::Type{Float64},::MathConst{:γ}) at constants.jl:48\n",
       "convert(::Type{Float32},::MathConst{:γ}) at constants.jl:49\n",
       "convert(::Type{Float64},::MathConst{:catalan}) at constants.jl:48\n",
       "convert(::Type{Float32},::MathConst{:catalan}) at constants.jl:49\n",
       "convert(::Type{Float64},::MathConst{:φ}) at constants.jl:48\n",
       "convert(::Type{Float32},::MathConst{:φ}) at constants.jl:49\n",
       "convert{T}(p::Type{Ptr{T}},a::Array{T,N}) at deprecated.jl:28\n",
       "convert{T<:Number}(::Type{T<:Number},x::Base.Dates.Period) at dates/periods.jl:19\n",
       "convert{T<:Base.Dates.Period}(::Type{T<:Base.Dates.Period},x::Real) at dates/periods.jl:20\n",
       "convert(::Type{Base.Dates.CompoundPeriod},x::Base.Dates.Period) at dates/periods.jl:180\n",
       "convert(::Type{Base.Dates.Week},x::Base.Dates.Day) at dates/periods.jl:250\n",
       "convert(::Type{Base.Dates.Week},x::Base.Dates.Hour) at dates/periods.jl:250\n",
       "convert(::Type{Base.Dates.Week},x::Base.Dates.Minute) at dates/periods.jl:250\n",
       "convert(::Type{Base.Dates.Week},x::Base.Dates.Second) at dates/periods.jl:250\n",
       "convert(::Type{Base.Dates.Week},x::Base.Dates.Millisecond) at dates/periods.jl:250\n",
       "convert(::Type{Base.Dates.Day},x::Base.Dates.Week) at dates/periods.jl:243\n",
       "convert(::Type{Base.Dates.Day},x::Base.Dates.Hour) at dates/periods.jl:250\n",
       "convert(::Type{Base.Dates.Day},x::Base.Dates.Minute) at dates/periods.jl:250\n",
       "convert(::Type{Base.Dates.Day},x::Base.Dates.Second) at dates/periods.jl:250\n",
       "convert(::Type{Base.Dates.Day},x::Base.Dates.Millisecond) at dates/periods.jl:250\n",
       "convert(::Type{Base.Dates.Hour},x::Base.Dates.Day) at dates/periods.jl:243\n",
       "convert(::Type{Base.Dates.Hour},x::Base.Dates.Week) at dates/periods.jl:243\n",
       "convert(::Type{Base.Dates.Hour},x::Base.Dates.Minute) at dates/periods.jl:250\n",
       "convert(::Type{Base.Dates.Hour},x::Base.Dates.Second) at dates/periods.jl:250\n",
       "convert(::Type{Base.Dates.Hour},x::Base.Dates.Millisecond) at dates/periods.jl:250\n",
       "convert(::Type{Base.Dates.Minute},x::Base.Dates.Hour) at dates/periods.jl:243\n",
       "convert(::Type{Base.Dates.Minute},x::Base.Dates.Day) at dates/periods.jl:243\n",
       "convert(::Type{Base.Dates.Minute},x::Base.Dates.Week) at dates/periods.jl:243\n",
       "convert(::Type{Base.Dates.Minute},x::Base.Dates.Second) at dates/periods.jl:250\n",
       "convert(::Type{Base.Dates.Minute},x::Base.Dates.Millisecond) at dates/periods.jl:250\n",
       "convert(::Type{Base.Dates.Second},x::Base.Dates.Minute) at dates/periods.jl:243\n",
       "convert(::Type{Base.Dates.Second},x::Base.Dates.Hour) at dates/periods.jl:243\n",
       "convert(::Type{Base.Dates.Second},x::Base.Dates.Day) at dates/periods.jl:243\n",
       "convert(::Type{Base.Dates.Second},x::Base.Dates.Week) at dates/periods.jl:243\n",
       "convert(::Type{Base.Dates.Second},x::Base.Dates.Millisecond) at dates/periods.jl:250\n",
       "convert(::Type{Base.Dates.Millisecond},x::Base.Dates.Second) at dates/periods.jl:243\n",
       "convert(::Type{Base.Dates.Millisecond},x::Base.Dates.Minute) at dates/periods.jl:243\n",
       "convert(::Type{Base.Dates.Millisecond},x::Base.Dates.Hour) at dates/periods.jl:243\n",
       "convert(::Type{Base.Dates.Millisecond},x::Base.Dates.Day) at dates/periods.jl:243\n",
       "convert(::Type{Base.Dates.Millisecond},x::Base.Dates.Week) at dates/periods.jl:243\n",
       "convert(::Type{Base.Dates.Month},x::Base.Dates.Year) at dates/periods.jl:263\n",
       "convert(::Type{Base.Dates.Year},x::Base.Dates.Month) at dates/periods.jl:267\n",
       "convert(::Type{Base.Dates.DateTime},dt::Base.Dates.Date) at dates/conversions.jl:4\n",
       "convert(::Type{Base.Dates.Date},dt::Base.Dates.DateTime) at dates/conversions.jl:5\n",
       "convert{R<:Real}(::Type{R<:Real},x::Base.Dates.DateTime) at dates/conversions.jl:6\n",
       "convert{R<:Real}(::Type{R<:Real},x::Base.Dates.Date) at dates/conversions.jl:7\n",
       "convert(::Type{Ptr{UInt8}},zmsg::ZMQ.Message) at /home/luki/.julia/v0.4/ZMQ/src/ZMQ.jl:423\n",
       "convert(::Type{IOStream},zmsg::ZMQ.Message) at /home/luki/.julia/v0.4/ZMQ/src/ZMQ.jl:443\n",
       "convert{T}(::Type{T},x::T) at base.jl:36\n",
       "convert(T::(Any,Any...),x::(Any,Any...)) at base.jl:46"
      ]
     },
     "execution_count": 24,
     "metadata": {},
     "output_type": "execute_result"
    }
   ],
   "source": [
    "methods(convert)"
   ]
  }
 ],
 "metadata": {
  "kernelspec": {
   "display_name": "Julia 0.4.0-dev",
   "language": "julia",
   "name": "julia 0.4"
  },
  "language_info": {
   "name": "julia",
   "version": "0.4.0"
  }
 },
 "nbformat": 4,
 "nbformat_minor": 0
}
